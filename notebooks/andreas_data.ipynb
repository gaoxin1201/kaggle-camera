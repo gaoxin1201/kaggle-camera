{
 "cells": [
  {
   "cell_type": "markdown",
   "metadata": {},
   "source": [
    "### imports"
   ]
  },
  {
   "cell_type": "code",
   "execution_count": 1,
   "metadata": {
    "collapsed": true
   },
   "outputs": [],
   "source": [
    "import json\n",
    "import subprocess\n",
    "import numpy as np\n",
    "import matplotlib.pyplot as plt\n",
    "from PIL import Image\n",
    "from sklearn.model_selection import StratifiedKFold, StratifiedShuffleSplit\n",
    "import json\n",
    "import exifread\n",
    "import subprocess\n",
    "import numpy as np\n",
    "import matplotlib.pyplot as plt\n",
    "from PIL import Image\n",
    "\n",
    "import env\n",
    "from utils import KaggleCameraDataset, progress_iter, RNG\n",
    "\n",
    "%matplotlib inline\n",
    "%load_ext autoreload\n",
    "%autoreload 2"
   ]
  },
  {
   "cell_type": "markdown",
   "metadata": {},
   "source": [
    "### `N_IMAGES_NEEDED`"
   ]
  },
  {
   "cell_type": "code",
   "execution_count": 2,
   "metadata": {},
   "outputs": [
    {
     "data": {
      "text/plain": [
       "[3841, 4253, 4026, 4027, 4206, 3921, 3291, 4070, 3931, 3734]"
      ]
     },
     "execution_count": 2,
     "metadata": {},
     "output_type": "execute_result"
    }
   ],
   "source": [
    "MAX_IMAGES = 5000\n",
    "N_IMAGES = [991, 651, 767, 773, 595, 873, 1490, 751, 888, 1068]\n",
    "N_IMAGES = [x+y for x, y in zip(N_IMAGES, [198-30, 126-30, 237-30, 232-32, 229-30, 236-30, 249-30, 209-30, 214-33, 228-30])]\n",
    "N_IMAGES_NEEDED = [5000-x for x in N_IMAGES]\n",
    "N_IMAGES_NEEDED"
   ]
  },
  {
   "cell_type": "markdown",
   "metadata": {},
   "source": [
    "## some routines"
   ]
  },
  {
   "cell_type": "code",
   "execution_count": 3,
   "metadata": {
    "collapsed": true
   },
   "outputs": [],
   "source": [
    "def jpg_quality(filepath):\n",
    "    bash_cmd = \"identify -verbose {0} | grep Quality\".format(filepath)\n",
    "    process = subprocess.Popen(bash_cmd.split(), stdout=subprocess.PIPE)\n",
    "    output, error = process.communicate()\n",
    "    output = filter(lambda s: 'Quality' in s, output.split('\\n'))\n",
    "    if not output: \n",
    "        return None\n",
    "    return int(filter(lambda c: c.isdigit(), output[0]))"
   ]
  },
  {
   "cell_type": "code",
   "execution_count": 4,
   "metadata": {},
   "outputs": [
    {
     "data": {
      "text/plain": [
       "[(0, 'HTC-1-M7'),\n",
       " (1, 'LG-Nexus-5x'),\n",
       " (2, 'Motorola-Droid-Maxx'),\n",
       " (3, 'Motorola-Nexus-6'),\n",
       " (4, 'Motorola-X'),\n",
       " (5, 'Samsung-Galaxy-Note3'),\n",
       " (6, 'Samsung-Galaxy-S4'),\n",
       " (7, 'Sony-NEX-7'),\n",
       " (8, 'iPhone-4s'),\n",
       " (9, 'iPhone-6')]"
      ]
     },
     "execution_count": 4,
     "metadata": {},
     "output_type": "execute_result"
    }
   ],
   "source": [
    "list(enumerate(KaggleCameraDataset.target_labels()))"
   ]
  },
  {
   "cell_type": "code",
   "execution_count": 5,
   "metadata": {
    "collapsed": true
   },
   "outputs": [],
   "source": [
    "def resolutions(): # with all possible rotations\n",
    "    return [\n",
    "        [(1520, 2688), (2688, 1520)], # 0\n",
    "        [(3024, 4032), (4032, 3024)], # 1\n",
    "        [(2432, 4320), (4320, 2432)], # 2\n",
    "        [(1040, 780), (3088, 4130), (4130, 3088), (3120, 4160), (4160, 3120)], # 3\n",
    "        [(3120, 4160), (4160, 3120), (4160, 2340)], # 4\n",
    "        [(4128, 2322)], # 5\n",
    "        [(4128, 2322)], # 6\n",
    "        [(6000, 4000)], # 7\n",
    "        [(3264, 2448)], # 8\n",
    "        [(3264, 2448)], # 9\n",
    "    ]"
   ]
  },
  {
   "cell_type": "markdown",
   "metadata": {},
   "source": [
    "### load data"
   ]
  },
  {
   "cell_type": "code",
   "execution_count": 6,
   "metadata": {
    "collapsed": true
   },
   "outputs": [],
   "source": [
    "andreas_data = KaggleCameraDataset('../data/andreas/', train=True)"
   ]
  },
  {
   "cell_type": "markdown",
   "metadata": {},
   "source": [
    "## stats"
   ]
  },
  {
   "cell_type": "code",
   "execution_count": 7,
   "metadata": {
    "collapsed": true
   },
   "outputs": [],
   "source": [
    "def make_stats(dataset, c=None, partial_stats=None):\n",
    "    x_fpaths = dataset.X\n",
    "    stats = partial_stats or {}\n",
    "    for i in progress_iter(range(len(dataset)), verbose=True):\n",
    "        try:\n",
    "            if c is not None and dataset.y[i] != c:\n",
    "                continue\n",
    "            if partial_stats is not None and x_fpaths[i] in map(lambda d: d['x_fpath'], stats.values()):\n",
    "                continue\n",
    "            x, y = dataset[i]\n",
    "            x = np.asarray(x, dtype=np.uint8)\n",
    "            if len(x.shape) != 3 or x.shape[0] < 1024 or x.shape[1] < 1024:\n",
    "                continue\n",
    "            d = {}\n",
    "            d['x_fpath'] = x_fpaths[i]\n",
    "            d['y'] = y\n",
    "            d['res'] = (x.shape[0], x.shape[1])\n",
    "            d['res_valid'] = d['res'] in resolutions()[y]\n",
    "            d['quality'] = 95 # jpg_quality(x_fpaths[i])\n",
    "            stats[i] = d\n",
    "        except:\n",
    "            pass\n",
    "    return stats"
   ]
  },
  {
   "cell_type": "markdown",
   "metadata": {},
   "source": [
    "### class 1 Nexus 5 stats"
   ]
  },
  {
   "cell_type": "code",
   "execution_count": null,
   "metadata": {
    "collapsed": true
   },
   "outputs": [],
   "source": [
    "andreas_stats_1 = make_stats(andreas_data, c=1)"
   ]
  },
  {
   "cell_type": "code",
   "execution_count": null,
   "metadata": {
    "collapsed": true
   },
   "outputs": [],
   "source": [
    "print len(andreas_stats_1)\n",
    "print min(map(lambda d: d['quality'], andreas_stats_1.values()))\n",
    "print sum(map(lambda d: d['res_valid'], andreas_stats_1.values()))"
   ]
  },
  {
   "cell_type": "code",
   "execution_count": null,
   "metadata": {
    "collapsed": true
   },
   "outputs": [],
   "source": [
    "# with open('../data/andreas_stats_1.json', 'w') as f:\n",
    "#     json.dump(andreas_stats_1, f, indent=4, sort_keys=True)\n",
    "with open('../data/andreas_stats_1.json') as f:\n",
    "    andreas_stats_1 = json.load(f)"
   ]
  },
  {
   "cell_type": "markdown",
   "metadata": {},
   "source": [
    "### class 0 (HTC)"
   ]
  },
  {
   "cell_type": "code",
   "execution_count": null,
   "metadata": {
    "collapsed": true
   },
   "outputs": [],
   "source": [
    "andreas_stats_0 = make_stats(andreas_data, 0, andreas_stats_0)"
   ]
  },
  {
   "cell_type": "code",
   "execution_count": null,
   "metadata": {
    "collapsed": true
   },
   "outputs": [],
   "source": [
    "print len(andreas_stats_0)\n",
    "print min(map(lambda d: d['quality'], andreas_stats_0.values()))\n",
    "print sum(map(lambda d: d['res_valid'], andreas_stats_0.values()))"
   ]
  },
  {
   "cell_type": "code",
   "execution_count": null,
   "metadata": {
    "collapsed": true
   },
   "outputs": [],
   "source": [
    "# with open('../data/andreas_stats_0.json', 'w') as f:\n",
    "#     json.dump(andreas_stats_0, f, indent=4, sort_keys=True)\n",
    "with open('../data/andreas_stats_0.json') as f:\n",
    "    andreas_stats_0 = json.load(f)"
   ]
  },
  {
   "cell_type": "markdown",
   "metadata": {},
   "source": [
    "### class 9 (iPhone 6)"
   ]
  },
  {
   "cell_type": "code",
   "execution_count": null,
   "metadata": {
    "collapsed": true
   },
   "outputs": [],
   "source": [
    "andreas_stats_9 = make_stats(andreas_data, 9, andreas_stats_9)"
   ]
  },
  {
   "cell_type": "code",
   "execution_count": null,
   "metadata": {
    "collapsed": true
   },
   "outputs": [],
   "source": [
    "print len(andreas_stats_9)\n",
    "print min(map(lambda d: d['quality'], andreas_stats_9.values()))\n",
    "print sum(map(lambda d: d['res_valid'], andreas_stats_9.values()))"
   ]
  },
  {
   "cell_type": "code",
   "execution_count": null,
   "metadata": {
    "collapsed": true
   },
   "outputs": [],
   "source": [
    "# with open('../data/andreas_stats_9.json', 'w') as f:\n",
    "#     json.dump(andreas_stats_9, f, indent=4, sort_keys=True)\n",
    "with open('../data/andreas_stats_9.json') as f:\n",
    "    andreas_stats_9 = json.load(f)"
   ]
  },
  {
   "cell_type": "markdown",
   "metadata": {},
   "source": [
    "### class 2 (Droid Maxx)"
   ]
  },
  {
   "cell_type": "code",
   "execution_count": 126,
   "metadata": {},
   "outputs": [
    {
     "data": {
      "application/vnd.jupyter.widget-view+json": {
       "model_id": "0a1381dfa514435d964933cbf797d82d",
       "version_major": 2,
       "version_minor": 0
      },
      "text/plain": [
       "A Jupyter Widget"
      ]
     },
     "metadata": {},
     "output_type": "display_data"
    },
    {
     "name": "stdout",
     "output_type": "stream",
     "text": [
      "\n"
     ]
    }
   ],
   "source": [
    "andreas_stats_2 = make_stats(andreas_data, 2)"
   ]
  },
  {
   "cell_type": "code",
   "execution_count": 128,
   "metadata": {},
   "outputs": [
    {
     "name": "stdout",
     "output_type": "stream",
     "text": [
      "5660\n",
      "85\n",
      "5660\n"
     ]
    }
   ],
   "source": [
    "print len(andreas_stats_2)\n",
    "print min(map(lambda d: d['quality'], andreas_stats_2.values()))\n",
    "print sum(map(lambda d: d['res_valid'], andreas_stats_2.values()))"
   ]
  },
  {
   "cell_type": "code",
   "execution_count": 8,
   "metadata": {
    "collapsed": true
   },
   "outputs": [],
   "source": [
    "# with open('../data/andreas_stats_2.json', 'w') as f:\n",
    "#     json.dump(andreas_stats_2, f, indent=4, sort_keys=True)\n",
    "with open('../data/andreas_stats_2.json') as f:\n",
    "    andreas_stats_2 = json.load(f)"
   ]
  },
  {
   "cell_type": "markdown",
   "metadata": {},
   "source": [
    "### class 8 (iPhone 4S)"
   ]
  },
  {
   "cell_type": "code",
   "execution_count": 133,
   "metadata": {},
   "outputs": [
    {
     "data": {
      "application/vnd.jupyter.widget-view+json": {
       "model_id": "f516ee697a6843a6ab64c71dc4eb9d97",
       "version_major": 2,
       "version_minor": 0
      },
      "text/plain": [
       "A Jupyter Widget"
      ]
     },
     "metadata": {},
     "output_type": "display_data"
    },
    {
     "name": "stdout",
     "output_type": "stream",
     "text": [
      "9098/|/ 58%|| 9098/15691 [00:20<00:14, 454.10it/s]\n"
     ]
    }
   ],
   "source": [
    "andreas_stats_8 = make_stats(andreas_data, 8)"
   ]
  },
  {
   "cell_type": "code",
   "execution_count": 8,
   "metadata": {},
   "outputs": [
    {
     "name": "stdout",
     "output_type": "stream",
     "text": [
      "6575\n",
      "None\n",
      "1803\n"
     ]
    }
   ],
   "source": [
    "print len(andreas_stats_8)\n",
    "print min(map(lambda d: d['quality'], andreas_stats_8.values()))\n",
    "print sum(map(lambda d: d['res_valid'], andreas_stats_8.values()))\n",
    "\n",
    "# with open('../data/andreas_stats_8.json', 'w') as f:\n",
    "#     json.dump(andreas_stats_8, f, indent=4, sort_keys=True)\n",
    "with open('../data/andreas_stats_8.json') as f:\n",
    "    andreas_stats_8 = json.load(f)"
   ]
  },
  {
   "cell_type": "markdown",
   "metadata": {},
   "source": [
    "### class 6 (S4)"
   ]
  },
  {
   "cell_type": "code",
   "execution_count": 136,
   "metadata": {},
   "outputs": [
    {
     "data": {
      "application/vnd.jupyter.widget-view+json": {
       "model_id": "623c57ffd74b4f2ba09cd7fced574b76",
       "version_major": 2,
       "version_minor": 0
      },
      "text/plain": [
       "A Jupyter Widget"
      ]
     },
     "metadata": {},
     "output_type": "display_data"
    },
    {
     "name": "stdout",
     "output_type": "stream",
     "text": [
      "5663/|/ 22%|| 5663/25514 [00:20<01:10, 281.75it/s]\n"
     ]
    }
   ],
   "source": [
    "andreas_stats_6 = make_stats(andreas_data, 6)"
   ]
  },
  {
   "cell_type": "code",
   "execution_count": 22,
   "metadata": {
    "collapsed": true
   },
   "outputs": [],
   "source": [
    "# print len(andreas_stats_6)\n",
    "# print min(map(lambda d: d['quality'], andreas_stats_6.values()))\n",
    "# print sum(map(lambda d: d['res_valid'], andreas_stats_6.values()))\n",
    "\n",
    "# with open('../data/andreas_stats_6.json', 'w') as f:\n",
    "#     json.dump(andreas_stats_6, f, indent=4, sort_keys=True)\n",
    "with open('../data/andreas_stats_6.json') as f:\n",
    "    andreas_stats_6 = json.load(f)"
   ]
  },
  {
   "cell_type": "markdown",
   "metadata": {},
   "source": [
    "### class 3"
   ]
  },
  {
   "cell_type": "code",
   "execution_count": 6,
   "metadata": {
    "collapsed": true
   },
   "outputs": [],
   "source": [
    "# andreas_stats_3 = make_stats(andreas_data, 3)\n",
    "\n",
    "# print len(andreas_stats_3)\n",
    "# print min(map(lambda d: d['quality'], andreas_stats_3.values()))\n",
    "# print sum(map(lambda d: d['res_valid'], andreas_stats_3.values()))\n",
    "\n",
    "# with open('../data/andreas_stats_3.json', 'w') as f:\n",
    "#     json.dump(andreas_stats_3, f, indent=4, sort_keys=True)\n",
    "with open('../data/andreas_stats_3.json') as f:\n",
    "    andreas_stats_3 = json.load(f)"
   ]
  },
  {
   "cell_type": "markdown",
   "metadata": {},
   "source": [
    "### class 5"
   ]
  },
  {
   "cell_type": "code",
   "execution_count": 18,
   "metadata": {
    "collapsed": true
   },
   "outputs": [],
   "source": [
    "# andreas_stats_5 = make_stats(andreas_data, 5)\n",
    "\n",
    "# print len(andreas_stats_5)\n",
    "# print min(map(lambda d: d['quality'], andreas_stats_5.values()))\n",
    "# print sum(map(lambda d: d['res_valid'], andreas_stats_5.values()))\n",
    "\n",
    "# with open('../data/andreas_stats_5.json', 'w') as f:\n",
    "#     json.dump(andreas_stats_5, f, indent=4, sort_keys=True)\n",
    "with open('../data/andreas_stats_5.json') as f:\n",
    "    andreas_stats_5 = json.load(f)"
   ]
  },
  {
   "cell_type": "markdown",
   "metadata": {},
   "source": [
    "### class 7"
   ]
  },
  {
   "cell_type": "code",
   "execution_count": 8,
   "metadata": {},
   "outputs": [
    {
     "data": {
      "application/vnd.jupyter.widget-view+json": {
       "model_id": "d072cf3dea3c4ceb9b0fe1086c0aa833",
       "version_major": 2,
       "version_minor": 0
      },
      "text/plain": [
       "A Jupyter Widget"
      ]
     },
     "metadata": {},
     "output_type": "display_data"
    },
    {
     "name": "stdout",
     "output_type": "stream",
     "text": [
      "\n",
      "2076\n",
      "95\n",
      "205\n"
     ]
    }
   ],
   "source": [
    "andreas_stats_7 = make_stats(andreas_data, 7)\n",
    "\n",
    "print len(andreas_stats_7)\n",
    "print min(map(lambda d: d['quality'], andreas_stats_7.values()))\n",
    "print sum(map(lambda d: d['res_valid'], andreas_stats_7.values()))\n",
    "\n",
    "with open('../data/andreas_stats_7.json', 'w') as f:\n",
    "    json.dump(andreas_stats_7, f, indent=4, sort_keys=True)\n",
    "with open('../data/andreas_stats_7.json') as f:\n",
    "    andreas_stats_7 = json.load(f)"
   ]
  },
  {
   "cell_type": "markdown",
   "metadata": {},
   "source": [
    "# filter according to quality"
   ]
  },
  {
   "cell_type": "code",
   "execution_count": null,
   "metadata": {
    "collapsed": true
   },
   "outputs": [],
   "source": [
    "QUALITY_THRESHOLD = 93 # 95 !!!"
   ]
  },
  {
   "cell_type": "markdown",
   "metadata": {},
   "source": [
    "### class 1"
   ]
  },
  {
   "cell_type": "code",
   "execution_count": null,
   "metadata": {
    "collapsed": true
   },
   "outputs": [],
   "source": [
    "train_1 = []\n",
    "for i, d in sorted(andreas_stats_1.items()):\n",
    "    if d['quality'] and d['quality'] >= QUALITY_THRESHOLD:\n",
    "        train_1.append((d['x_fpath'], d['y'], d['quality'], d['res'], d['res_valid']))\n",
    "print len(train_1)"
   ]
  },
  {
   "cell_type": "markdown",
   "metadata": {},
   "source": [
    "### class 0"
   ]
  },
  {
   "cell_type": "code",
   "execution_count": null,
   "metadata": {
    "collapsed": true
   },
   "outputs": [],
   "source": [
    "train_0 = []\n",
    "for i, d in sorted(andreas_stats_0.items()):\n",
    "    if d['quality'] and d['quality'] >= 95: # QUALITY_THRESHOLD:\n",
    "        train_0.append((d['x_fpath'], d['y'], d['quality'], d['res'], d['res_valid']))\n",
    "print len(train_0)"
   ]
  },
  {
   "cell_type": "markdown",
   "metadata": {},
   "source": [
    "### class 9"
   ]
  },
  {
   "cell_type": "code",
   "execution_count": null,
   "metadata": {
    "collapsed": true
   },
   "outputs": [],
   "source": [
    "train_9 = []\n",
    "for i, d in sorted(andreas_stats_9.items()):\n",
    "    if d['quality'] and d['quality'] >= QUALITY_THRESHOLD:\n",
    "        train_9.append((d['x_fpath'], d['y'], d['quality'], d['res'], d['res_valid']))\n",
    "print len(train_9)"
   ]
  },
  {
   "cell_type": "markdown",
   "metadata": {},
   "source": [
    "### class 2"
   ]
  },
  {
   "cell_type": "code",
   "execution_count": 9,
   "metadata": {},
   "outputs": [
    {
     "name": "stdout",
     "output_type": "stream",
     "text": [
      "5355\n"
     ]
    }
   ],
   "source": [
    "train_2 = []\n",
    "for i, d in sorted(andreas_stats_2.items()):\n",
    "    if d['quality'] and d['quality'] >= 95: # QUALITY_THRESHOLD:\n",
    "        train_2.append((d['x_fpath'], d['y'], d['quality'], d['res'], d['res_valid']))\n",
    "print len(train_2)"
   ]
  },
  {
   "cell_type": "markdown",
   "metadata": {},
   "source": [
    "### class 6"
   ]
  },
  {
   "cell_type": "code",
   "execution_count": 32,
   "metadata": {},
   "outputs": [
    {
     "name": "stdout",
     "output_type": "stream",
     "text": [
      "3149\n"
     ]
    }
   ],
   "source": [
    "train_6 = []\n",
    "for i, d in sorted(andreas_stats_6.items()):\n",
    "    if d['quality'] and d['quality'] >= 95: # QUALITY_THRESHOLD:\n",
    "        train_6.append((d['x_fpath'], d['y'], d['quality'], d['res'], d['res_valid']))\n",
    "print len(train_6)"
   ]
  },
  {
   "cell_type": "markdown",
   "metadata": {},
   "source": [
    "### class 8"
   ]
  },
  {
   "cell_type": "code",
   "execution_count": 12,
   "metadata": {},
   "outputs": [
    {
     "name": "stdout",
     "output_type": "stream",
     "text": [
      "5809\n"
     ]
    }
   ],
   "source": [
    "train_8 = []\n",
    "for i, d in sorted(andreas_stats_8.items()):\n",
    "    if d['quality'] and d['quality'] >= 96: # QUALITY_THRESHOLD:\n",
    "        train_8.append((d['x_fpath'], d['y'], d['quality'], d['res'], d['res_valid']))\n",
    "print len(train_8)"
   ]
  },
  {
   "cell_type": "markdown",
   "metadata": {},
   "source": [
    "### class 3"
   ]
  },
  {
   "cell_type": "code",
   "execution_count": 7,
   "metadata": {},
   "outputs": [
    {
     "name": "stdout",
     "output_type": "stream",
     "text": [
      "3060\n"
     ]
    }
   ],
   "source": [
    "train_3 = []\n",
    "for i, d in sorted(andreas_stats_3.items()):\n",
    "    if d['quality'] and d['quality'] >= 95: # QUALITY_THRESHOLD:\n",
    "        train_3.append((d['x_fpath'], d['y'], d['quality'], d['res'], d['res_valid']))\n",
    "print len(train_3)"
   ]
  },
  {
   "cell_type": "markdown",
   "metadata": {},
   "source": [
    "### class 5"
   ]
  },
  {
   "cell_type": "code",
   "execution_count": 25,
   "metadata": {},
   "outputs": [
    {
     "name": "stdout",
     "output_type": "stream",
     "text": [
      "3653\n"
     ]
    }
   ],
   "source": [
    "train_5 = []\n",
    "for i, d in sorted(andreas_stats_5.items()):\n",
    "    if d['quality'] and d['quality'] >= 95: # QUALITY_THRESHOLD:\n",
    "        train_5.append((d['x_fpath'], d['y'], d['quality'], d['res'], d['res_valid']))\n",
    "print len(train_5)"
   ]
  },
  {
   "cell_type": "markdown",
   "metadata": {},
   "source": [
    "### class 7"
   ]
  },
  {
   "cell_type": "code",
   "execution_count": 9,
   "metadata": {},
   "outputs": [
    {
     "name": "stdout",
     "output_type": "stream",
     "text": [
      "2076\n"
     ]
    }
   ],
   "source": [
    "train_7 = []\n",
    "for i, d in sorted(andreas_stats_7.items()):\n",
    "    if d['quality'] and d['quality'] >= 95: # QUALITY_THRESHOLD:\n",
    "        train_7.append((d['x_fpath'], d['y'], d['quality'], d['res'], d['res_valid']))\n",
    "print len(train_7)"
   ]
  },
  {
   "cell_type": "markdown",
   "metadata": {},
   "source": [
    "# filter according to resolutions"
   ]
  },
  {
   "cell_type": "code",
   "execution_count": 11,
   "metadata": {
    "collapsed": true
   },
   "outputs": [],
   "source": [
    "def distance(res, c):\n",
    "    return min(min([np.sqrt((res[0]-r[0])**2+(res[1]-r[1])**2) for r in resolutions()[c]]),\n",
    "               min([np.sqrt((res[0]-r[1])**2+(res[1]-r[0])**2) for r in resolutions()[c]]))"
   ]
  },
  {
   "cell_type": "markdown",
   "metadata": {},
   "source": [
    "### class 1"
   ]
  },
  {
   "cell_type": "code",
   "execution_count": null,
   "metadata": {
    "collapsed": true
   },
   "outputs": [],
   "source": [
    "filter(lambda (x,y,q,r,rv): not rv, train_1)"
   ]
  },
  {
   "cell_type": "markdown",
   "metadata": {},
   "source": [
    "### class 0"
   ]
  },
  {
   "cell_type": "code",
   "execution_count": null,
   "metadata": {
    "collapsed": true
   },
   "outputs": [],
   "source": [
    "filter(lambda (x,y,q,r,rv): not rv, train_0)"
   ]
  },
  {
   "cell_type": "markdown",
   "metadata": {},
   "source": [
    "### class 9"
   ]
  },
  {
   "cell_type": "code",
   "execution_count": null,
   "metadata": {
    "collapsed": true
   },
   "outputs": [],
   "source": [
    "incorrect = filter(lambda (x,y,q,r,rv): not rv, train_9)\n",
    "print len(incorrect)\n",
    "dists = map(lambda (x,y,q,r,rv): distance(r, 9), incorrect)\n",
    "dists.sort()\n",
    "plt.hist(dists, bins=24);"
   ]
  },
  {
   "cell_type": "code",
   "execution_count": null,
   "metadata": {
    "collapsed": true
   },
   "outputs": [],
   "source": [
    "dists[:10]"
   ]
  },
  {
   "cell_type": "code",
   "execution_count": null,
   "metadata": {
    "collapsed": true
   },
   "outputs": [],
   "source": [
    "print len(train_9)\n",
    "train_9 = filter(lambda (x,y,q,r,rv): rv or (not rv and (np.abs(distance(r, 9)) < 0.01)), train_9)\n",
    "print len(train_9)"
   ]
  },
  {
   "cell_type": "markdown",
   "metadata": {},
   "source": [
    "### class 2"
   ]
  },
  {
   "cell_type": "code",
   "execution_count": 10,
   "metadata": {},
   "outputs": [
    {
     "data": {
      "text/plain": [
       "[]"
      ]
     },
     "execution_count": 10,
     "metadata": {},
     "output_type": "execute_result"
    }
   ],
   "source": [
    "filter(lambda (x,y,q,r,rv): not rv, train_2)"
   ]
  },
  {
   "cell_type": "markdown",
   "metadata": {},
   "source": [
    "### class 6"
   ]
  },
  {
   "cell_type": "code",
   "execution_count": 33,
   "metadata": {},
   "outputs": [
    {
     "name": "stdout",
     "output_type": "stream",
     "text": [
      "3108\n"
     ]
    },
    {
     "data": {
      "image/png": "[encoded data removed]",
      "text/plain": [
       "<matplotlib.figure.Figure at 0x7fefb71a0950>"
      ]
     },
     "metadata": {},
     "output_type": "display_data"
    }
   ],
   "source": [
    "incorrect = filter(lambda (x,y,q,r,rv): not rv, train_6)\n",
    "print len(incorrect)\n",
    "dists = map(lambda (x,y,q,r,rv): distance(r, 6), incorrect)\n",
    "dists.sort()\n",
    "plt.hist(dists, bins=24);"
   ]
  },
  {
   "cell_type": "code",
   "execution_count": 34,
   "metadata": {},
   "outputs": [
    {
     "name": "stdout",
     "output_type": "stream",
     "text": [
      "3149\n",
      "2915\n"
     ]
    }
   ],
   "source": [
    "print len(train_6)\n",
    "train_6 = filter(lambda (x,y,q,r,rv): rv or (not rv and (np.abs(distance(r, 6)) < 0.01)), train_6)\n",
    "print len(train_6)"
   ]
  },
  {
   "cell_type": "markdown",
   "metadata": {},
   "source": [
    "### class 8"
   ]
  },
  {
   "cell_type": "code",
   "execution_count": 14,
   "metadata": {},
   "outputs": [
    {
     "name": "stdout",
     "output_type": "stream",
     "text": [
      "5809\n",
      "5809\n"
     ]
    }
   ],
   "source": [
    "print len(train_8)\n",
    "train_8 = filter(lambda (x,y,q,r,rv): rv or (not rv and (np.abs(distance(r, 8)) < 0.01)), train_8)\n",
    "print len(train_8)"
   ]
  },
  {
   "cell_type": "markdown",
   "metadata": {},
   "source": [
    "### class 3"
   ]
  },
  {
   "cell_type": "code",
   "execution_count": 10,
   "metadata": {},
   "outputs": [
    {
     "name": "stdout",
     "output_type": "stream",
     "text": [
      "3060\n",
      "1893\n"
     ]
    }
   ],
   "source": [
    "print len(train_3)\n",
    "train_3 = filter(lambda (x,y,q,r,rv): rv or (not rv and (np.abs(distance(r, 3)) < 0.01)), train_3)\n",
    "print len(train_3)"
   ]
  },
  {
   "cell_type": "markdown",
   "metadata": {},
   "source": [
    "### class 5"
   ]
  },
  {
   "cell_type": "code",
   "execution_count": 26,
   "metadata": {},
   "outputs": [
    {
     "name": "stdout",
     "output_type": "stream",
     "text": [
      "3652\n"
     ]
    },
    {
     "data": {
      "image/png": "[encoded data removed]",
      "text/plain": [
       "<matplotlib.figure.Figure at 0x7f7f46923110>"
      ]
     },
     "metadata": {},
     "output_type": "display_data"
    }
   ],
   "source": [
    "incorrect = filter(lambda (x,y,q,r,rv): not rv, train_5)\n",
    "print len(incorrect)\n",
    "dists = map(lambda (x,y,q,r,rv): distance(r, 5), incorrect)\n",
    "dists.sort()\n",
    "plt.hist(dists, bins=24);"
   ]
  },
  {
   "cell_type": "code",
   "execution_count": 27,
   "metadata": {},
   "outputs": [
    {
     "name": "stdout",
     "output_type": "stream",
     "text": [
      "3653\n",
      "2015\n"
     ]
    }
   ],
   "source": [
    "print len(train_5)\n",
    "train_5 = filter(lambda (x,y,q,r,rv): rv or (not rv and (np.abs(distance(r, 5)) < 0.1)), train_5)\n",
    "print len(train_5)"
   ]
  },
  {
   "cell_type": "markdown",
   "metadata": {},
   "source": [
    "### class 7"
   ]
  },
  {
   "cell_type": "code",
   "execution_count": 12,
   "metadata": {},
   "outputs": [
    {
     "name": "stdout",
     "output_type": "stream",
     "text": [
      "1871\n"
     ]
    },
    {
     "data": {
      "image/png": "[encoded data removed]",
      "text/plain": [
       "<matplotlib.figure.Figure at 0x7fe67cfa46d0>"
      ]
     },
     "metadata": {},
     "output_type": "display_data"
    }
   ],
   "source": [
    "incorrect = filter(lambda (x,y,q,r,rv): not rv, train_7)\n",
    "print len(incorrect)\n",
    "dists = map(lambda (x,y,q,r,rv): distance(r, 7), incorrect)\n",
    "dists.sort()\n",
    "plt.hist(dists, bins=24);"
   ]
  },
  {
   "cell_type": "code",
   "execution_count": 13,
   "metadata": {},
   "outputs": [
    {
     "name": "stdout",
     "output_type": "stream",
     "text": [
      "2076\n",
      "2076\n"
     ]
    }
   ],
   "source": [
    "print len(train_7)\n",
    "train_7 = filter(lambda (x,y,q,r,rv): rv or (not rv and (np.abs(distance(r, 7)) < 0.1)), train_7)\n",
    "print len(train_7)"
   ]
  },
  {
   "cell_type": "markdown",
   "metadata": {},
   "source": [
    "# filter according to EXIF data"
   ]
  },
  {
   "cell_type": "markdown",
   "metadata": {},
   "source": [
    "### class 1"
   ]
  },
  {
   "cell_type": "code",
   "execution_count": null,
   "metadata": {
    "collapsed": true
   },
   "outputs": [],
   "source": [
    "train = train_1\n",
    "train_with_exif = []\n",
    "for x,y,q,r,rv in progress_iter(train, True):\n",
    "    tags = exifread.process_file(open(x, 'rb'))\n",
    "    train_with_exif.append((x,y,q,r,rv,tags))\n",
    "train_1 = train_with_exif"
   ]
  },
  {
   "cell_type": "code",
   "execution_count": null,
   "metadata": {
    "collapsed": true
   },
   "outputs": [],
   "source": [
    "print len(train_1)"
   ]
  },
  {
   "cell_type": "code",
   "execution_count": null,
   "metadata": {
    "collapsed": true
   },
   "outputs": [],
   "source": []
  },
  {
   "cell_type": "code",
   "execution_count": null,
   "metadata": {
    "collapsed": true
   },
   "outputs": [],
   "source": [
    "print list(set([str(t['Image Make']) for x,y,q,r,rv,t in train_1]))\n",
    "print list(set([str(t['Image Model']) for x,y,q,r,rv,t in train_1]))"
   ]
  },
  {
   "cell_type": "code",
   "execution_count": null,
   "metadata": {
    "collapsed": true
   },
   "outputs": [],
   "source": [
    "c = 1\n",
    "c1 = lambda t: 'EXIF ExifImageWidth' in t\n",
    "c2 = lambda t: 'EXIF ExifImageLength' in t\n",
    "c3 = lambda t: distance((int(str(t['EXIF ExifImageWidth'])), int(str(t['EXIF ExifImageLength']))), c) < 0.1\n",
    "cond = [\n",
    "    lambda t: 'Image Make' in t and str(t['Image Make']) in ['Huawei', 'LGE'],\n",
    "    lambda t: 'Image Model' in t and str(t['Image Model']) in ['Nexus 5X', 'Nexus 6P'],\n",
    "#     lambda t: c1(t) and c2(t) and c3(t),\n",
    "#     lambda t: 'Image Orientation' in t and str(t['Image Orientation']) == 'Horizontal (normal)'\n",
    "]\n",
    "all_cond = lambda (x,y,q,r,rv,t): all(map(lambda c: c(t), cond))\n",
    "print len(filter(all_cond, train_1))"
   ]
  },
  {
   "cell_type": "code",
   "execution_count": null,
   "metadata": {
    "collapsed": true
   },
   "outputs": [],
   "source": [
    "print len(train_1)\n",
    "train_1 = filter(all_cond, train_1)\n",
    "print len(train_1)"
   ]
  },
  {
   "cell_type": "markdown",
   "metadata": {},
   "source": [
    "### class 0"
   ]
  },
  {
   "cell_type": "code",
   "execution_count": null,
   "metadata": {
    "collapsed": true
   },
   "outputs": [],
   "source": [
    "train = train_0\n",
    "train_with_exif = []\n",
    "for x,y,q,r,rv in progress_iter(train, True):\n",
    "    tags = exifread.process_file(open(x, 'rb'))\n",
    "    train_with_exif.append((x,y,q,r,rv,tags))\n",
    "train_0 = train_with_exif"
   ]
  },
  {
   "cell_type": "code",
   "execution_count": null,
   "metadata": {
    "collapsed": true
   },
   "outputs": [],
   "source": [
    "c = 0\n",
    "c1 = lambda t: 'EXIF ExifImageWidth' in t\n",
    "c2 = lambda t: 'EXIF ExifImageLength' in t\n",
    "c3 = lambda t: np.abs(distance((int(str(t['EXIF ExifImageWidth'])), int(str(t['EXIF ExifImageLength']))), c)) < 0.01\n",
    "cond = [\n",
    "    lambda t: str(t['Image Make']) == 'HTC',\n",
    "    lambda t: str(t['Image Model']) == 'HTC One',\n",
    "    lambda t: c1(t) and c2(t) and c3(t),\n",
    "    lambda t: 'Image Orientation' in t and str(t['Image Orientation']) == 'Horizontal (normal)'\n",
    "]\n",
    "all_cond = lambda (x,y,q,r,rv,t): all(map(lambda c: c(t), cond))\n",
    "print len(filter(all_cond, train_0))"
   ]
  },
  {
   "cell_type": "code",
   "execution_count": null,
   "metadata": {
    "collapsed": true
   },
   "outputs": [],
   "source": [
    "print len(train_0)\n",
    "train_0 = filter(all_cond, train_0)\n",
    "print len(train_0)"
   ]
  },
  {
   "cell_type": "markdown",
   "metadata": {},
   "source": [
    "### class 9"
   ]
  },
  {
   "cell_type": "code",
   "execution_count": null,
   "metadata": {
    "collapsed": true
   },
   "outputs": [],
   "source": [
    "train = train_9\n",
    "train_with_exif = []\n",
    "for x,y,q,r,rv in progress_iter(train, True):\n",
    "    tags = exifread.process_file(open(x, 'rb'))\n",
    "    train_with_exif.append((x,y,q,r,rv,tags))\n",
    "train_9 = train_with_exif"
   ]
  },
  {
   "cell_type": "code",
   "execution_count": null,
   "metadata": {
    "collapsed": true
   },
   "outputs": [],
   "source": [
    "c = 9\n",
    "\n",
    "def f(v):\n",
    "    return float(str(v).replace(', 0]', '').replace('[', ''))\n",
    "\n",
    "c1 = lambda t: 'EXIF ExifImageWidth' in t\n",
    "c2 = lambda t: 'EXIF ExifImageLength' in t\n",
    "c3 = lambda t: np.abs(distance((f(t['EXIF ExifImageWidth']), f(t['EXIF ExifImageLength'])), c)) < 0.1\n",
    "cond = [\n",
    "    lambda t: 'Image Make' in t and str(t['Image Make']) == 'Apple',\n",
    "    lambda t: 'Image Model' in t and str(t['Image Model']) == 'iPhone 6',\n",
    "    lambda t: 'EXIF LensMake' in t and str(t['EXIF LensMake']) == 'Apple',\n",
    "    lambda t: 'EXIF LensModel' in t and str(t['EXIF LensModel']) == 'iPhone 6 back camera 4.15mm f/2.2',\n",
    "    lambda t: c1(t) and c2(t) and c3(t),\n",
    "#     lambda t: 'Image Orientation' in t and str(t['Image Orientation']) == 'Horizontal (normal)'\n",
    "]\n",
    "all_cond = lambda (x,y,q,r,rv,t): all(map(lambda c: c(t), cond))\n",
    "print len(filter(all_cond, train_9))"
   ]
  },
  {
   "cell_type": "markdown",
   "metadata": {},
   "source": [
    "### class 2"
   ]
  },
  {
   "cell_type": "code",
   "execution_count": 11,
   "metadata": {},
   "outputs": [
    {
     "data": {
      "application/vnd.jupyter.widget-view+json": {
       "model_id": "93d79bcb14364723a36d5ff3475422f3",
       "version_major": 2,
       "version_minor": 0
      },
      "text/plain": [
       "A Jupyter Widget"
      ]
     },
     "metadata": {},
     "output_type": "display_data"
    },
    {
     "name": "stdout",
     "output_type": "stream",
     "text": [
      "\n"
     ]
    }
   ],
   "source": [
    "train = train_2\n",
    "train_with_exif = []\n",
    "for x,y,q,r,rv in progress_iter(train, True):\n",
    "    tags = exifread.process_file(open(x, 'rb'))\n",
    "    train_with_exif.append((x,y,q,r,rv,tags))\n",
    "train_2 = train_with_exif"
   ]
  },
  {
   "cell_type": "code",
   "execution_count": 14,
   "metadata": {},
   "outputs": [
    {
     "name": "stdout",
     "output_type": "stream",
     "text": [
      "5355\n"
     ]
    }
   ],
   "source": [
    "c = 2\n",
    "c1 = lambda t: 'EXIF ExifImageWidth' in t\n",
    "c2 = lambda t: 'EXIF ExifImageLength' in t\n",
    "c3 = lambda t: np.abs(distance((float(str(t['EXIF ExifImageWidth'])), float(str(t['EXIF ExifImageLength']))), c)) < 0.01\n",
    "cond = [\n",
    "    lambda t: 'Image Make' in t and str(t['Image Make']) == 'Motorola',\n",
    "    lambda t: 'Image Model' in t and str(t['Image Model']) == 'XT1080',\n",
    "    lambda t: c1(t) and c2(t) and c3(t),\n",
    "#     lambda t: 'Image Orientation' in t and str(t['Image Orientation']) == 'Horizontal (normal)'\n",
    "]\n",
    "all_cond = lambda (x,y,q,r,rv,t): all(map(lambda c: c(t), cond))\n",
    "print len(filter(all_cond, train_2))"
   ]
  },
  {
   "cell_type": "code",
   "execution_count": 15,
   "metadata": {},
   "outputs": [
    {
     "name": "stdout",
     "output_type": "stream",
     "text": [
      "5355\n",
      "5355\n"
     ]
    }
   ],
   "source": [
    "print len(train_2)\n",
    "train_2 = filter(all_cond, train_2)\n",
    "print len(train_2)"
   ]
  },
  {
   "cell_type": "markdown",
   "metadata": {},
   "source": [
    "### class 6"
   ]
  },
  {
   "cell_type": "code",
   "execution_count": 36,
   "metadata": {},
   "outputs": [
    {
     "data": {
      "application/vnd.jupyter.widget-view+json": {
       "model_id": "ac658b6f832048f5bc6f1c6a92b9af45",
       "version_major": 2,
       "version_minor": 0
      },
      "text/plain": [
       "A Jupyter Widget"
      ]
     },
     "metadata": {},
     "output_type": "display_data"
    },
    {
     "name": "stdout",
     "output_type": "stream",
     "text": [
      "\n"
     ]
    }
   ],
   "source": [
    "train = train_6\n",
    "train_with_exif = []\n",
    "for x,y,q,r,rv in progress_iter(train, True):\n",
    "    tags = exifread.process_file(open(x, 'rb'))\n",
    "    train_with_exif.append((x,y,q,r,rv,tags))\n",
    "train_6 = train_with_exif"
   ]
  },
  {
   "cell_type": "code",
   "execution_count": 38,
   "metadata": {
    "collapsed": true
   },
   "outputs": [],
   "source": [
    "def f(v):\n",
    "    return float(str(v).replace(', 0]', '').replace('[', ''))"
   ]
  },
  {
   "cell_type": "code",
   "execution_count": 39,
   "metadata": {},
   "outputs": [
    {
     "name": "stdout",
     "output_type": "stream",
     "text": [
      "2912\n"
     ]
    }
   ],
   "source": [
    "c = 6\n",
    "c1 = lambda t: 'EXIF ExifImageWidth' in t\n",
    "c2 = lambda t: 'EXIF ExifImageLength' in t\n",
    "c3 = lambda t: np.abs(distance((f(t['EXIF ExifImageWidth']), f(t['EXIF ExifImageLength'])), c)) < 0.1\n",
    "cond = [\n",
    "    lambda t: 'Image Make' in t and str(t['Image Make']).lower() == 'samsung',\n",
    "    lambda t: 'Image Model' in t and str(t['Image Model']) in ['GT-I9505', 'SCH-I545', 'GT-I9500'],\n",
    "    lambda t: c1(t) and c2(t) and c3(t),\n",
    "#     lambda t: 'Image Orientation' in t and str(t['Image Orientation']) == 'Horizontal (normal)'\n",
    "]\n",
    "all_cond = lambda (x,y,q,r,rv,t): all(map(lambda c: c(t), cond))\n",
    "print len(filter(all_cond, train_6))"
   ]
  },
  {
   "cell_type": "markdown",
   "metadata": {},
   "source": [
    "### class 8"
   ]
  },
  {
   "cell_type": "code",
   "execution_count": 16,
   "metadata": {},
   "outputs": [
    {
     "data": {
      "application/vnd.jupyter.widget-view+json": {
       "model_id": "bf1f6eb634334091967a794cbe7c9b82",
       "version_major": 2,
       "version_minor": 0
      },
      "text/plain": [
       "A Jupyter Widget"
      ]
     },
     "metadata": {},
     "output_type": "display_data"
    },
    {
     "name": "stdout",
     "output_type": "stream",
     "text": [
      "\n"
     ]
    },
    {
     "name": "stderr",
     "output_type": "stream",
     "text": [
      "No handlers could be found for logger \"exifread\"\n"
     ]
    }
   ],
   "source": [
    "train = train_8\n",
    "train_with_exif = []\n",
    "for x,y,q,r,rv in progress_iter(train, True):\n",
    "    try:\n",
    "        tags = exifread.process_file(open(x, 'rb'))\n",
    "        train_with_exif.append((x,y,q,r,rv,tags))\n",
    "    except:\n",
    "        pass\n",
    "train_8 = train_with_exif"
   ]
  },
  {
   "cell_type": "code",
   "execution_count": 17,
   "metadata": {},
   "outputs": [
    {
     "name": "stdout",
     "output_type": "stream",
     "text": [
      "4596\n"
     ]
    }
   ],
   "source": [
    "c = 8\n",
    "\n",
    "def f(v):\n",
    "    return float(str(v).replace(', 0]', '').replace('[', ''))\n",
    "\n",
    "c1 = lambda t: 'EXIF ExifImageWidth' in t\n",
    "c2 = lambda t: 'EXIF ExifImageLength' in t\n",
    "c3 = lambda t: np.abs(distance((f(t['EXIF ExifImageWidth']), f(t['EXIF ExifImageLength'])), c)) < 0.01\n",
    "cond = [\n",
    "    lambda t: 'Image Make' in t and str(t['Image Make']) == 'Apple',\n",
    "    lambda t: 'Image Model' in t and str(t['Image Model']) == 'iPhone 4S',\n",
    "    lambda t: 'EXIF LensMake' in t and str(t['EXIF LensMake']) == 'Apple',\n",
    "    lambda t: 'EXIF LensModel' in t and str(t['EXIF LensModel']) == 'iPhone 4S back camera 4.28mm f/2.4',\n",
    "    lambda t: c1(t) and c2(t) and c3(t),\n",
    "#     lambda t: 'Image Orientation' in t and str(t['Image Orientation']) == 'Horizontal (normal)'\n",
    "]\n",
    "all_cond = lambda (x,y,q,r,rv,t): all(map(lambda c: c(t), cond))\n",
    "print len(filter(all_cond, train_8))"
   ]
  },
  {
   "cell_type": "code",
   "execution_count": 18,
   "metadata": {},
   "outputs": [
    {
     "name": "stdout",
     "output_type": "stream",
     "text": [
      "5807\n",
      "4596\n"
     ]
    }
   ],
   "source": [
    "print len(train_8)\n",
    "train_8 = filter(all_cond, train_8)\n",
    "print len(train_8)"
   ]
  },
  {
   "cell_type": "markdown",
   "metadata": {},
   "source": [
    "### class 3"
   ]
  },
  {
   "cell_type": "code",
   "execution_count": 11,
   "metadata": {},
   "outputs": [
    {
     "data": {
      "application/vnd.jupyter.widget-view+json": {
       "model_id": "41684bded76743228177b4e91b6a985a",
       "version_major": 2,
       "version_minor": 0
      },
      "text/plain": [
       "A Jupyter Widget"
      ]
     },
     "metadata": {},
     "output_type": "display_data"
    },
    {
     "name": "stdout",
     "output_type": "stream",
     "text": [
      "\n"
     ]
    }
   ],
   "source": [
    "train = train_3\n",
    "train_with_exif = []\n",
    "for x,y,q,r,rv in progress_iter(train, True):\n",
    "    try:\n",
    "        tags = exifread.process_file(open(x, 'rb'))\n",
    "        train_with_exif.append((x,y,q,r,rv,tags))\n",
    "    except:\n",
    "        pass\n",
    "train_3 = train_with_exif"
   ]
  },
  {
   "cell_type": "code",
   "execution_count": 12,
   "metadata": {},
   "outputs": [
    {
     "name": "stdout",
     "output_type": "stream",
     "text": [
      "1804\n"
     ]
    }
   ],
   "source": [
    "c = 3\n",
    "c1 = lambda t: 'EXIF ExifImageWidth' in t\n",
    "c2 = lambda t: 'EXIF ExifImageLength' in t\n",
    "c3 = lambda t: distance((float(str(t['EXIF ExifImageWidth'])), float(str(t['EXIF ExifImageLength']))), c) < 0.1\n",
    "cond = [\n",
    "    lambda t: 'Image Make' in t and str(t['Image Make']) == 'motorola',\n",
    "    lambda t: 'Image Model' in t and str(t['Image Model']) == 'Nexus 6',\n",
    "    lambda t: c1(t) and c2(t) and c3(t),\n",
    "#     lambda t: 'Image Orientation' in t and str(t['Image Orientation']) == 'Horizontal (normal)'\n",
    "]\n",
    "all_cond = lambda (x,y,q,r,rv,t): all(map(lambda c: c(t), cond))\n",
    "print len(filter(all_cond, train_3))"
   ]
  },
  {
   "cell_type": "code",
   "execution_count": 13,
   "metadata": {},
   "outputs": [
    {
     "name": "stdout",
     "output_type": "stream",
     "text": [
      "1893\n",
      "1804\n"
     ]
    }
   ],
   "source": [
    "print len(train_3)\n",
    "train_3 = filter(all_cond, train_3)\n",
    "print len(train_3)"
   ]
  },
  {
   "cell_type": "markdown",
   "metadata": {},
   "source": [
    "### class 5"
   ]
  },
  {
   "cell_type": "code",
   "execution_count": 28,
   "metadata": {},
   "outputs": [
    {
     "data": {
      "application/vnd.jupyter.widget-view+json": {
       "model_id": "d7a8e333b9854ec8ba8b204eff7f936d",
       "version_major": 2,
       "version_minor": 0
      },
      "text/plain": [
       "A Jupyter Widget"
      ]
     },
     "metadata": {},
     "output_type": "display_data"
    },
    {
     "name": "stdout",
     "output_type": "stream",
     "text": [
      "\n"
     ]
    }
   ],
   "source": [
    "train = train_5\n",
    "train_with_exif = []\n",
    "for x,y,q,r,rv in progress_iter(train, True):\n",
    "    try:\n",
    "        tags = exifread.process_file(open(x, 'rb'))\n",
    "        train_with_exif.append((x,y,q,r,rv,tags))\n",
    "    except:\n",
    "        pass\n",
    "train_5 = train_with_exif"
   ]
  },
  {
   "cell_type": "code",
   "execution_count": 29,
   "metadata": {},
   "outputs": [
    {
     "name": "stdout",
     "output_type": "stream",
     "text": [
      "2015\n"
     ]
    }
   ],
   "source": [
    "c = 5\n",
    "\n",
    "def f(v):\n",
    "    return float(str(v).replace(', 0]', '').replace('[', ''))\n",
    "\n",
    "c1 = lambda t: 'EXIF ExifImageWidth' in t\n",
    "c2 = lambda t: 'EXIF ExifImageLength' in t\n",
    "c3 = lambda t: distance((f(t['EXIF ExifImageWidth']), f(t['EXIF ExifImageLength'])), c) < 0.1\n",
    "cond = [\n",
    "    lambda t: 'Image Make' in t and str(t['Image Make']).lower() == 'samsung',\n",
    "    lambda t: 'Image Model' in t and str(t['Image Model']) in ['SAMSUNG-SM-N900A', 'SM-N9005'],\n",
    "    lambda t: c1(t) and c2(t) and c3(t),\n",
    "#     lambda t: 'Image Orientation' in t and str(t['Image Orientation']) == 'Horizontal (normal)'\n",
    "]\n",
    "all_cond = lambda (x,y,q,r,rv,t): all(map(lambda c: c(t), cond))\n",
    "print len(filter(all_cond, train_5))"
   ]
  },
  {
   "cell_type": "markdown",
   "metadata": {},
   "source": [
    "### class 7"
   ]
  },
  {
   "cell_type": "code",
   "execution_count": 14,
   "metadata": {},
   "outputs": [
    {
     "data": {
      "application/vnd.jupyter.widget-view+json": {
       "model_id": "ead51390a10b4fb990aed1f19817787e",
       "version_major": 2,
       "version_minor": 0
      },
      "text/plain": [
       "A Jupyter Widget"
      ]
     },
     "metadata": {},
     "output_type": "display_data"
    },
    {
     "name": "stdout",
     "output_type": "stream",
     "text": [
      "\n"
     ]
    }
   ],
   "source": [
    "train = train_7\n",
    "train_with_exif = []\n",
    "for x,y,q,r,rv in progress_iter(train, True):\n",
    "    try:\n",
    "        tags = exifread.process_file(open(x, 'rb'))\n",
    "        train_with_exif.append((x,y,q,r,rv,tags))\n",
    "    except:\n",
    "        pass\n",
    "train_7 = train_with_exif"
   ]
  },
  {
   "cell_type": "code",
   "execution_count": 17,
   "metadata": {},
   "outputs": [
    {
     "name": "stdout",
     "output_type": "stream",
     "text": [
      "1328\n"
     ]
    }
   ],
   "source": [
    "c = 7\n",
    "\n",
    "def f(v):\n",
    "    return float(str(v).replace(', 0]', '').replace('[', ''))\n",
    "\n",
    "c1 = lambda t: 'EXIF ExifImageWidth' in t\n",
    "c2 = lambda t: 'EXIF ExifImageLength' in t\n",
    "c3 = lambda t: np.abs(distance((f(t['EXIF ExifImageWidth']), f(t['EXIF ExifImageLength'])), c)) < 0.1\n",
    "cond = [\n",
    "    lambda t: 'Image Make' in t and str(t['Image Make']) == 'SONY',\n",
    "    lambda t: 'Image Model' in t and str(t['Image Model']) == 'NEX-7',\n",
    "    lambda t: c1(t) and c2(t) and c3(t),\n",
    "#     lambda t: 'Image Orientation' in t and str(t['Image Orientation']) == 'Horizontal (normal)'\n",
    "]\n",
    "all_cond = lambda (x,y,q,r,rv,t): all(map(lambda c: c(t), cond))\n",
    "print len(filter(all_cond, train_7))"
   ]
  },
  {
   "cell_type": "code",
   "execution_count": 18,
   "metadata": {},
   "outputs": [
    {
     "name": "stdout",
     "output_type": "stream",
     "text": [
      "2076\n",
      "1328\n"
     ]
    }
   ],
   "source": [
    "print len(train_7)\n",
    "train_7 = filter(all_cond, train_7)\n",
    "print len(train_7)"
   ]
  },
  {
   "cell_type": "markdown",
   "metadata": {},
   "source": [
    "# crop and save blocks to disk"
   ]
  },
  {
   "cell_type": "code",
   "execution_count": 19,
   "metadata": {
    "collapsed": true
   },
   "outputs": [],
   "source": [
    "BLOCK_SIZE = 48\n",
    "crop_size = 1024"
   ]
  },
  {
   "cell_type": "markdown",
   "metadata": {},
   "source": [
    "### class 1"
   ]
  },
  {
   "cell_type": "code",
   "execution_count": null,
   "metadata": {
    "collapsed": true
   },
   "outputs": [],
   "source": [
    "c = 1\n",
    "class_train = train_1[:N_IMAGES_NEEDED[c]]\n",
    "N_BLOCKS = int(np.round(len(class_train)/float(BLOCK_SIZE)))\n",
    "print '{0} blocks ...'.format(N_BLOCKS)\n",
    "\n",
    "RNG(seed=9999 + c).shuffle(class_train)\n",
    "\n",
    "class_blocks = []\n",
    "for _ in xrange(N_BLOCKS):\n",
    "    class_blocks.append([])\n",
    "pos = 0\n",
    "N_IMAGES_PER_ANDREAS_BLOCK = []\n",
    "for x,_,_,_,_,_ in progress_iter(class_train, True):\n",
    "    x = Image.open(x)\n",
    "    w = x.size[0]\n",
    "    h = x.size[1]\n",
    "    x = x.crop((w/2-crop_size/2, h/2-crop_size/2,\n",
    "                w/2+crop_size/2, h/2+crop_size/2))\n",
    "    class_blocks[pos % N_BLOCKS].append(np.asarray(x, dtype=np.uint8))\n",
    "    pos += 1\n",
    "for b in xrange(N_BLOCKS):\n",
    "    X_block = np.asarray(class_blocks[b], dtype=np.uint8)\n",
    "    N_IMAGES_PER_ANDREAS_BLOCK.append(len(X_block))\n",
    "    np.save('../data/X_andreas_{0}_{1}.npy'.format(c, b), X_block)\n",
    "print N_IMAGES_PER_ANDREAS_BLOCK"
   ]
  },
  {
   "cell_type": "markdown",
   "metadata": {
    "collapsed": true
   },
   "source": [
    "### class 0"
   ]
  },
  {
   "cell_type": "code",
   "execution_count": null,
   "metadata": {
    "collapsed": true
   },
   "outputs": [],
   "source": [
    "c = 0\n",
    "class_train = train_0\n",
    "\n",
    "RNG(seed=9999 + c).shuffle(class_train)\n",
    "class_train = class_train[:N_IMAGES_NEEDED[c]]\n",
    "print len(class_train)"
   ]
  },
  {
   "cell_type": "code",
   "execution_count": 20,
   "metadata": {
    "collapsed": true
   },
   "outputs": [],
   "source": [
    "def make_blocks(class_train, c, b_start=0):\n",
    "    N_BLOCKS = int(np.round(len(class_train)/float(BLOCK_SIZE)))\n",
    "    print '{0} blocks ...'.format(N_BLOCKS)\n",
    "    \n",
    "    class_blocks = []\n",
    "    for _ in xrange(N_BLOCKS):\n",
    "        class_blocks.append([])\n",
    "    pos = 0\n",
    "    N_IMAGES_PER_ANDREAS_BLOCK = []\n",
    "    for x,_,_,_,_,_ in progress_iter(class_train, True):\n",
    "        x = Image.open(x)\n",
    "        w = x.size[0]\n",
    "        h = x.size[1]\n",
    "        x = x.crop((w/2-crop_size/2, h/2-crop_size/2,\n",
    "                    w/2+crop_size/2, h/2+crop_size/2))\n",
    "        class_blocks[pos % N_BLOCKS].append(np.asarray(x, dtype=np.uint8))\n",
    "        pos += 1\n",
    "    for b in xrange(N_BLOCKS):\n",
    "        X_block = np.asarray(class_blocks[b], dtype=np.uint8)\n",
    "        N_IMAGES_PER_ANDREAS_BLOCK.append(len(X_block))\n",
    "        np.save('../data/X_andreas_{0}_{1}.npy'.format(c, b + b_start), X_block)\n",
    "    print N_IMAGES_PER_ANDREAS_BLOCK"
   ]
  },
  {
   "cell_type": "code",
   "execution_count": null,
   "metadata": {
    "collapsed": true
   },
   "outputs": [],
   "source": [
    "make_blocks(class_train[:800], 0, 0)"
   ]
  },
  {
   "cell_type": "code",
   "execution_count": null,
   "metadata": {
    "collapsed": true
   },
   "outputs": [],
   "source": [
    "make_blocks(class_train[800:1600], 0, 17)"
   ]
  },
  {
   "cell_type": "code",
   "execution_count": null,
   "metadata": {
    "collapsed": true
   },
   "outputs": [],
   "source": [
    "make_blocks(class_train[1600:2400], 0, 34)"
   ]
  },
  {
   "cell_type": "code",
   "execution_count": null,
   "metadata": {
    "collapsed": true
   },
   "outputs": [],
   "source": [
    "make_blocks(class_train[2400:3200], 0, 51)"
   ]
  },
  {
   "cell_type": "code",
   "execution_count": null,
   "metadata": {
    "collapsed": true
   },
   "outputs": [],
   "source": [
    "make_blocks(class_train[3200:], 0, 68)"
   ]
  },
  {
   "cell_type": "markdown",
   "metadata": {},
   "source": [
    "### class 9"
   ]
  },
  {
   "cell_type": "code",
   "execution_count": 123,
   "metadata": {},
   "outputs": [
    {
     "name": "stdout",
     "output_type": "stream",
     "text": [
      "3734\n"
     ]
    }
   ],
   "source": [
    "c = 9\n",
    "class_train = train_9\n",
    "class_train.sort(key=lambda (x,y,q,r,rv,t): -q)\n",
    "class_train = class_train[:N_IMAGES_NEEDED[c]]\n",
    "\n",
    "RNG(seed=9999 + c).shuffle(class_train)\n",
    "print len(class_train)"
   ]
  },
  {
   "cell_type": "code",
   "execution_count": 124,
   "metadata": {},
   "outputs": [
    {
     "name": "stdout",
     "output_type": "stream",
     "text": [
      "20 blocks ...\n"
     ]
    },
    {
     "data": {
      "application/vnd.jupyter.widget-view+json": {
       "model_id": "b37ec155207e44b0ac53bdcf451263c2",
       "version_major": 2,
       "version_minor": 0
      },
      "text/plain": [
       "A Jupyter Widget"
      ]
     },
     "metadata": {},
     "output_type": "display_data"
    },
    {
     "name": "stdout",
     "output_type": "stream",
     "text": [
      "\n",
      "[48, 48, 48, 48, 48, 48, 48, 48, 48, 48, 48, 48, 48, 48, 48, 48, 48, 48, 48, 48]\n",
      "20 blocks ...\n"
     ]
    },
    {
     "data": {
      "application/vnd.jupyter.widget-view+json": {
       "model_id": "d9b3a099e75f4b88877f76e8d8ee903f",
       "version_major": 2,
       "version_minor": 0
      },
      "text/plain": [
       "A Jupyter Widget"
      ]
     },
     "metadata": {},
     "output_type": "display_data"
    },
    {
     "name": "stdout",
     "output_type": "stream",
     "text": [
      "\n",
      "[48, 48, 48, 48, 48, 48, 48, 48, 48, 48, 48, 48, 48, 48, 48, 48, 48, 48, 48, 48]\n",
      "20 blocks ...\n"
     ]
    },
    {
     "data": {
      "application/vnd.jupyter.widget-view+json": {
       "model_id": "e413e6ccaf344c56be109b19e945d3e0",
       "version_major": 2,
       "version_minor": 0
      },
      "text/plain": [
       "A Jupyter Widget"
      ]
     },
     "metadata": {},
     "output_type": "display_data"
    },
    {
     "name": "stdout",
     "output_type": "stream",
     "text": [
      "\n",
      "[48, 48, 48, 48, 48, 48, 48, 48, 48, 48, 48, 48, 48, 48, 48, 48, 48, 48, 48, 48]\n",
      "18 blocks ...\n"
     ]
    },
    {
     "data": {
      "application/vnd.jupyter.widget-view+json": {
       "model_id": "e755f14adb9c48429e0ed764b3399de9",
       "version_major": 2,
       "version_minor": 0
      },
      "text/plain": [
       "A Jupyter Widget"
      ]
     },
     "metadata": {},
     "output_type": "display_data"
    },
    {
     "name": "stdout",
     "output_type": "stream",
     "text": [
      "\n",
      "[48, 48, 48, 48, 48, 48, 48, 48, 47, 47, 47, 47, 47, 47, 47, 47, 47, 47]\n"
     ]
    }
   ],
   "source": [
    "make_blocks(class_train[:960], c, 0)\n",
    "make_blocks(class_train[960:2*960], c, 20)\n",
    "make_blocks(class_train[2*960:3*960], c, 40)\n",
    "make_blocks(class_train[3*960:], c, 60)"
   ]
  },
  {
   "cell_type": "markdown",
   "metadata": {},
   "source": [
    "### class 2"
   ]
  },
  {
   "cell_type": "code",
   "execution_count": 16,
   "metadata": {},
   "outputs": [
    {
     "name": "stdout",
     "output_type": "stream",
     "text": [
      "4026\n"
     ]
    }
   ],
   "source": [
    "c = 2\n",
    "class_train = train_2\n",
    "class_train.sort(key=lambda (x,y,q,r,rv,t): -q)\n",
    "class_train = class_train[:N_IMAGES_NEEDED[c]]\n",
    "\n",
    "RNG(seed=9999 + c).shuffle(class_train)\n",
    "print len(class_train)"
   ]
  },
  {
   "cell_type": "code",
   "execution_count": null,
   "metadata": {
    "collapsed": true
   },
   "outputs": [],
   "source": [
    "make_blocks(class_train[:960], c, 0)\n",
    "make_blocks(class_train[960:2*960], c, 20)\n",
    "make_blocks(class_train[2*960:3*960], c, 40)\n",
    "make_blocks(class_train[3*960:], c, 60)"
   ]
  },
  {
   "cell_type": "markdown",
   "metadata": {},
   "source": [
    "### class 6"
   ]
  },
  {
   "cell_type": "code",
   "execution_count": 41,
   "metadata": {},
   "outputs": [
    {
     "name": "stdout",
     "output_type": "stream",
     "text": [
      "2915\n"
     ]
    }
   ],
   "source": [
    "c = 6\n",
    "class_train = train_6\n",
    "class_train.sort(key=lambda (x,y,q,r,rv,t): -q)\n",
    "class_train = class_train[:N_IMAGES_NEEDED[c]]\n",
    "\n",
    "RNG(seed=9999 + c).shuffle(class_train)\n",
    "print len(class_train)"
   ]
  },
  {
   "cell_type": "code",
   "execution_count": null,
   "metadata": {
    "collapsed": true
   },
   "outputs": [],
   "source": [
    "make_blocks(class_train[:960], c, 0)\n",
    "make_blocks(class_train[960:2*960], c, 20)\n",
    "make_blocks(class_train[2*960:3*960], c, 40)\n",
    "make_blocks(class_train[3*960:], c, 60)"
   ]
  },
  {
   "cell_type": "markdown",
   "metadata": {},
   "source": [
    "### class 8"
   ]
  },
  {
   "cell_type": "code",
   "execution_count": 19,
   "metadata": {},
   "outputs": [
    {
     "name": "stdout",
     "output_type": "stream",
     "text": [
      "3931\n"
     ]
    }
   ],
   "source": [
    "c = 8\n",
    "class_train = train_8\n",
    "class_train.sort(key=lambda (x,y,q,r,rv,t): -q)\n",
    "class_train = class_train[:N_IMAGES_NEEDED[c]]\n",
    "\n",
    "RNG(seed=9999 + c).shuffle(class_train)\n",
    "print len(class_train)"
   ]
  },
  {
   "cell_type": "code",
   "execution_count": 24,
   "metadata": {},
   "outputs": [
    {
     "name": "stdout",
     "output_type": "stream",
     "text": [
      "20 blocks ...\n"
     ]
    },
    {
     "data": {
      "application/vnd.jupyter.widget-view+json": {
       "model_id": "31141b3930084952baaceb821d5544c0",
       "version_major": 2,
       "version_minor": 0
      },
      "text/plain": [
       "A Jupyter Widget"
      ]
     },
     "metadata": {},
     "output_type": "display_data"
    },
    {
     "name": "stdout",
     "output_type": "stream",
     "text": [
      "\n",
      "[48, 48, 48, 48, 48, 48, 48, 48, 48, 48, 48, 48, 48, 48, 48, 48, 48, 48, 48, 48]\n",
      "20 blocks ...\n"
     ]
    },
    {
     "data": {
      "application/vnd.jupyter.widget-view+json": {
       "model_id": "1ce8bcb174ea4bb7bcfb40f64eb17a63",
       "version_major": 2,
       "version_minor": 0
      },
      "text/plain": [
       "A Jupyter Widget"
      ]
     },
     "metadata": {},
     "output_type": "display_data"
    },
    {
     "name": "stdout",
     "output_type": "stream",
     "text": [
      "\n",
      "[48, 48, 48, 48, 48, 48, 48, 48, 48, 48, 48, 48, 48, 48, 48, 48, 48, 48, 48, 48]\n",
      "20 blocks ...\n"
     ]
    },
    {
     "data": {
      "application/vnd.jupyter.widget-view+json": {
       "model_id": "d8ab8ad451ac41c09b41f9b3772f4cbe",
       "version_major": 2,
       "version_minor": 0
      },
      "text/plain": [
       "A Jupyter Widget"
      ]
     },
     "metadata": {},
     "output_type": "display_data"
    },
    {
     "name": "stdout",
     "output_type": "stream",
     "text": [
      "\n",
      "[48, 48, 48, 48, 48, 48, 48, 48, 48, 48, 48, 48, 48, 48, 48, 48, 48, 48, 48, 48]\n",
      "22 blocks ...\n"
     ]
    },
    {
     "data": {
      "application/vnd.jupyter.widget-view+json": {
       "model_id": "a4da01db0245416fa58a1a5234e8e280",
       "version_major": 2,
       "version_minor": 0
      },
      "text/plain": [
       "A Jupyter Widget"
      ]
     },
     "metadata": {},
     "output_type": "display_data"
    },
    {
     "name": "stdout",
     "output_type": "stream",
     "text": [
      "\n",
      "[48, 48, 48, 48, 48, 48, 48, 48, 48, 48, 48, 48, 48, 48, 48, 48, 48, 47, 47, 47, 47, 47]\n"
     ]
    }
   ],
   "source": [
    "make_blocks(class_train[:960], c, 0)\n",
    "make_blocks(class_train[960:2*960], c, 20)\n",
    "make_blocks(class_train[2*960:3*960], c, 40)\n",
    "make_blocks(class_train[3*960:], c, 60)"
   ]
  },
  {
   "cell_type": "markdown",
   "metadata": {},
   "source": [
    "### class 3"
   ]
  },
  {
   "cell_type": "code",
   "execution_count": 16,
   "metadata": {},
   "outputs": [
    {
     "name": "stdout",
     "output_type": "stream",
     "text": [
      "1804\n"
     ]
    }
   ],
   "source": [
    "c = 3\n",
    "class_train = train_3\n",
    "class_train.sort(key=lambda (x,y,q,r,rv,t): -q)\n",
    "class_train = class_train[:N_IMAGES_NEEDED[c]]\n",
    "\n",
    "RNG(seed=9999 + c).shuffle(class_train)\n",
    "print len(class_train)"
   ]
  },
  {
   "cell_type": "code",
   "execution_count": 17,
   "metadata": {},
   "outputs": [
    {
     "name": "stdout",
     "output_type": "stream",
     "text": [
      "20 blocks ...\n"
     ]
    },
    {
     "data": {
      "application/vnd.jupyter.widget-view+json": {
       "model_id": "ef5e2e531004481db4e21dd5f29b792e",
       "version_major": 2,
       "version_minor": 0
      },
      "text/plain": [
       "A Jupyter Widget"
      ]
     },
     "metadata": {},
     "output_type": "display_data"
    },
    {
     "name": "stdout",
     "output_type": "stream",
     "text": [
      "\n",
      "[48, 48, 48, 48, 48, 48, 48, 48, 48, 48, 48, 48, 48, 48, 48, 48, 48, 48, 48, 48]\n",
      "18 blocks ...\n"
     ]
    },
    {
     "data": {
      "application/vnd.jupyter.widget-view+json": {
       "model_id": "bf5d185ac92541ad99e365e8f77dbdc9",
       "version_major": 2,
       "version_minor": 0
      },
      "text/plain": [
       "A Jupyter Widget"
      ]
     },
     "metadata": {},
     "output_type": "display_data"
    },
    {
     "name": "stdout",
     "output_type": "stream",
     "text": [
      "\n",
      "[47, 47, 47, 47, 47, 47, 47, 47, 47, 47, 47, 47, 47, 47, 47, 47, 46, 46]\n"
     ]
    }
   ],
   "source": [
    "make_blocks(class_train[:960], c, 0)\n",
    "make_blocks(class_train[960:], c, 20)"
   ]
  },
  {
   "cell_type": "markdown",
   "metadata": {},
   "source": [
    "### class 5"
   ]
  },
  {
   "cell_type": "code",
   "execution_count": 31,
   "metadata": {},
   "outputs": [
    {
     "name": "stdout",
     "output_type": "stream",
     "text": [
      "2015\n"
     ]
    }
   ],
   "source": [
    "c = 5\n",
    "class_train = train_5\n",
    "class_train.sort(key=lambda (x,y,q,r,rv,t): -q)\n",
    "class_train = class_train[:N_IMAGES_NEEDED[c]]\n",
    "\n",
    "RNG(seed=9999 + c).shuffle(class_train)\n",
    "print len(class_train)"
   ]
  },
  {
   "cell_type": "code",
   "execution_count": 32,
   "metadata": {},
   "outputs": [
    {
     "name": "stdout",
     "output_type": "stream",
     "text": [
      "20 blocks ...\n"
     ]
    },
    {
     "data": {
      "application/vnd.jupyter.widget-view+json": {
       "model_id": "c3284b5d031741228e68c7bf1c6211ea",
       "version_major": 2,
       "version_minor": 0
      },
      "text/plain": [
       "A Jupyter Widget"
      ]
     },
     "metadata": {},
     "output_type": "display_data"
    },
    {
     "name": "stdout",
     "output_type": "stream",
     "text": [
      "\n",
      "[48, 48, 48, 48, 48, 48, 48, 48, 48, 48, 48, 48, 48, 48, 48, 48, 48, 48, 48, 48]\n",
      "20 blocks ...\n"
     ]
    },
    {
     "data": {
      "application/vnd.jupyter.widget-view+json": {
       "model_id": "594888f812464d04a3204799238b0b64",
       "version_major": 2,
       "version_minor": 0
      },
      "text/plain": [
       "A Jupyter Widget"
      ]
     },
     "metadata": {},
     "output_type": "display_data"
    },
    {
     "name": "stdout",
     "output_type": "stream",
     "text": [
      "\n",
      "[48, 48, 48, 48, 48, 48, 48, 48, 48, 48, 48, 48, 48, 48, 48, 48, 48, 48, 48, 48]\n",
      "2 blocks ...\n"
     ]
    },
    {
     "data": {
      "application/vnd.jupyter.widget-view+json": {
       "model_id": "af1bffc9006740e0bddbc933e86dccc2",
       "version_major": 2,
       "version_minor": 0
      },
      "text/plain": [
       "A Jupyter Widget"
      ]
     },
     "metadata": {},
     "output_type": "display_data"
    },
    {
     "name": "stdout",
     "output_type": "stream",
     "text": [
      "\n",
      "[48, 47]\n"
     ]
    }
   ],
   "source": [
    "make_blocks(class_train[:960], c, 0)\n",
    "make_blocks(class_train[960:2*960], c, 20)\n",
    "make_blocks(class_train[2*960:], c, 40)"
   ]
  },
  {
   "cell_type": "markdown",
   "metadata": {
    "collapsed": true
   },
   "source": [
    "### class 7"
   ]
  },
  {
   "cell_type": "code",
   "execution_count": 21,
   "metadata": {},
   "outputs": [
    {
     "name": "stdout",
     "output_type": "stream",
     "text": [
      "1328\n"
     ]
    }
   ],
   "source": [
    "c = 7\n",
    "class_train = train_7\n",
    "class_train.sort(key=lambda (x,y,q,r,rv,t): -q)\n",
    "class_train = class_train[:N_IMAGES_NEEDED[c]]\n",
    "\n",
    "RNG(seed=9999 + c).shuffle(class_train)\n",
    "print len(class_train)"
   ]
  },
  {
   "cell_type": "code",
   "execution_count": 22,
   "metadata": {},
   "outputs": [
    {
     "name": "stdout",
     "output_type": "stream",
     "text": [
      "20 blocks ...\n"
     ]
    },
    {
     "data": {
      "application/vnd.jupyter.widget-view+json": {
       "model_id": "b226c100f20d44c19557e1bb85b2b3aa",
       "version_major": 2,
       "version_minor": 0
      },
      "text/plain": [
       "A Jupyter Widget"
      ]
     },
     "metadata": {},
     "output_type": "display_data"
    },
    {
     "name": "stdout",
     "output_type": "stream",
     "text": [
      "\n",
      "[48, 48, 48, 48, 48, 48, 48, 48, 48, 48, 48, 48, 48, 48, 48, 48, 48, 48, 48, 48]\n",
      "8 blocks ...\n"
     ]
    },
    {
     "data": {
      "application/vnd.jupyter.widget-view+json": {
       "model_id": "09065a5c4c574a638e814958b37a503c",
       "version_major": 2,
       "version_minor": 0
      },
      "text/plain": [
       "A Jupyter Widget"
      ]
     },
     "metadata": {},
     "output_type": "display_data"
    },
    {
     "name": "stdout",
     "output_type": "stream",
     "text": [
      "\n",
      "[46, 46, 46, 46, 46, 46, 46, 46]\n"
     ]
    }
   ],
   "source": [
    "make_blocks(class_train[:960], c, 0)\n",
    "make_blocks(class_train[960:], c, 20)"
   ]
  },
  {
   "cell_type": "code",
   "execution_count": null,
   "metadata": {
    "collapsed": true
   },
   "outputs": [],
   "source": []
  }
 ],
 "metadata": {
  "kernelspec": {
   "display_name": "Python 2",
   "language": "python",
   "name": "python2"
  },
  "language_info": {
   "codemirror_mode": {
    "name": "ipython",
    "version": 2
   },
   "file_extension": ".py",
   "mimetype": "text/x-python",
   "name": "python",
   "nbconvert_exporter": "python",
   "pygments_lexer": "ipython2",
   "version": "2.7.12"
  },
  "latex_envs": {
   "LaTeX_envs_menu_present": true,
   "autocomplete": true,
   "bibliofile": "biblio.bib",
   "cite_by": "apalike",
   "current_citInitial": 1,
   "eqLabelWithNumbers": true,
   "eqNumInitial": 1,
   "hotkeys": {
    "equation": "Ctrl-E",
    "itemize": "Ctrl-I"
   },
   "labels_anchors": false,
   "latex_user_defs": false,
   "report_style_numbering": false,
   "user_envs_cfg": false
  }
 },
 "nbformat": 4,
 "nbformat_minor": 2
}
