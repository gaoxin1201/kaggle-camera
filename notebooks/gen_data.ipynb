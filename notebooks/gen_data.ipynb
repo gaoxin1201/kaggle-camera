{
 "cells": [
  {
   "cell_type": "markdown",
   "metadata": {},
   "source": [
    "### imports"
   ]
  },
  {
   "cell_type": "code",
   "execution_count": 18,
   "metadata": {},
   "outputs": [
    {
     "ename": "ImportError",
     "evalue": "No module named lmdb",
     "output_type": "error",
     "traceback": [
      "\u001b[0;31m---------------------------------------------------------------------------\u001b[0m",
      "\u001b[0;31mImportError\u001b[0m                               Traceback (most recent call last)",
      "\u001b[0;32m<ipython-input-18-8cc07b179864>\u001b[0m in \u001b[0;36m<module>\u001b[0;34m()\u001b[0m\n\u001b[0;32m----> 1\u001b[0;31m \u001b[0;32mimport\u001b[0m \u001b[0mlmdb\u001b[0m\u001b[0;34m\u001b[0m\u001b[0m\n\u001b[0m\u001b[1;32m      2\u001b[0m \u001b[0;32mimport\u001b[0m \u001b[0mnumpy\u001b[0m \u001b[0;32mas\u001b[0m \u001b[0mnp\u001b[0m\u001b[0;34m\u001b[0m\u001b[0m\n\u001b[1;32m      3\u001b[0m \u001b[0;32mimport\u001b[0m \u001b[0mmatplotlib\u001b[0m\u001b[0;34m.\u001b[0m\u001b[0mpyplot\u001b[0m \u001b[0;32mas\u001b[0m \u001b[0mplt\u001b[0m\u001b[0;34m\u001b[0m\u001b[0m\n\u001b[1;32m      4\u001b[0m \u001b[0;32mimport\u001b[0m \u001b[0mPIL\u001b[0m\u001b[0;34m.\u001b[0m\u001b[0mImageOps\u001b[0m\u001b[0;34m\u001b[0m\u001b[0m\n\u001b[1;32m      5\u001b[0m \u001b[0;32mfrom\u001b[0m \u001b[0mPIL\u001b[0m \u001b[0;32mimport\u001b[0m \u001b[0mImage\u001b[0m\u001b[0;34m\u001b[0m\u001b[0m\n",
      "\u001b[0;31mImportError\u001b[0m: No module named lmdb"
     ]
    }
   ],
   "source": [
    "import lmdb\n",
    "import numpy as np\n",
    "import matplotlib.pyplot as plt\n",
    "import PIL.ImageOps\n",
    "from PIL import Image\n",
    "from sklearn.model_selection import StratifiedKFold\n",
    "\n",
    "import env\n",
    "from utils import KaggleCameraDataset, progress_iter\n",
    "\n",
    "%matplotlib inline\n",
    "%load_ext autoreload\n",
    "%autoreload 2"
   ]
  },
  {
   "cell_type": "markdown",
   "metadata": {},
   "source": [
    "## load training data"
   ]
  },
  {
   "cell_type": "code",
   "execution_count": 2,
   "metadata": {
    "collapsed": true
   },
   "outputs": [],
   "source": [
    "train_data = KaggleCameraDataset('../data/', train=True, lazy=True)"
   ]
  },
  {
   "cell_type": "markdown",
   "metadata": {},
   "source": [
    "## calculate dataset size"
   ]
  },
  {
   "cell_type": "code",
   "execution_count": 7,
   "metadata": {},
   "outputs": [
    {
     "name": "stdout",
     "output_type": "stream",
     "text": [
      "8650752000\n",
      "Dataset will occupy 8.06 GB\n"
     ]
    }
   ],
   "source": [
    "crop_size = 1024\n",
    "n_crops = 1\n",
    "N = len(train_data)\n",
    "\n",
    "size = crop_size**2*3*n_crops*N\n",
    "print size\n",
    "print \"Dataset will occupy {0:.2f} GB\".format(size/float(2**30))"
   ]
  },
  {
   "cell_type": "code",
   "execution_count": 6,
   "metadata": {},
   "outputs": [
    {
     "name": "stdout",
     "output_type": "stream",
     "text": [
      "540672000\n"
     ]
    }
   ],
   "source": [
    "X = np.zeros((N, 256, 256, 3), dtype=np.uint8)\n",
    "print X.nbytes"
   ]
  },
  {
   "cell_type": "code",
   "execution_count": 13,
   "metadata": {},
   "outputs": [
    {
     "data": {
      "text/plain": [
       "34.0"
      ]
     },
     "execution_count": 13,
     "metadata": {},
     "output_type": "execute_result"
    }
   ],
   "source": [
    "np.ceil(np.log2(size))"
   ]
  },
  {
   "cell_type": "code",
   "execution_count": 17,
   "metadata": {},
   "outputs": [
    {
     "data": {
      "text/plain": [
       "17179869184"
      ]
     },
     "execution_count": 17,
     "metadata": {},
     "output_type": "execute_result"
    }
   ],
   "source": [
    "int(2.**np.ceil(np.log2(size)))"
   ]
  },
  {
   "cell_type": "markdown",
   "metadata": {},
   "source": [
    "## #1 gen data (center crops only)"
   ]
  },
  {
   "cell_type": "code",
   "execution_count": 16,
   "metadata": {},
   "outputs": [
    {
     "data": {
      "application/vnd.jupyter.widget-view+json": {
       "model_id": "b0eb916d7d624d8981fbe3bb88762fc7",
       "version_major": 2,
       "version_minor": 0
      },
      "text/plain": [
       "A Jupyter Widget"
      ]
     },
     "metadata": {},
     "output_type": "display_data"
    },
    {
     "name": "stdout",
     "output_type": "stream",
     "text": [
      "\n"
     ]
    }
   ],
   "source": [
    "X = np.zeros((N, crop_size, crop_size, 3), dtype=np.uint8)\n",
    "\n",
    "pos = 0\n",
    "for x, _ in progress_iter(train_data, verbose=True):\n",
    "    w = x.size[0]\n",
    "    h = x.size[1]\n",
    "    x = x.crop((w/2-crop_size/2, h/2-crop_size/2,\n",
    "                w/2+crop_size/2, h/2+crop_size/2))\n",
    "    \n",
    "    X[pos, ...] = np.asarray(x, dtype=np.uint8)\n",
    "    pos += 1\n",
    "    \n",
    "y = np.asarray(train_data.y)"
   ]
  },
  {
   "cell_type": "markdown",
   "metadata": {},
   "source": [
    "## #1.1 save to lmbd"
   ]
  },
  {
   "cell_type": "code",
   "execution_count": null,
   "metadata": {
    "collapsed": true
   },
   "outputs": [],
   "source": []
  },
  {
   "cell_type": "markdown",
   "metadata": {},
   "source": [
    "## #2 gen aug data (center crops + D4 group)"
   ]
  },
  {
   "cell_type": "code",
   "execution_count": 4,
   "metadata": {},
   "outputs": [
    {
     "data": {
      "application/vnd.jupyter.widget-view+json": {
       "model_id": "6b3b635f39bf40cbbe8ed879bb924d98",
       "version_major": 2,
       "version_minor": 0
      },
      "text/plain": [
       "A Jupyter Widget"
      ]
     },
     "metadata": {},
     "output_type": "display_data"
    },
    {
     "name": "stdout",
     "output_type": "stream",
     "text": [
      "\n"
     ]
    }
   ],
   "source": [
    "X = np.zeros((N * 8, crop_size, crop_size, 3), dtype=np.uint8)\n",
    "\n",
    "pos = 0\n",
    "for x, _ in progress_iter(train_data, verbose=True):\n",
    "    w = x.size[0]\n",
    "    h = x.size[1]\n",
    "    x = x.crop((w/2-crop_size/2, h/2-crop_size/2,\n",
    "                w/2+crop_size/2, h/2+crop_size/2))\n",
    "    \n",
    "    X[pos, ...] = np.asarray(x, dtype=np.uint8)\n",
    "    pos += 1\n",
    "    X[pos, ...] = np.asarray(x.transpose(Image.ROTATE_90), dtype=np.uint8)\n",
    "    pos += 1\n",
    "    X[pos, ...] = np.asarray(x.transpose(Image.ROTATE_180), dtype=np.uint8)\n",
    "    pos += 1\n",
    "    X[pos, ...] = np.asarray(x.transpose(Image.ROTATE_270), dtype=np.uint8)\n",
    "    pos += 1\n",
    "    \n",
    "    x = PIL.ImageOps.mirror(x)\n",
    "    \n",
    "    X[pos, ...] = np.asarray(x, dtype=np.uint8)\n",
    "    pos += 1\n",
    "    X[pos, ...] = np.asarray(x.transpose(Image.ROTATE_90), dtype=np.uint8)\n",
    "    pos += 1\n",
    "    X[pos, ...] = np.asarray(x.transpose(Image.ROTATE_180), dtype=np.uint8)\n",
    "    pos += 1\n",
    "    X[pos, ...] = np.asarray(x.transpose(Image.ROTATE_270), dtype=np.uint8)\n",
    "    pos += 1\n",
    "\n",
    "y = np.asarray(train_data.y).repeat(8)"
   ]
  },
  {
   "cell_type": "markdown",
   "metadata": {},
   "source": [
    "## split into folds\n",
    "### what I'm gonna do"
   ]
  },
  {
   "cell_type": "code",
   "execution_count": 17,
   "metadata": {},
   "outputs": [
    {
     "name": "stdout",
     "output_type": "stream",
     "text": [
      "[0 1 2 4 5 6 7 9] [3 8]\n",
      "[0 1 3 4 5 6 8 9] [2 7]\n",
      "[0 2 3 4 5 7 8 9] [1 6]\n",
      "[1 2 3 4 6 7 8 9] [0 5]\n",
      "[0 1 2 3 5 6 7 8] [4 9]\n",
      "[3 8 2 7 1 6 0 5 4 9]\n"
     ]
    }
   ],
   "source": [
    "skf = StratifiedKFold(n_splits=5, shuffle=True, random_state=1337)\n",
    "z = np.asarray([0, 1]).repeat(5)\n",
    "for train_ind, test_ind in skf.split(z, z):\n",
    "    print train_ind, test_ind\n",
    "\n",
    "new_ind = np.concatenate( [test_ind for _, test_ind in skf.split(z, z)] )\n",
    "print new_ind"
   ]
  },
  {
   "cell_type": "code",
   "execution_count": 18,
   "metadata": {},
   "outputs": [
    {
     "name": "stdout",
     "output_type": "stream",
     "text": [
      "(2750,)\n"
     ]
    }
   ],
   "source": [
    "new_ind = np.concatenate( [test_ind for _, test_ind in skf.split(y, y)] )\n",
    "print new_ind.shape"
   ]
  },
  {
   "cell_type": "code",
   "execution_count": 19,
   "metadata": {
    "collapsed": true
   },
   "outputs": [],
   "source": [
    "X = X[new_ind]\n",
    "y = y[new_ind]"
   ]
  },
  {
   "cell_type": "markdown",
   "metadata": {},
   "source": [
    "### reshape for easy extraction of train, val"
   ]
  },
  {
   "cell_type": "code",
   "execution_count": 20,
   "metadata": {},
   "outputs": [
    {
     "data": {
      "text/plain": [
       "(5, 550, 256, 256, 3)"
      ]
     },
     "execution_count": 20,
     "metadata": {},
     "output_type": "execute_result"
    }
   ],
   "source": [
    "X = X.reshape(len(X)/5, 5, 256, 256, 3).transpose((1, 0, 2, 3, 4))\n",
    "X.shape"
   ]
  },
  {
   "cell_type": "code",
   "execution_count": 21,
   "metadata": {},
   "outputs": [
    {
     "data": {
      "text/plain": [
       "(5, 550)"
      ]
     },
     "execution_count": 21,
     "metadata": {},
     "output_type": "execute_result"
    }
   ],
   "source": [
    "y = y.reshape(len(y)/5, 5).T\n",
    "y.shape"
   ]
  },
  {
   "cell_type": "markdown",
   "metadata": {},
   "source": [
    "### save"
   ]
  },
  {
   "cell_type": "code",
   "execution_count": 22,
   "metadata": {
    "collapsed": true
   },
   "outputs": [],
   "source": [
    "np.save('../data/X_folds.npy', X)\n",
    "np.save('../data/y_folds.npy', y)"
   ]
  }
 ],
 "metadata": {
  "kernelspec": {
   "display_name": "Python 2",
   "language": "python",
   "name": "python2"
  },
  "language_info": {
   "codemirror_mode": {
    "name": "ipython",
    "version": 2
   },
   "file_extension": ".py",
   "mimetype": "text/x-python",
   "name": "python",
   "nbconvert_exporter": "python",
   "pygments_lexer": "ipython2",
   "version": "2.7.12"
  },
  "latex_envs": {
   "LaTeX_envs_menu_present": true,
   "autocomplete": true,
   "bibliofile": "biblio.bib",
   "cite_by": "apalike",
   "current_citInitial": 1,
   "eqLabelWithNumbers": true,
   "eqNumInitial": 1,
   "hotkeys": {
    "equation": "Ctrl-E",
    "itemize": "Ctrl-I"
   },
   "labels_anchors": false,
   "latex_user_defs": false,
   "report_style_numbering": false,
   "user_envs_cfg": false
  }
 },
 "nbformat": 4,
 "nbformat_minor": 2
}
