{
 "cells": [
  {
   "cell_type": "markdown",
   "metadata": {},
   "source": [
    "### imports"
   ]
  },
  {
   "cell_type": "code",
   "execution_count": 1,
   "metadata": {
    "collapsed": true
   },
   "outputs": [],
   "source": [
    "import os\n",
    "import json\n",
    "import numpy as np\n",
    "import matplotlib.pyplot as plt\n",
    "import pandas as pd\n",
    "from PIL import Image\n",
    "from sklearn.model_selection import StratifiedShuffleSplit\n",
    "from sklearn.model_selection import GridSearchCV\n",
    "from sklearn.linear_model import LogisticRegression\n",
    "from sklearn.svm import SVC\n",
    "\n",
    "import env\n",
    "from utils import (KaggleCameraDataset, one_hot_decision_function, \n",
    "                   unhot, softmax, inv_softmax, progress_iter, RNG, float32)\n",
    "\n",
    "%matplotlib inline\n",
    "%load_ext autoreload\n",
    "%autoreload 2"
   ]
  },
  {
   "cell_type": "markdown",
   "metadata": {},
   "source": [
    "## useful routines"
   ]
  },
  {
   "cell_type": "code",
   "execution_count": 81,
   "metadata": {
    "collapsed": true
   },
   "outputs": [],
   "source": [
    "def get_proba(proba_path):\n",
    "    return pd.read_csv(proba_path).as_matrix(columns=map(str, range(10)))\n",
    "\n",
    "\n",
    "def avg_proba(*proba_matrices, **kwargs):\n",
    "    #return np.exp(np.average([np.log(1e-16 + get_proba(path)) for path in proba_paths], axis=0, weights=kwargs.get('weights', None)))\n",
    "    P = softmax(np.average([inv_softmax(P) for P in proba_matrices], axis=0, weights=kwargs.get('weights', None)))\n",
    "#     P = np.average(proba_matrices, axis=0, weights=kwargs.get('weights', None))\n",
    "    return P\n",
    "\n",
    "\n",
    "def avg_proba_paths(*proba_paths, **kwargs):\n",
    "    return avg_proba(*map(get_proba, proba_paths), **kwargs)\n",
    "\n",
    "\n",
    "def proba_to_subm(proba, subm_path):\n",
    "    \"\"\"\n",
    "    Parameters\n",
    "    ----------\n",
    "    proba : (2640, 10) np.ndarray\n",
    "    \"\"\"\n",
    "    test_dataset = KaggleCameraDataset('../data/', train=False, lazy=True)\n",
    "    fnames = [os.path.split(fname)[-1] for fname in test_dataset.X]\n",
    "    index_pred = unhot(one_hot_decision_function(proba))\n",
    "    data = {'fname': fnames,\n",
    "            'camera': [KaggleCameraDataset.target_labels()[int(c)] for c in index_pred]}\n",
    "    df = pd.DataFrame(data, columns=['fname', 'camera'])\n",
    "    df.to_csv(subm_path, index=False)\n",
    "    \n",
    "\n",
    "def get_diff(subm_path1, subm_path2):\n",
    "    df1 = pd.read_csv(subm_path1)\n",
    "    df2 = pd.read_csv(subm_path2)\n",
    "    return (df1 != df2)['camera'].sum()/2640."
   ]
  },
  {
   "cell_type": "code",
   "execution_count": 4,
   "metadata": {},
   "outputs": [
    {
     "data": {
      "text/plain": [
       "array([[  2.30427057e-01,   4.84325022e-01,   5.16182883e-03],\n",
       "       [  4.63270843e-02,   1.69466971e-03,   1.10656278e-04],\n",
       "       [  1.59370884e-01,   1.33133292e-01,   2.71781767e-03]])"
      ]
     },
     "execution_count": 4,
     "metadata": {},
     "output_type": "execute_result"
    }
   ],
   "source": [
    "P = get_proba('../models/proba1.csv')\n",
    "P[:3, :3]"
   ]
  },
  {
   "cell_type": "markdown",
   "metadata": {},
   "source": [
    "## #1 average different predictions (from raw probs)"
   ]
  },
  {
   "cell_type": "code",
   "execution_count": 6,
   "metadata": {},
   "outputs": [
    {
     "data": {
      "text/plain": [
       "array([[  1.30430266e-01,   4.46921155e-01,   3.23994139e-02, ...,\n",
       "          1.20126526e-03,   1.05716349e-02,   6.87616952e-02],\n",
       "       [  3.24848127e-02,   8.78940028e-02,   4.32265330e-03, ...,\n",
       "          8.78389790e-04,   6.59955412e-01,   4.10077199e-02],\n",
       "       [  1.20631762e-01,   1.52186640e-01,   1.57862445e-03, ...,\n",
       "          1.04656043e-03,   1.19606800e-01,   5.12661040e-01],\n",
       "       ..., \n",
       "       [  1.16247602e-01,   4.08802994e-01,   5.17931608e-02, ...,\n",
       "          3.80601780e-02,   1.16218922e-02,   1.64976966e-01],\n",
       "       [  4.96196985e-01,   4.23220114e-03,   2.48291728e-03, ...,\n",
       "          3.88299840e-01,   1.79937498e-02,   6.91680338e-02],\n",
       "       [  2.15672876e-01,   3.66537021e-02,   2.02466367e-03, ...,\n",
       "          1.86312740e-05,   3.95222452e-02,   1.85410858e-02]])"
      ]
     },
     "execution_count": 6,
     "metadata": {},
     "output_type": "execute_result"
    }
   ],
   "source": [
    "Q = avg_proba('../models/proba1.csv', \n",
    "              '../models/proba_best.csv', \n",
    "               weights=[1., 1.])\n",
    "Q"
   ]
  },
  {
   "cell_type": "markdown",
   "metadata": {},
   "source": [
    "## #2 convert proba to predictions"
   ]
  },
  {
   "cell_type": "code",
   "execution_count": 8,
   "metadata": {
    "collapsed": true
   },
   "outputs": [],
   "source": [
    "proba_to_subm(Q, 'subm.csv')"
   ]
  },
  {
   "cell_type": "markdown",
   "metadata": {},
   "source": [
    "## #3 how predictions differ"
   ]
  },
  {
   "cell_type": "code",
   "execution_count": 10,
   "metadata": {},
   "outputs": [
    {
     "name": "stderr",
     "output_type": "stream",
     "text": [
      "/usr/local/lib/python2.7/dist-packages/pandas/core/computation/check.py:17: UserWarning: The installed version of numexpr 2.4.3 is not supported in pandas and will be not be used\n",
      "The minimum supported version is 2.4.6\n",
      "\n",
      "  ver=ver, min_ver=_MIN_NUMEXPR_VERSION), UserWarning)\n"
     ]
    },
    {
     "data": {
      "text/plain": [
       "0.4693181818181818"
      ]
     },
     "execution_count": 10,
     "metadata": {},
     "output_type": "execute_result"
    }
   ],
   "source": [
    "get_diff('../models/submission1.csv', '../models/submission_best.csv')"
   ]
  },
  {
   "cell_type": "markdown",
   "metadata": {},
   "source": [
    "# ensembles, yesss"
   ]
  },
  {
   "cell_type": "markdown",
   "metadata": {},
   "source": [
    "### generations 1+2 (manual weights) $\\rightarrow$ 0.913"
   ]
  },
  {
   "cell_type": "code",
   "execution_count": 8,
   "metadata": {},
   "outputs": [
    {
     "name": "stdout",
     "output_type": "stream",
     "text": [
      "[0.1, 0.25, 0.25, 1.0, 1.0, 1.0, 0.25, 0.1, 2.0, 1.5, 1.5, 2.0, 1.0, 0.75, 1.0, 1.0, 1.0, 1.0, 0.5]\n"
     ]
    }
   ],
   "source": [
    "proba_dirs = [\n",
    "    #\n",
    "    ## 1th-generation\n",
    "    ### \n",
    "    # DenseNet no augmentation (512x512 crops)\n",
    "    (0.1, '0.579-#15'),\n",
    "    # DenseNet + random horiz flips only\n",
    "    (0.25, '0.691-#23-tta-horiz'),\n",
    "    # DenseNet + random crops + aug + TTA x 10 + LR restart\n",
    "    (0.25, '0.732-#23-tta10'),\n",
    "    (1., '0.750-#25'),\n",
    "    # ... but trained on 256x256 crops\n",
    "    (1., '0.742-#36'),\n",
    "    # ... but trained using Hinge Loss (512x512)\n",
    "    (1., '0.750-#30'),\n",
    "    # CNN_Small 1-FC no aug\n",
    "    (0.25, '0.665-#39'),\n",
    "    # CNN_Small 2-FC (using best TTA) + SGD-m\n",
    "    (0.1, '0.517-#48'),\n",
    "    #\n",
    "    ## 2nd-generation\n",
    "    ###\n",
    "    (2.0, '0.859-d5-#95'), # ema.9 0.885 | RETEST WITH NEW TTA256 [+] -> 0.871\n",
    "    (1.5, 'dh5-#98'),      # ema.9 0.841 | RETEST WITH NEW TTA64  [+]\n",
    "    (1.5, 'r3-#100'),      # ema.9 0.845 | RETEST WITH NEW TTA64  [-]\n",
    "    (2.0, 'R3-#103'),      # ema.9 0.877 | RETEST WITH NEW TTA128 [+]\n",
    "    (1.0, 'c6-#105'),      # ema.9 0.791 | RETEST WITH NEW TTA32  [+]\n",
    "    \n",
    "#     # 3rd-generation\n",
    "#     ## \n",
    "#     (0.75, 'dc1-#131'), # TTA64 | ema.9 0.9126\n",
    "#     (1.0, 'dhc1-#132'), # TTA32 | ema.9 0.8822\n",
    "#     (1.0, 'D1-#135'),   # TTA32 | ema.9 ~0.89\n",
    "#     (1.0, 'Rc1-#133'),  # TTA32 | ema.9 0.9004\n",
    "#     (1.0, 'Z1-#134'),   # TTA32 | ema.9 0.8995\n",
    "#     (0.5, 'cc1-#137'),  # TTA32 | ema.9 0.7948\n",
    "]\n",
    "weights, dirs = zip(*proba_dirs)\n",
    "P = avg_proba(*map(lambda p: '../submissions/{0}/proba.csv'.format(p), dirs), \n",
    "              weights=list(weights))\n",
    "proba_to_subm(P, '../submissions/averaged_gen12.csv')"
   ]
  },
  {
   "cell_type": "markdown",
   "metadata": {},
   "source": [
    "### generation 4"
   ]
  },
  {
   "cell_type": "code",
   "execution_count": null,
   "metadata": {
    "collapsed": true
   },
   "outputs": [],
   "source": [
    "    # D121 256x256 d=0 weighted\n",
    "    '0.960-d-#181', \n",
    "#     # BEST FROM D121 d=0.3\n",
    "#     '0.949-dw-0.3-#194',\n",
    "#     # D121 512x512 d=0.1 (unw.)\n",
    "#     '0.946-d-512-#191',\n",
    "#     # R50 512x512 d=0.2 (unw.)\n",
    "#     'R-512-#189',\n",
    "#     # R50 256x256 d=0 (unw.)\n",
    "#     ('R-#190'),\n",
    "#     # TODO: C2 * 0.25"
   ]
  },
  {
   "cell_type": "markdown",
   "metadata": {},
   "source": [
    "## generation 5 (bootstrapping) $\\rightarrow$ 0.973"
   ]
  },
  {
   "cell_type": "code",
   "execution_count": 52,
   "metadata": {},
   "outputs": [
    {
     "data": {
      "text/plain": [
       "array([[ 0.00883252,  0.01456236,  0.02400928,  0.03958461,  0.06526399,\n",
       "         0.10760213,  0.17740591,  0.2924929 ,  0.48223927,  0.79507815]])"
      ]
     },
     "execution_count": 52,
     "metadata": {},
     "output_type": "execute_result"
    }
   ],
   "source": [
    "softmax(np.arange(10))**0.5"
   ]
  },
  {
   "cell_type": "code",
   "execution_count": 54,
   "metadata": {},
   "outputs": [
    {
     "data": {
      "text/plain": [
       "array([[ 0.49823845,  0.49823845,  0.49823845,  0.49823845,  0.49823845,\n",
       "         0.49823845,  0.49823845,  0.49823845,  0.49823845,  0.49823845]])"
      ]
     },
     "execution_count": 54,
     "metadata": {},
     "output_type": "execute_result"
    }
   ],
   "source": [
    "softmax(np.arange(10)/2.) / (softmax(np.arange(10))**0.5)"
   ]
  },
  {
   "cell_type": "code",
   "execution_count": null,
   "metadata": {
    "collapsed": true
   },
   "outputs": [],
   "source": [
    "# (d121/10., 'dp-0.2(0.9333)-#206'),\n",
    "# (d121/10., 'dp-0.1-horiz(0.9333)-#205'),\n",
    "(D201/2., 'Dp-0.3-fc@10(0.9354)-#209'),\n",
    "\n",
    "proba_dirs = [\n",
    "    (1., [\n",
    "        (1./3., '0.965-dp-0.1-final-no-weighted-#220'),\n",
    "        (1./3., '0.969-dp-0.1-#204'),\n",
    "        (1./3., '0.970-dp-0.2-fc-#208'),\n",
    "    ]),\n",
    "    (1., [\n",
    "        \n",
    "        (1., 'Dp-0.25-fc(0.9500)-#224'),\n",
    "    ]),\n",
    "    (1., [\n",
    "        (1./12., 'dp-final(0.9604)-#221'),\n",
    "        (1./12., 'dp-0.05-final(0.9500)-#223'),\n",
    "        (1./12., 'dp-0.1-bs(0.9521)-#228'),\n",
    "        (1./12., 'dp-0.1-final(0.9563)-#219'),\n",
    "        (1./12., 'dp-0.1-adam(0.9542)-#218'),\n",
    "        (1./12., 'dp-0.1-final-bag-1'),\n",
    "        (1./12., 'dp-0.1-final-bag-2'),\n",
    "        (1./12., 'dp-0.1-final-bag-3'),\n",
    "        (1./12., 'dp-0.1-final-bag-4'),\n",
    "        (1./12., 'dp-0.1-final-bag-5'),\n",
    "        (1./12., 'dp-0.1-final-bag-6'),\n",
    "        (1./12., 'dp-0.1-final-bag-7'),\n",
    "    ])    \n",
    "]"
   ]
  },
  {
   "cell_type": "code",
   "execution_count": 82,
   "metadata": {},
   "outputs": [
    {
     "name": "stdout",
     "output_type": "stream",
     "text": [
      "1) Arithmetic (proba)    \t0.9833\n",
      "2) Geometric (avg. logits)\t0.9812\n",
      "3) proba ** 0.5\t\t\t0.9812\n",
      "3) proba ** 2\t\t\t0.9792\n",
      "[x] g(logits)\t\t\t0.9771\n",
      "5) softmax(g(logits))\t\t0.9792\n"
     ]
    }
   ],
   "source": [
    "# (d121/10., ),\n",
    "# (d121/10., ),\n",
    "# (D201/2., 'Dp-0.3-fc@10(0.9354)-#209'),\n",
    "\n",
    "proba_dirs = [\n",
    "    (1./3., [\n",
    "        (1., '0.965-dp-0.1-final-no-weighted-#220'),\n",
    "        (1., '0.969-dp-0.1-#204'),\n",
    "        (1., '0.970-dp-0.2-fc-#208'),\n",
    "    ]),\n",
    "    (1./2., [\n",
    "        (1., 'Dp-0.15-fc(0.9500)-#213'),\n",
    "        (1., 'Dp-0.25-fc(0.9500)-#224'),\n",
    "    ]),\n",
    "    (1./2., [\n",
    "        (1., 'R152p-0.15-fc(0.9458)-#216'),\n",
    "        (1., 'R152p-0.25-fc(0.9521)-#227'),\n",
    "    ]),\n",
    "    (1./4., [\n",
    "        (1., 'RX64p-0.1(0.9521)-#217'),\n",
    "        (1., 'RX64p-0.2-fc(0.9583)-#226'),\n",
    "        (1., 'RXp-0.1(0.9500)-#215'),\n",
    "        (1., 'RXp-0.2-fc(0.9479)-#225')\n",
    "    ]),\n",
    "    (1./12., [\n",
    "        (1., 'dp-final(0.9604)-#221'),\n",
    "        (1., 'dp-0.05-final(0.9500)-#223'),\n",
    "        (1., 'dp-0.1-bs(0.9521)-#228'),\n",
    "        (1., 'dp-0.1-final(0.9563)-#219'),\n",
    "        (1., 'dp-0.1-adam(0.9542)-#218'),\n",
    "        (1., 'dp-0.1-final-bag-1'),\n",
    "        (1., 'dp-0.1-final-bag-2'),\n",
    "        (1., 'dp-0.1-final-bag-3'),\n",
    "        (1., 'dp-0.1-final-bag-4'),\n",
    "        (1., 'dp-0.1-final-bag-5'),\n",
    "        (1., 'dp-0.1-final-bag-6'),\n",
    "        (1., 'dp-0.1-final-bag-7'),\n",
    "    ])    \n",
    "]\n",
    "\n",
    "proba_dirs_normalized = []\n",
    "for meta_w, dirs in proba_dirs:\n",
    "    for w, d in dirs:\n",
    "        proba_dirs_normalized.append((meta_w * w, d))\n",
    "proba_dirs = proba_dirs_normalized\n",
    "\n",
    "y_val = np.load('../submissions/{0}/y_val.npy'.format(proba_dirs[0][1]))\n",
    "def val_acc(z):\n",
    "    return sum(z.argmax(axis=1) == y_val)/float(len(y_val))\n",
    "\n",
    "X = []\n",
    "\n",
    "for w, path in proba_dirs:\n",
    "    logits = np.load('../submissions/{0}/logits_val.npy'.format(path))\n",
    "    X.append((w, logits))\n",
    "\n",
    "def g(x):\n",
    "    return np.sqrt(np.abs(x))*np.sign(x)\n",
    "    \n",
    "w, X = zip(*X)\n",
    "X = np.asarray(X) # logits\n",
    "Y = X.copy()\n",
    "print \"1) Arithmetic (proba)    \\t{0:.4f}\".format(val_acc(np.average([softmax(y) for y in Y], axis=0, weights=w)))\n",
    "print \"2) Geometric (avg. logits)\\t{0:.4f}\".format(val_acc(np.average([y for y in Y], axis=0, weights=w)))\n",
    "print \"3) proba ** 0.5\\t\\t\\t{0:.4f}\".format(val_acc(np.average([softmax(y)**0.5 for y in Y], axis=0, weights=w)))\n",
    "print \"3) proba ** 2\\t\\t\\t{0:.4f}\".format(val_acc(np.average([softmax(y)**2. for y in Y], axis=0, weights=w)))\n",
    "print \"[x] g(logits)\\t\\t\\t{0:.4f}\".format(val_acc(np.average([g(y) for y in Y], axis=0, weights=w)))\n",
    "print \"5) softmax(g(logits))\\t\\t{0:.4f}\".format(val_acc(np.average([softmax(g(y)) for y in Y], axis=0, weights=w)))\n",
    "    \n",
    "weights, dirs = zip(*proba_dirs)\n",
    "P = avg_proba_paths(*map(lambda p: '../submissions/{0}/proba.csv'.format(p), dirs), weights=list(weights))\n",
    "proba_to_subm(P, '../submissions/avg-submission.csv');"
   ]
  },
  {
   "cell_type": "markdown",
   "metadata": {},
   "source": [
    "## generation 4+5th"
   ]
  },
  {
   "cell_type": "code",
   "execution_count": 50,
   "metadata": {
    "collapsed": true
   },
   "outputs": [],
   "source": [
    "dirs = [\n",
    "    # w/o pseudo-labels\n",
    "#     '0.960-d-#181',\n",
    "    # w/ pseudo-labels\n",
    "    '0.965-dp-0.1-final-no-weighted-#220',\n",
    "    '0.969-dp-0.1-#204',\n",
    "    '0.970-dp-0.2-fc-#208',\n",
    "    # <ALL FROM \n",
    "]\n",
    "P = avg_proba_paths(*map(lambda p: '../submissions/{0}/proba.csv'.format(p), dirs))\n",
    "proba_to_subm(P, '../submissions/#236-submission.csv');"
   ]
  },
  {
   "cell_type": "markdown",
   "metadata": {},
   "source": [
    "### ($\\approx$blending) $\\rightarrow$ 0.968 (overfit to val. set)"
   ]
  },
  {
   "cell_type": "code",
   "execution_count": 51,
   "metadata": {},
   "outputs": [
    {
     "data": {
      "text/plain": [
       "((480, 31), (480,))"
      ]
     },
     "execution_count": 51,
     "metadata": {},
     "output_type": "execute_result"
    }
   ],
   "source": [
    "dirs = [\n",
    "    # w/o pseudo-labels\n",
    "#     '0.960-d-#181',\n",
    "    # w/ pseudo-labels\n",
    "    '0.965-dp-0.1-final-no-weighted-#220',\n",
    "    '0.969-dp-0.1-#204',\n",
    "    '0.970-dp-0.2-fc-#208',\n",
    "    # <ALL FROM \n",
    "]\n",
    "\n",
    "X = []\n",
    "manip = np.load('../submissions/{0}/manip_val.npy'.format(dirs[0]))\n",
    "y = np.load('../submissions/{0}/y_val.npy'.format(dirs[0]))\n",
    "for d in dirs:\n",
    "#     X_b = softmax(np.load('../submissions/{0}/logits_val.npy'.format(d)))\n",
    "    X_b = np.load('../submissions/{0}/logits_val.npy'.format(d))\n",
    "    X_b -= X_b.mean(axis=1)[:, np.newaxis]\n",
    "    X.append(X_b)\n",
    "X = [manip] + X\n",
    "X = np.hstack(X)\n",
    "X.shape, y.shape"
   ]
  },
  {
   "cell_type": "markdown",
   "metadata": {},
   "source": [
    "### just average predictions"
   ]
  },
  {
   "cell_type": "code",
   "execution_count": 25,
   "metadata": {},
   "outputs": [
    {
     "name": "stdout",
     "output_type": "stream",
     "text": [
      "0.966666666667\n",
      "0.975\n",
      "0.964583333333\n",
      "Avg 0.975\n",
      "Geomean 0.76875\n"
     ]
    }
   ],
   "source": [
    "print sum(X[0].argmax(axis=1) == y) / 480.\n",
    "print sum(X[1].argmax(axis=1) == y) / 480.\n",
    "print sum(X[2].argmax(axis=1) == y) / 480.\n",
    "print \"Avg\", sum(((X[0] + X[1] + X[2])/3.).argmax(axis=1) == y) / 480.\n",
    "print \"Geomean\", sum(avg_proba(X[0], X[1], X[2]).argmax(axis=1) == y) / 480."
   ]
  },
  {
   "cell_type": "code",
   "execution_count": 7,
   "metadata": {},
   "outputs": [
    {
     "data": {
      "image/png": "[encoded data removed]",
      "text/plain": [
       "<matplotlib.figure.Figure at 0x7fa3397f3690>"
      ]
     },
     "metadata": {},
     "output_type": "display_data"
    }
   ],
   "source": [
    "plt.imshow(X[:12,1:], cmap='gray', interpolation='none');\n",
    "plt.colorbar();"
   ]
  },
  {
   "cell_type": "markdown",
   "metadata": {},
   "source": [
    "### grid search logreg"
   ]
  },
  {
   "cell_type": "code",
   "execution_count": 52,
   "metadata": {},
   "outputs": [
    {
     "name": "stdout",
     "output_type": "stream",
     "text": [
      "Fitting 10 folds for each of 52 candidates, totalling 520 fits\n"
     ]
    },
    {
     "name": "stderr",
     "output_type": "stream",
     "text": [
      "[Parallel(n_jobs=-1)]: Done 232 tasks      | elapsed:   26.8s\n",
      "[Parallel(n_jobs=-1)]: Done 382 tasks      | elapsed:  1.3min\n",
      "[Parallel(n_jobs=-1)]: Done 520 out of 520 | elapsed:  2.0min finished\n"
     ]
    }
   ],
   "source": [
    "# TODO: for train use solver 'sag', 'saga' everywhere\n",
    "logreg = LogisticRegression(tol=1e-5, max_iter=1000,\n",
    "                            class_weight='balanced')\n",
    "logreg_cv = GridSearchCV(estimator=logreg,\n",
    "                         param_grid=[{'C': np.logspace(-4, 8, 13), 'multi_class': ['ovr'], 'solver': ['liblinear']},\n",
    "                                     {'C': np.logspace(-4, 8, 13), 'multi_class': ['multinomial'], 'solver': ['lbfgs', 'sag', 'saga']}],\n",
    "                         verbose=1,\n",
    "                         n_jobs=-1,\n",
    "                         cv=10)\n",
    "logreg_cv.fit(X, y);"
   ]
  },
  {
   "cell_type": "code",
   "execution_count": 53,
   "metadata": {},
   "outputs": [
    {
     "name": "stdout",
     "output_type": "stream",
     "text": [
      "0.989583333333\n",
      "{'multi_class': 'multinomial', 'C': 100000.0, 'solver': 'saga'}\n"
     ]
    },
    {
     "data": {
      "text/html": [
       "<div>\n",
       "<style scoped>\n",
       "    .dataframe tbody tr th:only-of-type {\n",
       "        vertical-align: middle;\n",
       "    }\n",
       "\n",
       "    .dataframe tbody tr th {\n",
       "        vertical-align: top;\n",
       "    }\n",
       "\n",
       "    .dataframe thead th {\n",
       "        text-align: right;\n",
       "    }\n",
       "</style>\n",
       "<table border=\"1\" class=\"dataframe\">\n",
       "  <thead>\n",
       "    <tr style=\"text-align: right;\">\n",
       "      <th></th>\n",
       "      <th>mean_fit_time</th>\n",
       "      <th>mean_score_time</th>\n",
       "      <th>mean_test_score</th>\n",
       "      <th>mean_train_score</th>\n",
       "      <th>param_C</th>\n",
       "      <th>param_multi_class</th>\n",
       "      <th>param_solver</th>\n",
       "      <th>params</th>\n",
       "      <th>rank_test_score</th>\n",
       "      <th>split0_test_score</th>\n",
       "      <th>...</th>\n",
       "      <th>split7_test_score</th>\n",
       "      <th>split7_train_score</th>\n",
       "      <th>split8_test_score</th>\n",
       "      <th>split8_train_score</th>\n",
       "      <th>split9_test_score</th>\n",
       "      <th>split9_train_score</th>\n",
       "      <th>std_fit_time</th>\n",
       "      <th>std_score_time</th>\n",
       "      <th>std_test_score</th>\n",
       "      <th>std_train_score</th>\n",
       "    </tr>\n",
       "  </thead>\n",
       "  <tbody>\n",
       "    <tr>\n",
       "      <th>0</th>\n",
       "      <td>0.019597</td>\n",
       "      <td>0.000480</td>\n",
       "      <td>0.975000</td>\n",
       "      <td>0.975470</td>\n",
       "      <td>0.0001</td>\n",
       "      <td>ovr</td>\n",
       "      <td>liblinear</td>\n",
       "      <td>{u'multi_class': u'ovr', u'C': 0.0001, u'solve...</td>\n",
       "      <td>32</td>\n",
       "      <td>0.98</td>\n",
       "      <td>...</td>\n",
       "      <td>0.98</td>\n",
       "      <td>0.974419</td>\n",
       "      <td>0.975</td>\n",
       "      <td>0.975000</td>\n",
       "      <td>1.0</td>\n",
       "      <td>0.972727</td>\n",
       "      <td>0.005771</td>\n",
       "      <td>0.000147</td>\n",
       "      <td>0.023496</td>\n",
       "      <td>0.002900</td>\n",
       "    </tr>\n",
       "    <tr>\n",
       "      <th>1</th>\n",
       "      <td>0.034619</td>\n",
       "      <td>0.000422</td>\n",
       "      <td>0.968750</td>\n",
       "      <td>0.972230</td>\n",
       "      <td>0.001</td>\n",
       "      <td>ovr</td>\n",
       "      <td>liblinear</td>\n",
       "      <td>{u'multi_class': u'ovr', u'C': 0.001, u'solver...</td>\n",
       "      <td>41</td>\n",
       "      <td>0.96</td>\n",
       "      <td>...</td>\n",
       "      <td>0.98</td>\n",
       "      <td>0.972093</td>\n",
       "      <td>0.975</td>\n",
       "      <td>0.970455</td>\n",
       "      <td>1.0</td>\n",
       "      <td>0.970455</td>\n",
       "      <td>0.006005</td>\n",
       "      <td>0.000161</td>\n",
       "      <td>0.022185</td>\n",
       "      <td>0.001637</td>\n",
       "    </tr>\n",
       "    <tr>\n",
       "      <th>2</th>\n",
       "      <td>0.049029</td>\n",
       "      <td>0.000388</td>\n",
       "      <td>0.972917</td>\n",
       "      <td>0.976860</td>\n",
       "      <td>0.01</td>\n",
       "      <td>ovr</td>\n",
       "      <td>liblinear</td>\n",
       "      <td>{u'multi_class': u'ovr', u'C': 0.01, u'solver'...</td>\n",
       "      <td>36</td>\n",
       "      <td>0.96</td>\n",
       "      <td>...</td>\n",
       "      <td>0.98</td>\n",
       "      <td>0.976744</td>\n",
       "      <td>0.975</td>\n",
       "      <td>0.975000</td>\n",
       "      <td>1.0</td>\n",
       "      <td>0.975000</td>\n",
       "      <td>0.001329</td>\n",
       "      <td>0.000040</td>\n",
       "      <td>0.022028</td>\n",
       "      <td>0.002858</td>\n",
       "    </tr>\n",
       "    <tr>\n",
       "      <th>3</th>\n",
       "      <td>0.075200</td>\n",
       "      <td>0.000383</td>\n",
       "      <td>0.972917</td>\n",
       "      <td>0.992595</td>\n",
       "      <td>0.1</td>\n",
       "      <td>ovr</td>\n",
       "      <td>liblinear</td>\n",
       "      <td>{u'multi_class': u'ovr', u'C': 0.1, u'solver':...</td>\n",
       "      <td>36</td>\n",
       "      <td>0.94</td>\n",
       "      <td>...</td>\n",
       "      <td>0.98</td>\n",
       "      <td>0.995349</td>\n",
       "      <td>0.975</td>\n",
       "      <td>0.993182</td>\n",
       "      <td>1.0</td>\n",
       "      <td>0.990909</td>\n",
       "      <td>0.017963</td>\n",
       "      <td>0.000023</td>\n",
       "      <td>0.017849</td>\n",
       "      <td>0.002013</td>\n",
       "    </tr>\n",
       "    <tr>\n",
       "      <th>4</th>\n",
       "      <td>0.082657</td>\n",
       "      <td>0.000396</td>\n",
       "      <td>0.979167</td>\n",
       "      <td>0.997680</td>\n",
       "      <td>1</td>\n",
       "      <td>ovr</td>\n",
       "      <td>liblinear</td>\n",
       "      <td>{u'multi_class': u'ovr', u'C': 1.0, u'solver':...</td>\n",
       "      <td>30</td>\n",
       "      <td>0.94</td>\n",
       "      <td>...</td>\n",
       "      <td>0.98</td>\n",
       "      <td>0.997674</td>\n",
       "      <td>0.975</td>\n",
       "      <td>1.000000</td>\n",
       "      <td>1.0</td>\n",
       "      <td>0.997727</td>\n",
       "      <td>0.005767</td>\n",
       "      <td>0.000015</td>\n",
       "      <td>0.020242</td>\n",
       "      <td>0.001040</td>\n",
       "    </tr>\n",
       "  </tbody>\n",
       "</table>\n",
       "<p>5 rows × 33 columns</p>\n",
       "</div>"
      ],
      "text/plain": [
       "   mean_fit_time  mean_score_time  mean_test_score  mean_train_score param_C  \\\n",
       "0       0.019597         0.000480         0.975000          0.975470  0.0001   \n",
       "1       0.034619         0.000422         0.968750          0.972230   0.001   \n",
       "2       0.049029         0.000388         0.972917          0.976860    0.01   \n",
       "3       0.075200         0.000383         0.972917          0.992595     0.1   \n",
       "4       0.082657         0.000396         0.979167          0.997680       1   \n",
       "\n",
       "  param_multi_class param_solver  \\\n",
       "0               ovr    liblinear   \n",
       "1               ovr    liblinear   \n",
       "2               ovr    liblinear   \n",
       "3               ovr    liblinear   \n",
       "4               ovr    liblinear   \n",
       "\n",
       "                                              params  rank_test_score  \\\n",
       "0  {u'multi_class': u'ovr', u'C': 0.0001, u'solve...               32   \n",
       "1  {u'multi_class': u'ovr', u'C': 0.001, u'solver...               41   \n",
       "2  {u'multi_class': u'ovr', u'C': 0.01, u'solver'...               36   \n",
       "3  {u'multi_class': u'ovr', u'C': 0.1, u'solver':...               36   \n",
       "4  {u'multi_class': u'ovr', u'C': 1.0, u'solver':...               30   \n",
       "\n",
       "   split0_test_score       ...         split7_test_score  split7_train_score  \\\n",
       "0               0.98       ...                      0.98            0.974419   \n",
       "1               0.96       ...                      0.98            0.972093   \n",
       "2               0.96       ...                      0.98            0.976744   \n",
       "3               0.94       ...                      0.98            0.995349   \n",
       "4               0.94       ...                      0.98            0.997674   \n",
       "\n",
       "   split8_test_score  split8_train_score  split9_test_score  \\\n",
       "0              0.975            0.975000                1.0   \n",
       "1              0.975            0.970455                1.0   \n",
       "2              0.975            0.975000                1.0   \n",
       "3              0.975            0.993182                1.0   \n",
       "4              0.975            1.000000                1.0   \n",
       "\n",
       "   split9_train_score  std_fit_time  std_score_time  std_test_score  \\\n",
       "0            0.972727      0.005771        0.000147        0.023496   \n",
       "1            0.970455      0.006005        0.000161        0.022185   \n",
       "2            0.975000      0.001329        0.000040        0.022028   \n",
       "3            0.990909      0.017963        0.000023        0.017849   \n",
       "4            0.997727      0.005767        0.000015        0.020242   \n",
       "\n",
       "   std_train_score  \n",
       "0         0.002900  \n",
       "1         0.001637  \n",
       "2         0.002858  \n",
       "3         0.002013  \n",
       "4         0.001040  \n",
       "\n",
       "[5 rows x 33 columns]"
      ]
     },
     "execution_count": 53,
     "metadata": {},
     "output_type": "execute_result"
    }
   ],
   "source": [
    "print logreg_cv.best_score_\n",
    "print logreg_cv.best_params_\n",
    "pd.DataFrame(logreg_cv.cv_results_).head()"
   ]
  },
  {
   "cell_type": "markdown",
   "metadata": {},
   "source": [
    "### grid search SVM"
   ]
  },
  {
   "cell_type": "code",
   "execution_count": 30,
   "metadata": {},
   "outputs": [
    {
     "name": "stdout",
     "output_type": "stream",
     "text": [
      "Fitting 10 folds for each of 52 candidates, totalling 520 fits\n"
     ]
    },
    {
     "name": "stderr",
     "output_type": "stream",
     "text": [
      "[Parallel(n_jobs=-1)]: Done 348 tasks      | elapsed:    4.4s\n",
      "[Parallel(n_jobs=-1)]: Done 520 out of 520 | elapsed:    6.5s finished\n"
     ]
    }
   ],
   "source": [
    "svc = SVC(tol=1e-6, max_iter=-1, class_weight='balanced')\n",
    "svc_cv = GridSearchCV(estimator=svc,\n",
    "                      param_grid={'kernel': ['linear', 'rbf'],\n",
    "                                  'C': np.logspace(-4, 8, 13),\n",
    "                                  'decision_function_shape': ['ovr', 'ovo']},\n",
    "                      verbose=1,\n",
    "                      n_jobs=-1,\n",
    "                      cv=10)\n",
    "svc_cv.fit(X, y);"
   ]
  },
  {
   "cell_type": "code",
   "execution_count": 31,
   "metadata": {},
   "outputs": [
    {
     "name": "stdout",
     "output_type": "stream",
     "text": [
      "0.985416666667\n",
      "{'kernel': 'linear', 'C': 0.01, 'decision_function_shape': 'ovr'}\n"
     ]
    },
    {
     "data": {
      "text/html": [
       "<div>\n",
       "<style scoped>\n",
       "    .dataframe tbody tr th:only-of-type {\n",
       "        vertical-align: middle;\n",
       "    }\n",
       "\n",
       "    .dataframe tbody tr th {\n",
       "        vertical-align: top;\n",
       "    }\n",
       "\n",
       "    .dataframe thead th {\n",
       "        text-align: right;\n",
       "    }\n",
       "</style>\n",
       "<table border=\"1\" class=\"dataframe\">\n",
       "  <thead>\n",
       "    <tr style=\"text-align: right;\">\n",
       "      <th></th>\n",
       "      <th>mean_fit_time</th>\n",
       "      <th>mean_score_time</th>\n",
       "      <th>mean_test_score</th>\n",
       "      <th>mean_train_score</th>\n",
       "      <th>param_C</th>\n",
       "      <th>param_decision_function_shape</th>\n",
       "      <th>param_kernel</th>\n",
       "      <th>params</th>\n",
       "      <th>rank_test_score</th>\n",
       "      <th>split0_test_score</th>\n",
       "      <th>...</th>\n",
       "      <th>split7_test_score</th>\n",
       "      <th>split7_train_score</th>\n",
       "      <th>split8_test_score</th>\n",
       "      <th>split8_train_score</th>\n",
       "      <th>split9_test_score</th>\n",
       "      <th>split9_train_score</th>\n",
       "      <th>std_fit_time</th>\n",
       "      <th>std_score_time</th>\n",
       "      <th>std_test_score</th>\n",
       "      <th>std_train_score</th>\n",
       "    </tr>\n",
       "  </thead>\n",
       "  <tbody>\n",
       "    <tr>\n",
       "      <th>0</th>\n",
       "      <td>0.015002</td>\n",
       "      <td>0.001839</td>\n",
       "      <td>0.945833</td>\n",
       "      <td>0.946771</td>\n",
       "      <td>0.0001</td>\n",
       "      <td>ovr</td>\n",
       "      <td>linear</td>\n",
       "      <td>{u'kernel': u'linear', u'C': 0.0001, u'decisio...</td>\n",
       "      <td>25</td>\n",
       "      <td>0.90</td>\n",
       "      <td>...</td>\n",
       "      <td>0.96</td>\n",
       "      <td>0.944186</td>\n",
       "      <td>0.950</td>\n",
       "      <td>0.945455</td>\n",
       "      <td>1.000</td>\n",
       "      <td>0.943182</td>\n",
       "      <td>0.007096</td>\n",
       "      <td>0.001576</td>\n",
       "      <td>0.035697</td>\n",
       "      <td>0.003537</td>\n",
       "    </tr>\n",
       "    <tr>\n",
       "      <th>1</th>\n",
       "      <td>0.039595</td>\n",
       "      <td>0.003307</td>\n",
       "      <td>0.477083</td>\n",
       "      <td>0.923155</td>\n",
       "      <td>0.0001</td>\n",
       "      <td>ovr</td>\n",
       "      <td>rbf</td>\n",
       "      <td>{u'kernel': u'rbf', u'C': 0.0001, u'decision_f...</td>\n",
       "      <td>45</td>\n",
       "      <td>0.32</td>\n",
       "      <td>...</td>\n",
       "      <td>0.40</td>\n",
       "      <td>0.893023</td>\n",
       "      <td>0.525</td>\n",
       "      <td>0.886364</td>\n",
       "      <td>0.725</td>\n",
       "      <td>0.956818</td>\n",
       "      <td>0.005923</td>\n",
       "      <td>0.001954</td>\n",
       "      <td>0.103460</td>\n",
       "      <td>0.026829</td>\n",
       "    </tr>\n",
       "    <tr>\n",
       "      <th>2</th>\n",
       "      <td>0.010377</td>\n",
       "      <td>0.002087</td>\n",
       "      <td>0.945833</td>\n",
       "      <td>0.946771</td>\n",
       "      <td>0.0001</td>\n",
       "      <td>ovo</td>\n",
       "      <td>linear</td>\n",
       "      <td>{u'kernel': u'linear', u'C': 0.0001, u'decisio...</td>\n",
       "      <td>25</td>\n",
       "      <td>0.90</td>\n",
       "      <td>...</td>\n",
       "      <td>0.96</td>\n",
       "      <td>0.944186</td>\n",
       "      <td>0.950</td>\n",
       "      <td>0.945455</td>\n",
       "      <td>1.000</td>\n",
       "      <td>0.943182</td>\n",
       "      <td>0.002347</td>\n",
       "      <td>0.003091</td>\n",
       "      <td>0.035697</td>\n",
       "      <td>0.003537</td>\n",
       "    </tr>\n",
       "    <tr>\n",
       "      <th>3</th>\n",
       "      <td>0.043459</td>\n",
       "      <td>0.002521</td>\n",
       "      <td>0.477083</td>\n",
       "      <td>0.923155</td>\n",
       "      <td>0.0001</td>\n",
       "      <td>ovo</td>\n",
       "      <td>rbf</td>\n",
       "      <td>{u'kernel': u'rbf', u'C': 0.0001, u'decision_f...</td>\n",
       "      <td>45</td>\n",
       "      <td>0.32</td>\n",
       "      <td>...</td>\n",
       "      <td>0.40</td>\n",
       "      <td>0.893023</td>\n",
       "      <td>0.525</td>\n",
       "      <td>0.886364</td>\n",
       "      <td>0.725</td>\n",
       "      <td>0.956818</td>\n",
       "      <td>0.018340</td>\n",
       "      <td>0.000169</td>\n",
       "      <td>0.103460</td>\n",
       "      <td>0.026829</td>\n",
       "    </tr>\n",
       "    <tr>\n",
       "      <th>4</th>\n",
       "      <td>0.006535</td>\n",
       "      <td>0.000658</td>\n",
       "      <td>0.966667</td>\n",
       "      <td>0.973145</td>\n",
       "      <td>0.001</td>\n",
       "      <td>ovr</td>\n",
       "      <td>linear</td>\n",
       "      <td>{u'kernel': u'linear', u'C': 0.001, u'decision...</td>\n",
       "      <td>23</td>\n",
       "      <td>0.94</td>\n",
       "      <td>...</td>\n",
       "      <td>0.98</td>\n",
       "      <td>0.972093</td>\n",
       "      <td>0.950</td>\n",
       "      <td>0.975000</td>\n",
       "      <td>1.000</td>\n",
       "      <td>0.972727</td>\n",
       "      <td>0.003142</td>\n",
       "      <td>0.000021</td>\n",
       "      <td>0.024438</td>\n",
       "      <td>0.002156</td>\n",
       "    </tr>\n",
       "  </tbody>\n",
       "</table>\n",
       "<p>5 rows × 33 columns</p>\n",
       "</div>"
      ],
      "text/plain": [
       "   mean_fit_time  mean_score_time  mean_test_score  mean_train_score param_C  \\\n",
       "0       0.015002         0.001839         0.945833          0.946771  0.0001   \n",
       "1       0.039595         0.003307         0.477083          0.923155  0.0001   \n",
       "2       0.010377         0.002087         0.945833          0.946771  0.0001   \n",
       "3       0.043459         0.002521         0.477083          0.923155  0.0001   \n",
       "4       0.006535         0.000658         0.966667          0.973145   0.001   \n",
       "\n",
       "  param_decision_function_shape param_kernel  \\\n",
       "0                           ovr       linear   \n",
       "1                           ovr          rbf   \n",
       "2                           ovo       linear   \n",
       "3                           ovo          rbf   \n",
       "4                           ovr       linear   \n",
       "\n",
       "                                              params  rank_test_score  \\\n",
       "0  {u'kernel': u'linear', u'C': 0.0001, u'decisio...               25   \n",
       "1  {u'kernel': u'rbf', u'C': 0.0001, u'decision_f...               45   \n",
       "2  {u'kernel': u'linear', u'C': 0.0001, u'decisio...               25   \n",
       "3  {u'kernel': u'rbf', u'C': 0.0001, u'decision_f...               45   \n",
       "4  {u'kernel': u'linear', u'C': 0.001, u'decision...               23   \n",
       "\n",
       "   split0_test_score       ...         split7_test_score  split7_train_score  \\\n",
       "0               0.90       ...                      0.96            0.944186   \n",
       "1               0.32       ...                      0.40            0.893023   \n",
       "2               0.90       ...                      0.96            0.944186   \n",
       "3               0.32       ...                      0.40            0.893023   \n",
       "4               0.94       ...                      0.98            0.972093   \n",
       "\n",
       "   split8_test_score  split8_train_score  split9_test_score  \\\n",
       "0              0.950            0.945455              1.000   \n",
       "1              0.525            0.886364              0.725   \n",
       "2              0.950            0.945455              1.000   \n",
       "3              0.525            0.886364              0.725   \n",
       "4              0.950            0.975000              1.000   \n",
       "\n",
       "   split9_train_score  std_fit_time  std_score_time  std_test_score  \\\n",
       "0            0.943182      0.007096        0.001576        0.035697   \n",
       "1            0.956818      0.005923        0.001954        0.103460   \n",
       "2            0.943182      0.002347        0.003091        0.035697   \n",
       "3            0.956818      0.018340        0.000169        0.103460   \n",
       "4            0.972727      0.003142        0.000021        0.024438   \n",
       "\n",
       "   std_train_score  \n",
       "0         0.003537  \n",
       "1         0.026829  \n",
       "2         0.003537  \n",
       "3         0.026829  \n",
       "4         0.002156  \n",
       "\n",
       "[5 rows x 33 columns]"
      ]
     },
     "execution_count": 31,
     "metadata": {},
     "output_type": "execute_result"
    }
   ],
   "source": [
    "print svc_cv.best_score_\n",
    "print svc_cv.best_params_\n",
    "pd.DataFrame(svc_cv.cv_results_).head()"
   ]
  },
  {
   "cell_type": "code",
   "execution_count": 54,
   "metadata": {
    "collapsed": true
   },
   "outputs": [],
   "source": [
    "clf = logreg_cv.best_estimator_\n",
    "\n",
    "X_test = []\n",
    "manip_test = map(lambda s: int('_manip' in s), KaggleCameraDataset('../data/', train=False).X)\n",
    "manip_test = np.array(manip_test, dtype=np.float).reshape((-1, 1))\n",
    "for d in dirs:\n",
    "    X_b = inv_softmax(get_proba('../submissions/{0}/proba.csv'.format(d)))\n",
    "    X_test.append(X_b)\n",
    "X_test = [manip_test] + X_test\n",
    "X_test = np.hstack(X_test)\n",
    "P_test = clf.predict_proba(X_test)\n",
    "\n",
    "proba_to_subm(P_test, '../submissions/#237-submission.csv')"
   ]
  },
  {
   "cell_type": "markdown",
   "metadata": {},
   "source": [
    "## average all approaches"
   ]
  },
  {
   "cell_type": "code",
   "execution_count": null,
   "metadata": {
    "collapsed": true
   },
   "outputs": [],
   "source": [
    "proba_dirs = [\n",
    "    #\n",
    "    ##\n",
    "    ### generations 1, 2\n",
    "    (1., '0.913-#109-recomp'),   \n",
    "]\n",
    "\n",
    "weights, dirs = zip(*proba_dirs)\n",
    "P = avg_proba(*map(lambda p: '../submissions/{0}/proba.csv'.format(p), dirs), \n",
    "              weights=list(weights))\n",
    "proba_to_subm(P, '../submissions/all_averaged.csv')"
   ]
  },
  {
   "cell_type": "markdown",
   "metadata": {},
   "source": [
    "# pseudo-labels[2]"
   ]
  },
  {
   "cell_type": "code",
   "execution_count": 11,
   "metadata": {},
   "outputs": [
    {
     "name": "stdout",
     "output_type": "stream",
     "text": [
      "[248, 103, 237, 242, 236, 252, 251, 206, 223, 229]\n"
     ]
    }
   ],
   "source": [
    "P = get_proba('../submissions/0.960-d-#181/proba.csv')\n",
    "THRESHOLD = 0.99\n",
    "pseudo_ind = {}\n",
    "for c in xrange(10):\n",
    "    c_ind = np.arange(len(P))[P[:,c] > THRESHOLD].tolist()\n",
    "    c_ind.sort(key=lambda i: -P[i, c]) # sorted such that c_ind[0] is the most confident image\n",
    "    pseudo_ind[c] = c_ind\n",
    "print map(len, pseudo_ind.values())"
   ]
  },
  {
   "cell_type": "code",
   "execution_count": 12,
   "metadata": {},
   "outputs": [
    {
     "data": {
      "text/plain": [
       "[1742, 361, 1386, 963, 2436]"
      ]
     },
     "execution_count": 12,
     "metadata": {},
     "output_type": "execute_result"
    }
   ],
   "source": [
    "pseudo_ind[0][:5]"
   ]
  },
  {
   "cell_type": "code",
   "execution_count": 13,
   "metadata": {},
   "outputs": [
    {
     "data": {
      "text/plain": [
       "[2138, 2171, 2220]"
      ]
     },
     "execution_count": 13,
     "metadata": {},
     "output_type": "execute_result"
    }
   ],
   "source": [
    "pseudo_ind[7][:3]"
   ]
  },
  {
   "cell_type": "code",
   "execution_count": 14,
   "metadata": {
    "collapsed": true
   },
   "outputs": [],
   "source": [
    "with open('../data/pseudo_ind.json', 'w') as f:\n",
    "    json.dump(pseudo_ind, f, indent=4, sort_keys=True)"
   ]
  },
  {
   "cell_type": "code",
   "execution_count": 31,
   "metadata": {
    "collapsed": true
   },
   "outputs": [],
   "source": [
    "with open('../data/pseudo_ind.json') as f:\n",
    "    pseudo_ind = json.load(f)"
   ]
  },
  {
   "cell_type": "code",
   "execution_count": 28,
   "metadata": {},
   "outputs": [
    {
     "data": {
      "text/plain": [
       "[1742, 361, 1386, 963, 2436]"
      ]
     },
     "execution_count": 28,
     "metadata": {},
     "output_type": "execute_result"
    }
   ],
   "source": [
    "pseudo_ind['0'][:5]"
   ]
  },
  {
   "cell_type": "markdown",
   "metadata": {},
   "source": [
    "### load and save most confident images for validation"
   ]
  },
  {
   "cell_type": "code",
   "execution_count": 18,
   "metadata": {
    "collapsed": true
   },
   "outputs": [],
   "source": [
    "test_dataset = KaggleCameraDataset('../data/', train=False)"
   ]
  },
  {
   "cell_type": "code",
   "execution_count": 19,
   "metadata": {
    "collapsed": true
   },
   "outputs": [],
   "source": [
    "N_PSEUDO_VAL_PER_CLASS = 24\n",
    "N_PSEUDO_VAL = N_PSEUDO_VAL_PER_CLASS * 10\n",
    "X_pseudo_val = np.zeros((N_PSEUDO_VAL, 512, 512, 3), dtype=np.uint8)\n",
    "\n",
    "pos = 0\n",
    "y_pseudo_val = []\n",
    "manip = []\n",
    "for c in xrange(10):\n",
    "    for i in pseudo_ind[str(c)][:N_PSEUDO_VAL_PER_CLASS]:\n",
    "        (x, m), _ = test_dataset[i]\n",
    "        X_pseudo_val[pos] = np.asarray(x, dtype=np.uint8)\n",
    "        pos += 1\n",
    "        manip.append(m)\n",
    "        y_pseudo_val.append(c)"
   ]
  },
  {
   "cell_type": "markdown",
   "metadata": {},
   "source": [
    "### merge with existing validation, shuffle and save"
   ]
  },
  {
   "cell_type": "code",
   "execution_count": 84,
   "metadata": {
    "collapsed": true
   },
   "outputs": [],
   "source": [
    "X_val_val = np.load('../data/X_val_val.npy')\n",
    "y_val_val = np.load('../data/y_val_val.npy')"
   ]
  },
  {
   "cell_type": "code",
   "execution_count": 85,
   "metadata": {},
   "outputs": [
    {
     "name": "stdout",
     "output_type": "stream",
     "text": [
      "(480, 512, 512, 3) uint8\n"
     ]
    }
   ],
   "source": [
    "X_val_with_pseudo = np.concatenate((X_val_val, X_pseudo_val))\n",
    "print X_val_with_pseudo.shape, X_val_with_pseudo.dtype"
   ]
  },
  {
   "cell_type": "code",
   "execution_count": 86,
   "metadata": {},
   "outputs": [
    {
     "name": "stdout",
     "output_type": "stream",
     "text": [
      "(480,) int64\n"
     ]
    }
   ],
   "source": [
    "y_val_with_pseudo = np.concatenate((y_val_val, np.asarray(y_pseudo_val)))\n",
    "print y_val_with_pseudo.shape, y_val_with_pseudo.dtype"
   ]
  },
  {
   "cell_type": "code",
   "execution_count": 87,
   "metadata": {},
   "outputs": [
    {
     "name": "stdout",
     "output_type": "stream",
     "text": [
      "(480, 1) float32\n"
     ]
    }
   ],
   "source": [
    "manip_with_pseudo = np.concatenate((np.asarray([float32(0.)]*len(y_val_val)), manip))\n",
    "print manip_with_pseudo.shape, manip_with_pseudo.dtype"
   ]
  },
  {
   "cell_type": "code",
   "execution_count": 90,
   "metadata": {
    "collapsed": true
   },
   "outputs": [],
   "source": [
    "ind = np.arange(480)\n",
    "RNG(seed=1234).shuffle(ind)\n",
    "X_val_with_pseudo = X_val_with_pseudo[ind]\n",
    "y_val_with_pseudo = y_val_with_pseudo[ind]\n",
    "manip_with_pseudo = manip_with_pseudo[ind]\n",
    "np.save('../data/X_val_with_pseudo.npy', X_val_with_pseudo)\n",
    "np.save('../data/y_val_with_pseudo.npy', y_val_with_pseudo)\n",
    "np.save('../data/manip_with_pseudo.npy', manip_with_pseudo)"
   ]
  },
  {
   "cell_type": "code",
   "execution_count": 97,
   "metadata": {},
   "outputs": [
    {
     "data": {
      "text/plain": [
       "array([ 68.], dtype=float32)"
      ]
     },
     "execution_count": 97,
     "metadata": {},
     "output_type": "execute_result"
    }
   ],
   "source": [
    "sum(manip_with_pseudo)"
   ]
  },
  {
   "cell_type": "code",
   "execution_count": 102,
   "metadata": {},
   "outputs": [
    {
     "data": {
      "text/plain": [
       "True"
      ]
     },
     "execution_count": 102,
     "metadata": {},
     "output_type": "execute_result"
    }
   ],
   "source": [
    "float32(0.)[0] < 0.1"
   ]
  },
  {
   "cell_type": "markdown",
   "metadata": {},
   "source": [
    "### remaining pseudo-labels for training"
   ]
  },
  {
   "cell_type": "code",
   "execution_count": 32,
   "metadata": {},
   "outputs": [
    {
     "data": {
      "text/plain": [
       "[224, 79, 213, 218, 212, 228, 227, 182, 199, 205]"
      ]
     },
     "execution_count": 32,
     "metadata": {},
     "output_type": "execute_result"
    }
   ],
   "source": [
    "for c in xrange(10):\n",
    "    pseudo_ind[c] = pseudo_ind[str(c)][N_PSEUDO_VAL_PER_CLASS:]\n",
    "    del pseudo_ind[str(c)]\n",
    "PSEUDO_CLASSES = map(len, pseudo_ind.values())\n",
    "PSEUDO_CLASSES"
   ]
  },
  {
   "cell_type": "markdown",
   "metadata": {},
   "source": [
    "#### split into blocks of 8 images and save like regular train"
   ]
  },
  {
   "cell_type": "code",
   "execution_count": 33,
   "metadata": {},
   "outputs": [
    {
     "data": {
      "text/plain": [
       "[28, 10, 27, 27, 26, 28, 28, 23, 25, 26]"
      ]
     },
     "execution_count": 33,
     "metadata": {},
     "output_type": "execute_result"
    }
   ],
   "source": [
    "PSEUDO_BLOCK_SIZE = 8\n",
    "N_PSEUDO_BLOCKS = [int(np.round(t/float(PSEUDO_BLOCK_SIZE))) for t in PSEUDO_CLASSES]\n",
    "N_PSEUDO_BLOCKS"
   ]
  },
  {
   "cell_type": "code",
   "execution_count": null,
   "metadata": {
    "collapsed": true
   },
   "outputs": [],
   "source": [
    "for c in xrange(10):\n",
    "    c_ind = pseudo_ind[c]\n",
    "    RNG(seed=8888 + c).shuffle(c_ind)\n",
    "    class_blocks = []\n",
    "    class_manip = []\n",
    "    for _ in xrange(N_PSEUDO_BLOCKS[c]):\n",
    "        class_blocks.append([])\n",
    "        class_manip.append([])\n",
    "    pos = 0\n",
    "    for i in progress_iter(c_ind, True):\n",
    "        (x, m), _ = test_dataset[i]\n",
    "        x = np.asarray(x, dtype=np.uint8)\n",
    "        class_blocks[pos % N_PSEUDO_BLOCKS[c]].append(x)\n",
    "        class_manip[pos % N_PSEUDO_BLOCKS[c]].append(m)\n",
    "        pos += 1\n",
    "    for b in xrange(N_PSEUDO_BLOCKS[c]):\n",
    "        np.save('../data/X_pseudo_{0}_{1}.npy'.format(c, b), np.asarray(class_blocks[b], dtype=np.uint8))\n",
    "        np.save('../data/manip_pseudo_{0}_{1}.npy'.format(c, b), np.asarray(class_manip[b], dtype=np.float32))"
   ]
  },
  {
   "cell_type": "markdown",
   "metadata": {},
   "source": [
    "### manip ratio"
   ]
  },
  {
   "cell_type": "code",
   "execution_count": 40,
   "metadata": {},
   "outputs": [
    {
     "name": "stdout",
     "output_type": "stream",
     "text": [
      "1987\n",
      "[ 972.]\n"
     ]
    }
   ],
   "source": [
    "manip = []\n",
    "for c in xrange(10):\n",
    "    c_ind = pseudo_ind[c]\n",
    "    for i in c_ind:\n",
    "        (_, m), _ = test_dataset[i]\n",
    "        manip.append(m)\n",
    "print len(manip)\n",
    "print sum(manip)"
   ]
  },
  {
   "cell_type": "markdown",
   "metadata": {
    "collapsed": true
   },
   "source": [
    "# pseudo-labels"
   ]
  },
  {
   "cell_type": "code",
   "execution_count": 32,
   "metadata": {},
   "outputs": [
    {
     "name": "stdout",
     "output_type": "stream",
     "text": [
      "835\n"
     ]
    }
   ],
   "source": [
    "# P from 0.908-#109\n",
    "ind = np.arange(2640)[P.max(axis=1) > 0.8]\n",
    "print len(ind)"
   ]
  },
  {
   "cell_type": "code",
   "execution_count": 49,
   "metadata": {
    "collapsed": true
   },
   "outputs": [],
   "source": [
    "test_data = KaggleCameraDataset('../data/', train=False)\n",
    "X = np.zeros((len(ind), 512, 512, 3), dtype=np.uint8)\n",
    "pos = 0\n",
    "for i in ind:\n",
    "    x = Image.open(test_data.X[i])\n",
    "    x = np.array(x, dtype=np.uint8)\n",
    "    X[pos, ...] = x\n",
    "    pos += 1\n",
    "y = np.argmax(P, axis=1)[ind]"
   ]
  },
  {
   "cell_type": "markdown",
   "metadata": {},
   "source": [
    "### stratifically split into ~335 for validation and 500 for training"
   ]
  },
  {
   "cell_type": "code",
   "execution_count": 55,
   "metadata": {},
   "outputs": [
    {
     "name": "stdout",
     "output_type": "stream",
     "text": [
      "(500,)\n"
     ]
    }
   ],
   "source": [
    "sss = StratifiedShuffleSplit(n_splits=1, train_size=500, random_state=1337)\n",
    "train_ind, val_ind = list(sss.split(X, y))[0]\n",
    "print train_ind.shape"
   ]
  },
  {
   "cell_type": "code",
   "execution_count": 57,
   "metadata": {
    "collapsed": true
   },
   "outputs": [],
   "source": [
    "np.save('../data/X_pseudo_train.npy', X[train_ind])\n",
    "np.save('../data/y_pseudo_train.npy', y[train_ind])\n",
    "np.save('../data/X_pseudo_val.npy', X[val_ind])\n",
    "np.save('../data/y_pseudo_val.npy', y[val_ind])"
   ]
  }
 ],
 "metadata": {
  "kernelspec": {
   "display_name": "Python 2",
   "language": "python",
   "name": "python2"
  },
  "language_info": {
   "codemirror_mode": {
    "name": "ipython",
    "version": 2
   },
   "file_extension": ".py",
   "mimetype": "text/x-python",
   "name": "python",
   "nbconvert_exporter": "python",
   "pygments_lexer": "ipython2",
   "version": "2.7.12"
  },
  "latex_envs": {
   "LaTeX_envs_menu_present": true,
   "autocomplete": true,
   "bibliofile": "biblio.bib",
   "cite_by": "apalike",
   "current_citInitial": 1,
   "eqLabelWithNumbers": true,
   "eqNumInitial": 1,
   "hotkeys": {
    "equation": "Ctrl-E",
    "itemize": "Ctrl-I"
   },
   "labels_anchors": false,
   "latex_user_defs": false,
   "report_style_numbering": false,
   "user_envs_cfg": false
  }
 },
 "nbformat": 4,
 "nbformat_minor": 2
}
