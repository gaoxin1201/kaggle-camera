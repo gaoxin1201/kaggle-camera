{
 "cells": [
  {
   "cell_type": "markdown",
   "metadata": {},
   "source": [
    "### imports"
   ]
  },
  {
   "cell_type": "code",
   "execution_count": 63,
   "metadata": {
    "collapsed": true
   },
   "outputs": [],
   "source": [
    "import os\n",
    "import numpy as np\n",
    "import pandas as pd\n",
    "\n",
    "import env\n",
    "from utils import KaggleCameraDataset, one_hot_decision_function, unhot"
   ]
  },
  {
   "cell_type": "markdown",
   "metadata": {},
   "source": [
    "## useful routines"
   ]
  },
  {
   "cell_type": "code",
   "execution_count": 30,
   "metadata": {
    "collapsed": true
   },
   "outputs": [],
   "source": [
    "def get_proba(proba_path):\n",
    "    return pd.read_csv(proba_path).as_matrix(columns=map(str, range(10)))"
   ]
  },
  {
   "cell_type": "code",
   "execution_count": 33,
   "metadata": {},
   "outputs": [
    {
     "data": {
      "text/plain": [
       "array([[  2.30427057e-01,   4.84325022e-01,   5.16182883e-03],\n",
       "       [  4.63270843e-02,   1.69466971e-03,   1.10656278e-04],\n",
       "       [  1.59370884e-01,   1.33133292e-01,   2.71781767e-03]])"
      ]
     },
     "execution_count": 33,
     "metadata": {},
     "output_type": "execute_result"
    }
   ],
   "source": [
    "P = get_proba('../models/proba1.csv')\n",
    "P[:3, :3]"
   ]
  },
  {
   "cell_type": "markdown",
   "metadata": {},
   "source": [
    "## #1 average different predictions (from raw probs)"
   ]
  },
  {
   "cell_type": "code",
   "execution_count": 55,
   "metadata": {
    "collapsed": true
   },
   "outputs": [],
   "source": [
    "def avg_proba(*proba_paths, **kwargs):\n",
    "    return np.average([get_proba(path) for path in proba_paths], axis=0, weights=kwargs.get('weights', None))"
   ]
  },
  {
   "cell_type": "code",
   "execution_count": 61,
   "metadata": {},
   "outputs": [
    {
     "data": {
      "text/plain": [
       "array([[  1.30430266e-01,   4.46921155e-01,   3.23994139e-02, ...,\n",
       "          1.20126526e-03,   1.05716349e-02,   6.87616952e-02],\n",
       "       [  3.24848127e-02,   8.78940028e-02,   4.32265330e-03, ...,\n",
       "          8.78389790e-04,   6.59955412e-01,   4.10077199e-02],\n",
       "       [  1.20631762e-01,   1.52186640e-01,   1.57862445e-03, ...,\n",
       "          1.04656043e-03,   1.19606800e-01,   5.12661040e-01],\n",
       "       ..., \n",
       "       [  1.16247602e-01,   4.08802994e-01,   5.17931608e-02, ...,\n",
       "          3.80601780e-02,   1.16218922e-02,   1.64976966e-01],\n",
       "       [  4.96196985e-01,   4.23220114e-03,   2.48291728e-03, ...,\n",
       "          3.88299840e-01,   1.79937498e-02,   6.91680338e-02],\n",
       "       [  2.15672876e-01,   3.66537021e-02,   2.02466367e-03, ...,\n",
       "          1.86312740e-05,   3.95222452e-02,   1.85410858e-02]])"
      ]
     },
     "execution_count": 61,
     "metadata": {},
     "output_type": "execute_result"
    }
   ],
   "source": [
    "Q = avg_proba('../models/proba1.csv', \n",
    "              '../models/proba_best.csv', \n",
    "               weights=[1., 1.])\n",
    "Q"
   ]
  },
  {
   "cell_type": "markdown",
   "metadata": {},
   "source": [
    "## #2 convert proba to predictions"
   ]
  },
  {
   "cell_type": "code",
   "execution_count": 64,
   "metadata": {
    "collapsed": true
   },
   "outputs": [],
   "source": [
    "def proba_to_subm(proba, subm_path):\n",
    "    \"\"\"\n",
    "    Parameters\n",
    "    ----------\n",
    "    proba : (2640, 10) np.ndarray\n",
    "    \"\"\"\n",
    "    test_dataset = KaggleCameraDataset('../data/', train=False, lazy=True)\n",
    "    fnames = [os.path.split(fname)[-1] for fname in test_dataset.X]\n",
    "    index_pred = unhot(one_hot_decision_function(proba))\n",
    "    data = {'fname': fnames,\n",
    "            'camera': [KaggleCameraDataset.target_labels()[int(c)] for c in index_pred]}\n",
    "    df = pd.DataFrame(data, columns=['fname', 'camera'])\n",
    "    df.to_csv(subm_path, index=False)"
   ]
  },
  {
   "cell_type": "code",
   "execution_count": 65,
   "metadata": {},
   "outputs": [],
   "source": [
    "proba_to_subm(Q, 'subm.csv')"
   ]
  },
  {
   "cell_type": "markdown",
   "metadata": {},
   "source": [
    "## #3 how predictions differ"
   ]
  },
  {
   "cell_type": "code",
   "execution_count": 28,
   "metadata": {
    "collapsed": true
   },
   "outputs": [],
   "source": [
    "def get_diff(subm_path1, subm_path2):\n",
    "    df1 = pd.read_csv(subm_path1)\n",
    "    df2 = pd.read_csv(subm_path2)\n",
    "    return (df1 != df2)['camera'].sum()/2640."
   ]
  },
  {
   "cell_type": "code",
   "execution_count": 29,
   "metadata": {},
   "outputs": [
    {
     "data": {
      "text/plain": [
       "0.4693181818181818"
      ]
     },
     "execution_count": 29,
     "metadata": {},
     "output_type": "execute_result"
    }
   ],
   "source": [
    "get_diff('../models/submission.csv', '../models/submission_best.csv')"
   ]
  }
 ],
 "metadata": {
  "kernelspec": {
   "display_name": "Python 2",
   "language": "python",
   "name": "python2"
  },
  "language_info": {
   "codemirror_mode": {
    "name": "ipython",
    "version": 2
   },
   "file_extension": ".py",
   "mimetype": "text/x-python",
   "name": "python",
   "nbconvert_exporter": "python",
   "pygments_lexer": "ipython2",
   "version": "2.7.12"
  },
  "latex_envs": {
   "LaTeX_envs_menu_present": true,
   "autocomplete": true,
   "bibliofile": "biblio.bib",
   "cite_by": "apalike",
   "current_citInitial": 1,
   "eqLabelWithNumbers": true,
   "eqNumInitial": 1,
   "hotkeys": {
    "equation": "Ctrl-E",
    "itemize": "Ctrl-I"
   },
   "labels_anchors": false,
   "latex_user_defs": false,
   "report_style_numbering": false,
   "user_envs_cfg": false
  }
 },
 "nbformat": 4,
 "nbformat_minor": 2
}
