{
 "cells": [
  {
   "cell_type": "markdown",
   "metadata": {},
   "source": [
    "### imports"
   ]
  },
  {
   "cell_type": "code",
   "execution_count": 1,
   "metadata": {},
   "outputs": [],
   "source": [
    "import numpy as np\n",
    "import matplotlib.pyplot as plt\n",
    "import PIL.ImageOps\n",
    "from PIL import Image\n",
    "from sklearn.model_selection import StratifiedKFold\n",
    "\n",
    "import env\n",
    "from utils import KaggleCameraDataset, progress_iter\n",
    "\n",
    "%matplotlib inline\n",
    "%load_ext autoreload\n",
    "%autoreload 2"
   ]
  },
  {
   "cell_type": "markdown",
   "metadata": {},
   "source": [
    "## load training data"
   ]
  },
  {
   "cell_type": "code",
   "execution_count": 2,
   "metadata": {
    "collapsed": true
   },
   "outputs": [],
   "source": [
    "train_data = KaggleCameraDataset('../data/', train=True, lazy=True)"
   ]
  },
  {
   "cell_type": "markdown",
   "metadata": {},
   "source": [
    "## calculate dataset size"
   ]
  },
  {
   "cell_type": "code",
   "execution_count": null,
   "metadata": {},
   "outputs": [
    {
     "name": "stdout",
     "output_type": "stream",
     "text": [
      "Dataset will occupy 4.03 GB\n"
     ]
    }
   ],
   "source": [
    "crop_size = 256\n",
    "n_crops = 8\n",
    "N = len(train_data)\n",
    "\n",
    "size = crop_size**2*3*n_crops*N\n",
    "print \"Dataset will occupy {0:.2f} GB\".format(size/float(2**30))"
   ]
  },
  {
   "cell_type": "markdown",
   "metadata": {},
   "source": [
    "## gen aug data (center crops + D4 group)"
   ]
  },
  {
   "cell_type": "code",
   "execution_count": null,
   "metadata": {},
   "outputs": [
    {
     "data": {
      "application/vnd.jupyter.widget-view+json": {
       "model_id": "6b3b635f39bf40cbbe8ed879bb924d98",
       "version_major": 2,
       "version_minor": 0
      },
      "text/plain": [
       "A Jupyter Widget"
      ]
     },
     "metadata": {},
     "output_type": "display_data"
    }
   ],
   "source": [
    "X = np.zeros((N * 8, crop_size, crop_size, 3), dtype=np.uint8)\n",
    "\n",
    "pos = 0\n",
    "for x, _ in progress_iter(train_data, verbose=True):\n",
    "    w = x.size[0]\n",
    "    h = x.size[1]\n",
    "    x = x.crop((w/2-crop_size/2, h/2-crop_size/2,\n",
    "                w/2+crop_size/2, h/2+crop_size/2))\n",
    "    \n",
    "    X[pos, ...] = np.asarray(x, dtype=np.uint8)\n",
    "    pos += 1\n",
    "    X[pos, ...] = np.asarray(x.transpose(Image.ROTATE_90), dtype=np.uint8)\n",
    "    pos += 1\n",
    "    X[pos, ...] = np.asarray(x.transpose(Image.ROTATE_180), dtype=np.uint8)\n",
    "    pos += 1\n",
    "    X[pos, ...] = np.asarray(x.transpose(Image.ROTATE_270), dtype=np.uint8)\n",
    "    pos += 1\n",
    "    \n",
    "    x = PIL.ImageOps.mirror(x)\n",
    "    \n",
    "    X[pos, ...] = np.asarray(x, dtype=np.uint8)\n",
    "    pos += 1\n",
    "    X[pos, ...] = np.asarray(x.transpose(Image.ROTATE_90), dtype=np.uint8)\n",
    "    pos += 1\n",
    "    X[pos, ...] = np.asarray(x.transpose(Image.ROTATE_180), dtype=np.uint8)\n",
    "    pos += 1\n",
    "    X[pos, ...] = np.asarray(x.transpose(Image.ROTATE_270), dtype=np.uint8)\n",
    "    pos += 1"
   ]
  },
  {
   "cell_type": "code",
   "execution_count": null,
   "metadata": {},
   "outputs": [],
   "source": [
    "y = np.asarray(train_data.y).repeat(8)\n",
    "y.shape"
   ]
  },
  {
   "cell_type": "markdown",
   "metadata": {},
   "source": [
    "## split into folds\n",
    "### what I'm gonna do"
   ]
  },
  {
   "cell_type": "code",
   "execution_count": null,
   "metadata": {},
   "outputs": [],
   "source": [
    "skf = StratifiedKFold(n_splits=5, shuffle=True, random_state=1337)\n",
    "z = np.asarray([0, 1]).repeat(5)\n",
    "for train_ind, test_ind in skf.split(z, z):\n",
    "    print train_ind, test_ind\n",
    "\n",
    "new_ind = np.concatenate( [test_ind for _, test_ind in skf.split(z, z)] )\n",
    "print new_ind"
   ]
  },
  {
   "cell_type": "code",
   "execution_count": null,
   "metadata": {},
   "outputs": [],
   "source": [
    "new_ind = np.concatenate( [test_ind for _, test_ind in skf.split(y, y)] )\n",
    "print new_ind.shape"
   ]
  },
  {
   "cell_type": "code",
   "execution_count": null,
   "metadata": {
    "collapsed": true
   },
   "outputs": [],
   "source": [
    "X = X[new_ind]\n",
    "y = y[new_ind]"
   ]
  },
  {
   "cell_type": "markdown",
   "metadata": {},
   "source": [
    "### reshape for easy extraction of train, val"
   ]
  },
  {
   "cell_type": "code",
   "execution_count": null,
   "metadata": {},
   "outputs": [],
   "source": [
    "X = X.reshape(len(X)/5, 5, 256, 256, 3).transpose((1, 0, 2, 3, 4))\n",
    "X.shape"
   ]
  },
  {
   "cell_type": "code",
   "execution_count": null,
   "metadata": {},
   "outputs": [],
   "source": [
    "y = y.reshape(len(y)/5, 5).T\n",
    "y.shape"
   ]
  },
  {
   "cell_type": "markdown",
   "metadata": {},
   "source": [
    "### save"
   ]
  },
  {
   "cell_type": "code",
   "execution_count": null,
   "metadata": {},
   "outputs": [],
   "source": [
    "np.save('../data/X_folds.npy', X)\n",
    "np.save('../data/y_folds.npy', y)"
   ]
  }
 ],
 "metadata": {
  "kernelspec": {
   "display_name": "Python 2",
   "language": "python",
   "name": "python2"
  },
  "language_info": {
   "codemirror_mode": {
    "name": "ipython",
    "version": 2
   },
   "file_extension": ".py",
   "mimetype": "text/x-python",
   "name": "python",
   "nbconvert_exporter": "python",
   "pygments_lexer": "ipython2",
   "version": "2.7.12"
  },
  "latex_envs": {
   "LaTeX_envs_menu_present": true,
   "autocomplete": true,
   "bibliofile": "biblio.bib",
   "cite_by": "apalike",
   "current_citInitial": 1,
   "eqLabelWithNumbers": true,
   "eqNumInitial": 1,
   "hotkeys": {
    "equation": "Ctrl-E",
    "itemize": "Ctrl-I"
   },
   "labels_anchors": false,
   "latex_user_defs": false,
   "report_style_numbering": false,
   "user_envs_cfg": false
  }
 },
 "nbformat": 4,
 "nbformat_minor": 2
}
