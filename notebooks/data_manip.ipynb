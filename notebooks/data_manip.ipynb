{
 "cells": [
  {
   "cell_type": "code",
   "execution_count": null,
   "metadata": {
    "_cell_guid": "dfc04ca3-546e-4c3a-8589-43864bf9b2f0",
    "_uuid": "48095622a11b3d8a3903ce5904250e89a1384398",
    "collapsed": true
   },
   "outputs": [],
   "source": [
    "import matplotlib.pyplot as plt\n",
    "import skimage\n",
    "import skimage.io\n",
    "import skimage.transform\n",
    "import scipy.misc\n",
    "import imageio"
   ]
  },
  {
   "cell_type": "markdown",
   "metadata": {
    "_cell_guid": "904b74dd-25a7-4103-b35d-d43e36c03bee",
    "_uuid": "ae06bfc405fe1a0f5608f9148edb090452838b8d"
   },
   "source": [
    "## Original Image"
   ]
  },
  {
   "cell_type": "code",
   "execution_count": null,
   "metadata": {
    "_cell_guid": "f4879499-b563-4a2c-a8a2-213e54fa6e24",
    "_uuid": "db675451fc957533ddebcc4baa3d7876b7c18d39"
   },
   "outputs": [],
   "source": [
    "original_img = plt.imread('../data/train/iPhone-6/(iP6)2.jpg')\n",
    "print(original_img.shape)"
   ]
  },
  {
   "cell_type": "code",
   "execution_count": null,
   "metadata": {
    "_cell_guid": "f12a7aac-3893-44e9-b668-fd150533b199",
    "_kg_hide-input": true,
    "_uuid": "86c6f5fa05283a16188c4819e55e330152bca514"
   },
   "outputs": [],
   "source": [
    "plt.figure(figsize=(6,6))\n",
    "plt.imshow(original_img)\n",
    "plt.title(\"original\")\n",
    "plt.show()"
   ]
  },
  {
   "cell_type": "markdown",
   "metadata": {
    "_cell_guid": "0e979d64-049e-40ca-8150-1a6bfcb88c3f",
    "_uuid": "252a392aa934cc96f7d4f92ef219015dc79b2bc7"
   },
   "source": [
    "## Image Resize"
   ]
  },
  {
   "cell_type": "markdown",
   "metadata": {
    "_cell_guid": "51f05d71-8cbf-4786-b231-3d7502649c75",
    "_uuid": "984cba94bf657bd086a752969a1c4c18d3564ae2"
   },
   "source": [
    "### Resizing (via bicubic interpolation) by a factor of 0.5"
   ]
  },
  {
   "cell_type": "code",
   "execution_count": null,
   "metadata": {
    "_cell_guid": "f240e9da-735d-4337-a705-ce75ca468059",
    "_kg_hide-input": false,
    "_kg_hide-output": false,
    "_uuid": "dec305adeb3543b75be71c750c9cf6f7d9a1ba92"
   },
   "outputs": [],
   "source": [
    "sh = original_img.shape\n",
    "new_img = skimage.transform.resize(original_img, (sh[0]/2, sh[1]/2, 3), order=3)\n",
    "print(new_img.shape)"
   ]
  },
  {
   "cell_type": "code",
   "execution_count": null,
   "metadata": {
    "_cell_guid": "30543816-76cd-463b-884c-8f361ac9d956",
    "_kg_hide-input": true,
    "_uuid": "8b16a016e57f4c9013efb2ed450577aa7e52f5e9"
   },
   "outputs": [],
   "source": [
    "plt.figure(figsize=(3,3))\n",
    "plt.imshow(new_img)\n",
    "plt.title(\"resize 0.5\")\n",
    "plt.show()"
   ]
  },
  {
   "cell_type": "markdown",
   "metadata": {
    "_cell_guid": "1084a5ef-06d3-45f1-92e0-5c49c4930171",
    "_uuid": "cd59cfec3242c2d0b6686a65411d3ff15d383333"
   },
   "source": [
    "### Resizing (via bicubic interpolation) by a factor of 2.0"
   ]
  },
  {
   "cell_type": "code",
   "execution_count": null,
   "metadata": {
    "_cell_guid": "0586380e-7ea5-41f6-9afe-7166fb63836a",
    "_uuid": "3e0ac2e7542a6999ef44bf7761a18e03211e4d84"
   },
   "outputs": [],
   "source": [
    "new_img = skimage.transform.resize(original_img, (sh[0]*2, sh[1]*2, 3), order=3)\n",
    "print(new_img.shape)"
   ]
  },
  {
   "cell_type": "code",
   "execution_count": null,
   "metadata": {
    "_cell_guid": "9701c50c-3787-40be-80b4-133bdc3c60b1",
    "_uuid": "c0819bbc8415610f8416884e152913f06ce1905b"
   },
   "outputs": [],
   "source": [
    "plt.figure(figsize=(12,12))\n",
    "plt.imshow(new_img)\n",
    "plt.title(\"resize 2.0\")\n",
    "plt.show()"
   ]
  },
  {
   "cell_type": "markdown",
   "metadata": {
    "_cell_guid": "9138f8c5-ae4b-40fe-bcd8-94523cd2c697",
    "_uuid": "d272f39a019630fb537c191459bc0d85ecd30c95"
   },
   "source": [
    "## Gamma Correction"
   ]
  },
  {
   "cell_type": "markdown",
   "metadata": {
    "_cell_guid": "8c54619d-c46b-4cb2-9054-7354ec61e32f",
    "_uuid": "784f94db1806ce2354b31a9bd4298625a1328b92"
   },
   "source": [
    "### gamma correction using gamma = 0.8"
   ]
  },
  {
   "cell_type": "code",
   "execution_count": null,
   "metadata": {
    "_cell_guid": "cd4c0a8a-057a-4d69-98ad-3579d65efada",
    "_uuid": "6caac6e14e93c79497d6a6fe0e0c8f39c8a240c7"
   },
   "outputs": [],
   "source": [
    "new_img = skimage.exposure.adjust_gamma(original_img, gamma=0.8)\n",
    "\n",
    "plt.figure(figsize=(6,6))\n",
    "plt.imshow(new_img)\n",
    "plt.title(\"gamma 0.8\")\n",
    "plt.show()"
   ]
  },
  {
   "cell_type": "markdown",
   "metadata": {
    "_cell_guid": "ee0a68f7-a29b-4b9e-ab66-e84d3191533d",
    "_uuid": "468fc2f513e5164153006670994a3b2fcccfec6a"
   },
   "source": [
    "### gamma correction using gamma = 1.2"
   ]
  },
  {
   "cell_type": "code",
   "execution_count": null,
   "metadata": {
    "_cell_guid": "ad60826f-1597-40d1-9857-068fedda9b95",
    "_uuid": "77cf9563581757d5c51dc185a4da8299f8310a17"
   },
   "outputs": [],
   "source": [
    "new_img = skimage.exposure.adjust_gamma(original_img, gamma=1.2)\n",
    "\n",
    "plt.figure(figsize=(6,6))\n",
    "plt.imshow(new_img)\n",
    "plt.title(\"gamma 1.2\")\n",
    "plt.show()"
   ]
  },
  {
   "cell_type": "markdown",
   "metadata": {
    "_cell_guid": "e169c57b-7bf4-4518-9c7f-b0b52bbf806a",
    "_uuid": "11a0cb221855580579d3ac11e0af8a77c657134c"
   },
   "source": [
    "## JPEG compression"
   ]
  },
  {
   "cell_type": "markdown",
   "metadata": {
    "_cell_guid": "1c1b5a3c-f3f1-495a-8aee-03da03f213bd",
    "_uuid": "712e8b2286822cdca788e10a7c1109b1b00d4a25"
   },
   "source": [
    "### JPEG compression with quality factor = 70"
   ]
  },
  {
   "cell_type": "code",
   "execution_count": null,
   "metadata": {
    "_cell_guid": "e16beee5-4cd9-4ab0-b1b0-a645bea727d5",
    "_uuid": "a4d8ef8f513db0a0e7c62dddb773b68efd04fa3a"
   },
   "outputs": [],
   "source": [
    "imageio.imwrite('quality-70.jpg', original_img, quality=70)\n",
    "\n",
    "new_img = skimage.io.imread('quality-70.jpg')\n",
    "plt.figure(figsize=(6,6))\n",
    "plt.imshow(new_img)\n",
    "plt.title(\"quality-70\")\n",
    "plt.show()"
   ]
  },
  {
   "cell_type": "markdown",
   "metadata": {
    "_cell_guid": "a8fa8f52-c8a1-46b4-bbc4-4e09f9e914a8",
    "_uuid": "462abcc1b18e61591e0139b232454bf6c7642b4b"
   },
   "source": [
    "### JPEG compression with quality factor = 90"
   ]
  },
  {
   "cell_type": "code",
   "execution_count": null,
   "metadata": {
    "_cell_guid": "43465cc5-9c64-40b0-9c76-a58123e8cd3d",
    "_uuid": "dae0c4e3428f6309723adae3ec9f5e30be929eb8"
   },
   "outputs": [],
   "source": [
    "imageio.imwrite('quality-90.jpg', original_img, quality=90)\n",
    "\n",
    "new_img = skimage.io.imread('quality-90.jpg')\n",
    "plt.figure(figsize=(6,6))\n",
    "plt.imshow(new_img)\n",
    "plt.title(\"quality-90\")\n",
    "plt.show()"
   ]
  },
  {
   "cell_type": "markdown",
   "metadata": {
    "_cell_guid": "6d9f334e-fd2c-4b73-b949-d2de1172064b",
    "_uuid": "d4221996a48c266b143e5c88ad39adb5b02d9c8c"
   },
   "source": [
    "### FYI - JPEG compression with quality factor = 5"
   ]
  },
  {
   "cell_type": "code",
   "execution_count": null,
   "metadata": {
    "_cell_guid": "7f17dd46-4098-4b47-8f5d-29d149723c23",
    "_uuid": "4aa4046e4446393cb85727496cdbf1c8478bc122"
   },
   "outputs": [],
   "source": [
    "imageio.imwrite('quality-5.jpg', original_img, quality=5)\n",
    "\n",
    "new_img = skimage.io.imread('quality-5.jpg')\n",
    "plt.figure(figsize=(6,6))\n",
    "plt.imshow(new_img)\n",
    "plt.title(\"quality-5\")\n",
    "plt.show()"
   ]
  }
 ],
 "metadata": {
  "kernelspec": {
   "display_name": "Python 2",
   "language": "python",
   "name": "python2"
  },
  "language_info": {
   "codemirror_mode": {
    "name": "ipython",
    "version": 2
   },
   "file_extension": ".py",
   "mimetype": "text/x-python",
   "name": "python",
   "nbconvert_exporter": "python",
   "pygments_lexer": "ipython2",
   "version": "2.7.12"
  },
  "latex_envs": {
   "LaTeX_envs_menu_present": true,
   "autocomplete": true,
   "bibliofile": "biblio.bib",
   "cite_by": "apalike",
   "current_citInitial": 1,
   "eqLabelWithNumbers": true,
   "eqNumInitial": 1,
   "hotkeys": {
    "equation": "Ctrl-E",
    "itemize": "Ctrl-I"
   },
   "labels_anchors": false,
   "latex_user_defs": false,
   "report_style_numbering": false,
   "user_envs_cfg": false
  }
 },
 "nbformat": 4,
 "nbformat_minor": 1
}
