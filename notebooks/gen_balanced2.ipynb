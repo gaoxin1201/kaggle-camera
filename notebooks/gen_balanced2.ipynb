{
 "cells": [
  {
   "cell_type": "code",
   "execution_count": 6,
   "metadata": {
    "collapsed": true
   },
   "outputs": [],
   "source": [
    "import json\n",
    "import subprocess\n",
    "import numpy as np\n",
    "import matplotlib.pyplot as plt\n",
    "from PIL import Image\n",
    "\n",
    "import env\n",
    "from utils import KaggleCameraDataset, progress_iter, RNG\n",
    "\n",
    "%matplotlib inline\n",
    "%load_ext autoreload\n",
    "%autoreload 2"
   ]
  },
  {
   "cell_type": "markdown",
   "metadata": {},
   "source": [
    "## validation set"
   ]
  },
  {
   "cell_type": "code",
   "execution_count": 3,
   "metadata": {
    "collapsed": true
   },
   "outputs": [],
   "source": [
    "N_VAL_PER_CLASS = 48\n",
    "val, no_val = [], []"
   ]
  },
  {
   "cell_type": "markdown",
   "metadata": {},
   "source": [
    "### get best images from Gleb's val set (quality $\\geq$ 95)"
   ]
  },
  {
   "cell_type": "code",
   "execution_count": 4,
   "metadata": {
    "collapsed": true
   },
   "outputs": [],
   "source": [
    "with open('../data/glebs_val_stats.json') as f:\n",
    "    glebs_val_stats = json.load(f)"
   ]
  },
  {
   "cell_type": "code",
   "execution_count": 5,
   "metadata": {},
   "outputs": [
    {
     "name": "stdout",
     "output_type": "stream",
     "text": [
      "325 9\n"
     ]
    }
   ],
   "source": [
    "gv_yes, gv_no = [], []\n",
    "for i, d in sorted(glebs_val_stats.items()):\n",
    "    if d['quality'] and d['quality'] >= 95:\n",
    "        gv_yes.append((d['x_fpath'], d['y']))\n",
    "    else:\n",
    "        gv_no.append((d['x_fpath'], d['y'], d['quality'], d['res'], d['res_valid']))\n",
    "print len(gv_yes), len(gv_no)"
   ]
  },
  {
   "cell_type": "code",
   "execution_count": 6,
   "metadata": {
    "collapsed": true
   },
   "outputs": [],
   "source": [
    "val += gv_yes\n",
    "no_val += gv_no"
   ]
  },
  {
   "cell_type": "code",
   "execution_count": 7,
   "metadata": {},
   "outputs": [
    {
     "data": {
      "text/plain": [
       "[45, 37, 14, 28, 30, 18, 44, 42, 36, 31]"
      ]
     },
     "execution_count": 7,
     "metadata": {},
     "output_type": "execute_result"
    },
    {
     "data": {
      "image/png": "[encoded data removed]",
      "text/plain": [
       "<matplotlib.figure.Figure at 0x7efc6c30b410>"
      ]
     },
     "metadata": {},
     "output_type": "display_data"
    }
   ],
   "source": [
    "VAL_CLASSES = map(int, plt.hist(zip(*val)[1])[0])\n",
    "VAL_CLASSES"
   ]
  },
  {
   "cell_type": "markdown",
   "metadata": {},
   "source": [
    "### get best images from alex firsov val set (quality $\\geq$ 95)"
   ]
  },
  {
   "cell_type": "code",
   "execution_count": 8,
   "metadata": {
    "collapsed": true
   },
   "outputs": [],
   "source": [
    "with open('../data/alex_firsov_stats.json') as f:\n",
    "    alex_firsov_stats = json.load(f)"
   ]
  },
  {
   "cell_type": "code",
   "execution_count": 9,
   "metadata": {},
   "outputs": [
    {
     "name": "stdout",
     "output_type": "stream",
     "text": [
      "333 11\n"
     ]
    }
   ],
   "source": [
    "af_yes, af_no = [], []\n",
    "for i, d in sorted(alex_firsov_stats.items()):\n",
    "    d['y'] = 4  # !!!!!!!!!!!!\n",
    "    d['x_fpath'] = d['x_fpath'].replace('Motorola-Droid-Maxx', 'Motorola-X')\n",
    "    if d['quality'] and d['quality'] >= 95:\n",
    "        af_yes.append((d['x_fpath'], d['y'], d['quality'], d['res'], d['res_valid']))\n",
    "    else:\n",
    "        af_no.append((d['x_fpath'], d['y'], d['quality'], d['res'], d['res_valid']))\n",
    "print len(af_yes), len(af_no)"
   ]
  },
  {
   "cell_type": "code",
   "execution_count": 10,
   "metadata": {
    "collapsed": true
   },
   "outputs": [],
   "source": [
    "RNG(seed=1337).shuffle(af_yes)"
   ]
  },
  {
   "cell_type": "code",
   "execution_count": 11,
   "metadata": {
    "collapsed": true
   },
   "outputs": [],
   "source": [
    "val += map(lambda (x,y,q,r,rv): (x,y), af_yes[:(N_VAL_PER_CLASS - VAL_CLASSES[4])])\n",
    "no_val += af_no\n",
    "no_val += af_yes[(N_VAL_PER_CLASS - VAL_CLASSES[4]):]"
   ]
  },
  {
   "cell_type": "code",
   "execution_count": 12,
   "metadata": {},
   "outputs": [
    {
     "data": {
      "text/plain": [
       "[45, 37, 14, 28, 48, 18, 44, 42, 36, 31]"
      ]
     },
     "execution_count": 12,
     "metadata": {},
     "output_type": "execute_result"
    },
    {
     "data": {
      "image/png": "[encoded data removed]",
      "text/plain": [
       "<matplotlib.figure.Figure at 0x7efc04c44b90>"
      ]
     },
     "metadata": {},
     "output_type": "display_data"
    }
   ],
   "source": [
    "VAL_CLASSES = map(int, plt.hist(zip(*val)[1])[0])\n",
    "VAL_CLASSES"
   ]
  },
  {
   "cell_type": "markdown",
   "metadata": {},
   "source": [
    "### fill other classes with $\\geq$ 95 from esato"
   ]
  },
  {
   "cell_type": "code",
   "execution_count": 13,
   "metadata": {
    "collapsed": true
   },
   "outputs": [],
   "source": [
    "with open('../data/esato_stats.json') as f:\n",
    "    esato_stats = json.load(f)"
   ]
  },
  {
   "cell_type": "code",
   "execution_count": 14,
   "metadata": {},
   "outputs": [
    {
     "name": "stdout",
     "output_type": "stream",
     "text": [
      "1063 89\n"
     ]
    }
   ],
   "source": [
    "es_yes, es_no = [], []\n",
    "for i, d in sorted(esato_stats.items()):\n",
    "    if d['x_fpath'].endswith('jpg.1'):\n",
    "        continue\n",
    "    if d['quality'] and d['quality'] >= 95:\n",
    "        es_yes.append((d['x_fpath'], d['y'], d['quality'], d['res'], d['res_valid']))\n",
    "    else:\n",
    "        es_no.append((d['x_fpath'], d['y'], d['quality'], d['res'], d['res_valid']))\n",
    "print len(es_yes), len(es_no)"
   ]
  },
  {
   "cell_type": "code",
   "execution_count": 15,
   "metadata": {},
   "outputs": [
    {
     "data": {
      "text/plain": [
       "[2, 0, 15, 0, 362, 0, 6, 0, 546, 132]"
      ]
     },
     "execution_count": 15,
     "metadata": {},
     "output_type": "execute_result"
    },
    {
     "data": {
      "image/png": "[encoded data removed]",
      "text/plain": [
       "<matplotlib.figure.Figure at 0x7efc04b18a50>"
      ]
     },
     "metadata": {},
     "output_type": "display_data"
    }
   ],
   "source": [
    "map(int, plt.hist(zip(*es_yes)[1])[0])"
   ]
  },
  {
   "cell_type": "markdown",
   "metadata": {},
   "source": [
    "#### add all with valid resolution first"
   ]
  },
  {
   "cell_type": "code",
   "execution_count": 16,
   "metadata": {},
   "outputs": [
    {
     "data": {
      "text/plain": [
       "[1, 0, 0, 0, 0, 0, 89, 0, 0, 4]"
      ]
     },
     "execution_count": 16,
     "metadata": {},
     "output_type": "execute_result"
    },
    {
     "data": {
      "image/png": "[encoded data removed]",
      "text/plain": [
       "<matplotlib.figure.Figure at 0x7efc04c33f10>"
      ]
     },
     "metadata": {},
     "output_type": "display_data"
    }
   ],
   "source": [
    "map(int, plt.hist(zip(*filter(lambda (x,y,q,r,rv): rv, es_yes))[1])[0])"
   ]
  },
  {
   "cell_type": "code",
   "execution_count": 17,
   "metadata": {
    "collapsed": true
   },
   "outputs": [],
   "source": [
    "es_yes_valid = filter(lambda (x,y,q,r,rv): rv, es_yes)\n",
    "es_yes_not_valid = filter(lambda (x,y,q,r,rv): not rv, es_yes)"
   ]
  },
  {
   "cell_type": "code",
   "execution_count": 18,
   "metadata": {},
   "outputs": [
    {
     "data": {
      "image/png": "[encoded data removed]",
      "text/plain": [
       "<matplotlib.figure.Figure at 0x7efc0480c7d0>"
      ]
     },
     "metadata": {},
     "output_type": "display_data"
    }
   ],
   "source": [
    "for x,y,q,r,rv in es_yes_valid:\n",
    "    VAL_CLASSES = map(int, plt.hist(zip(*val)[1])[0])\n",
    "    if VAL_CLASSES[y] < N_VAL_PER_CLASS:\n",
    "        val.append((x, y))\n",
    "    else:\n",
    "        no_val.append((x,y,q,r,rv))"
   ]
  },
  {
   "cell_type": "code",
   "execution_count": 19,
   "metadata": {},
   "outputs": [
    {
     "data": {
      "text/plain": [
       "[45, 37, 14, 28, 48, 18, 45, 42, 48, 35]"
      ]
     },
     "execution_count": 19,
     "metadata": {},
     "output_type": "execute_result"
    },
    {
     "data": {
      "image/png": "[encoded data removed]",
      "text/plain": [
       "<matplotlib.figure.Figure at 0x7efc045b0590>"
      ]
     },
     "metadata": {},
     "output_type": "display_data"
    }
   ],
   "source": [
    "VAL_CLASSES = map(int, plt.hist(zip(*val)[1])[0])\n",
    "VAL_CLASSES"
   ]
  },
  {
   "cell_type": "markdown",
   "metadata": {},
   "source": [
    "#### now add with incorrect resolution (UPD: add incorrect resolution -> train for further filtering)"
   ]
  },
  {
   "cell_type": "code",
   "execution_count": 20,
   "metadata": {
    "collapsed": true
   },
   "outputs": [],
   "source": [
    "RNG(seed=42).shuffle(es_yes_not_valid)\n",
    "for x,y,q,r,rv in es_yes_not_valid:\n",
    "    no_val.append((x,y,q,r,rv))    "
   ]
  },
  {
   "cell_type": "code",
   "execution_count": 21,
   "metadata": {},
   "outputs": [
    {
     "data": {
      "text/plain": [
       "[45, 37, 14, 28, 48, 18, 45, 42, 48, 35]"
      ]
     },
     "execution_count": 21,
     "metadata": {},
     "output_type": "execute_result"
    },
    {
     "data": {
      "image/png": "[encoded data removed]",
      "text/plain": [
       "<matplotlib.figure.Figure at 0x7efc03aa4fd0>"
      ]
     },
     "metadata": {},
     "output_type": "display_data"
    }
   ],
   "source": [
    "VAL_CLASSES = map(int, plt.hist(zip(*val)[1])[0])\n",
    "VAL_CLASSES"
   ]
  },
  {
   "cell_type": "code",
   "execution_count": 22,
   "metadata": {
    "collapsed": true
   },
   "outputs": [],
   "source": [
    "no_val += es_no"
   ]
  },
  {
   "cell_type": "markdown",
   "metadata": {},
   "source": [
    "## training set\n",
    "### load Gleb's train and remove $\\lt$ 93"
   ]
  },
  {
   "cell_type": "code",
   "execution_count": 23,
   "metadata": {
    "collapsed": true
   },
   "outputs": [],
   "source": [
    "with open('../data/orig_stats.json') as f:\n",
    "    train_stats = json.load(f)\n",
    "for x,y,q in train_stats:\n",
    "    no_val.append((x,y,q,None,True))"
   ]
  },
  {
   "cell_type": "code",
   "execution_count": 24,
   "metadata": {
    "collapsed": true
   },
   "outputs": [],
   "source": [
    "QUALITY_THRESHOLD = 93"
   ]
  },
  {
   "cell_type": "code",
   "execution_count": 25,
   "metadata": {
    "collapsed": true
   },
   "outputs": [],
   "source": [
    "with open('../data/glebs_train_stats.json') as f:\n",
    "    glebs_train_stats = json.load(f)"
   ]
  },
  {
   "cell_type": "code",
   "execution_count": 26,
   "metadata": {},
   "outputs": [
    {
     "name": "stdout",
     "output_type": "stream",
     "text": [
      "9229\n"
     ]
    }
   ],
   "source": [
    "print len(filter(lambda q: q >= QUALITY_THRESHOLD, [v['quality'] for k, v in glebs_train_stats.items()]))"
   ]
  },
  {
   "cell_type": "code",
   "execution_count": 27,
   "metadata": {},
   "outputs": [
    {
     "name": "stdout",
     "output_type": "stream",
     "text": [
      "1775\n"
     ]
    }
   ],
   "source": [
    "print len(filter(lambda q: not q or q < QUALITY_THRESHOLD, [v['quality'] for k, v in glebs_train_stats.items()]))"
   ]
  },
  {
   "cell_type": "code",
   "execution_count": 28,
   "metadata": {},
   "outputs": [
    {
     "name": "stdout",
     "output_type": "stream",
     "text": [
      "1\n"
     ]
    }
   ],
   "source": [
    "print len(filter(lambda q: not q or q < QUALITY_THRESHOLD, [q for x,y,q in train_stats]))"
   ]
  },
  {
   "cell_type": "code",
   "execution_count": 29,
   "metadata": {
    "collapsed": true
   },
   "outputs": [],
   "source": [
    "train = []\n",
    "for x,y,q,r,rv in no_val:\n",
    "    if q >= QUALITY_THRESHOLD:\n",
    "        train.append((x,y,q,r,rv))\n",
    "for i, d in sorted(glebs_train_stats.items()):\n",
    "    if d['quality'] >= QUALITY_THRESHOLD:\n",
    "        train.append((d['x_fpath'], d['y'], d['quality'], d['res'], d['res_valid']))"
   ]
  },
  {
   "cell_type": "code",
   "execution_count": 30,
   "metadata": {},
   "outputs": [
    {
     "data": {
      "text/plain": [
       "13394"
      ]
     },
     "execution_count": 30,
     "metadata": {},
     "output_type": "execute_result"
    }
   ],
   "source": [
    "len(train)"
   ]
  },
  {
   "cell_type": "code",
   "execution_count": 31,
   "metadata": {},
   "outputs": [
    {
     "data": {
      "text/plain": [
       "[1050, 874, 904, 1002, 1989, 1011, 1834, 1385, 2129, 1216]"
      ]
     },
     "execution_count": 31,
     "metadata": {},
     "output_type": "execute_result"
    },
    {
     "data": {
      "image/png": "[encoded data removed]",
      "text/plain": [
       "<matplotlib.figure.Figure at 0x7efc033736d0>"
      ]
     },
     "metadata": {},
     "output_type": "display_data"
    }
   ],
   "source": [
    "TRAIN_CLASSES = map(int, plt.hist(zip(*train)[1])[0])\n",
    "TRAIN_CLASSES"
   ]
  },
  {
   "cell_type": "code",
   "execution_count": 32,
   "metadata": {},
   "outputs": [
    {
     "data": {
      "text/plain": [
       "0.5894786284640676"
      ]
     },
     "execution_count": 32,
     "metadata": {},
     "output_type": "execute_result"
    }
   ],
   "source": [
    "M = max(TRAIN_CLASSES)\n",
    "m = min(TRAIN_CLASSES)\n",
    "(M - m) / float(M)"
   ]
  },
  {
   "cell_type": "markdown",
   "metadata": {},
   "source": [
    "### remove the most \"unlikely resolutions\", i.e. with maximal $d(\\text{img}, \\text{class})=\\min_{r \\in R_{\\text{class}}}\\min\\{\\|r_{\\text{img}}-r\\|_2, \\|r_{\\text{img}}-r_{\\text{rotated}}\\|_2\\}$, $r=\\begin{pmatrix} h \\\\ w \\end{pmatrix}$"
   ]
  },
  {
   "cell_type": "code",
   "execution_count": 33,
   "metadata": {
    "collapsed": true
   },
   "outputs": [],
   "source": [
    "def resolutions(): # with all possible rotations\n",
    "    return [\n",
    "        [(1520, 2688), (2688, 1520)],\n",
    "        [(3024, 4032), (4032, 3024)],\n",
    "        [(2432, 4320), (4320, 2432)],\n",
    "        [(1040, 780), (3088, 4130), (4130, 3088), (3120, 4160), (4160, 3120)],\n",
    "        [(3120, 4160), (4160, 3120), (4160, 2340)],\n",
    "        [(4128, 2322)],\n",
    "        [(4128, 2322)],\n",
    "        [(6000, 4000)],\n",
    "        [(3264, 2448)],\n",
    "        [(3264, 2448)],\n",
    "    ]"
   ]
  },
  {
   "cell_type": "code",
   "execution_count": 34,
   "metadata": {
    "collapsed": true
   },
   "outputs": [],
   "source": [
    "def distance(res, c):\n",
    "    return min(min([np.sqrt((res[0]-r[0])**2+(res[1]-r[1])**2) for r in resolutions()[c]]),\n",
    "               min([np.sqrt((res[0]-r[1])**2+(res[1]-r[0])**2) for r in resolutions()[c]]))"
   ]
  },
  {
   "cell_type": "code",
   "execution_count": 35,
   "metadata": {},
   "outputs": [
    {
     "data": {
      "text/plain": [
       "5314"
      ]
     },
     "execution_count": 35,
     "metadata": {},
     "output_type": "execute_result"
    }
   ],
   "source": [
    "len(filter(lambda (x,y,q,r,rv): rv, train)) # with correct resolutions"
   ]
  },
  {
   "cell_type": "code",
   "execution_count": 36,
   "metadata": {},
   "outputs": [
    {
     "data": {
      "text/plain": [
       "8080"
      ]
     },
     "execution_count": 36,
     "metadata": {},
     "output_type": "execute_result"
    }
   ],
   "source": [
    "len(filter(lambda (x,y,q,r,rv): not rv, train))"
   ]
  },
  {
   "cell_type": "markdown",
   "metadata": {},
   "source": [
    "### e.g., \"incorrect iphone4s resolutions\""
   ]
  },
  {
   "cell_type": "code",
   "execution_count": 37,
   "metadata": {},
   "outputs": [
    {
     "data": {
      "image/png": "[encoded data removed]",
      "text/plain": [
       "<matplotlib.figure.Figure at 0x7efc03373cd0>"
      ]
     },
     "metadata": {},
     "output_type": "display_data"
    }
   ],
   "source": [
    "incorrect_iphone4s = filter(lambda (x,y,q,r,rv): not rv and y == 8, train)\n",
    "dists = map(lambda (x,y,q,r,rv): distance(r, 8), incorrect_iphone4s)\n",
    "dists.sort()\n",
    "plt.hist(dists, bins=24);"
   ]
  },
  {
   "cell_type": "code",
   "execution_count": 38,
   "metadata": {},
   "outputs": [
    {
     "data": {
      "text/plain": [
       "[1655.9619560847405,\n",
       " 1631.9571072794774,\n",
       " 1593.5294161075283,\n",
       " 1584.788944938726,\n",
       " 1584.0012626257594,\n",
       " 1580.0,\n",
       " 1580.0,\n",
       " 1580.0,\n",
       " 1580.0,\n",
       " 1580.0]"
      ]
     },
     "execution_count": 38,
     "metadata": {},
     "output_type": "execute_result"
    }
   ],
   "source": [
    "dists[::-1][40:50]"
   ]
  },
  {
   "cell_type": "code",
   "execution_count": 39,
   "metadata": {},
   "outputs": [
    {
     "data": {
      "text/plain": [
       "0.026346604215456676"
      ]
     },
     "execution_count": 39,
     "metadata": {},
     "output_type": "execute_result"
    }
   ],
   "source": [
    "sum(np.asarray(dists) > 1581.)/float(len(dists))"
   ]
  },
  {
   "cell_type": "code",
   "execution_count": 40,
   "metadata": {},
   "outputs": [
    {
     "data": {
      "text/plain": [
       "0.38114754098360654"
      ]
     },
     "execution_count": 40,
     "metadata": {},
     "output_type": "execute_result"
    }
   ],
   "source": [
    "sum(np.asarray(dists) > 1.)/float(len(dists)) # 0 means simply landscape photos"
   ]
  },
  {
   "cell_type": "code",
   "execution_count": 41,
   "metadata": {},
   "outputs": [
    {
     "data": {
      "text/plain": [
       "[(u'../data/glebs-train/train/iPhone-4s/38290361134_d74e19efa3_o.jpg',\n",
       "  8,\n",
       "  96,\n",
       "  [1698, 1858],\n",
       "  False),\n",
       " (u'../data/esato-com/train/iPhone-4s/201303121858b24wEX.jpg',\n",
       "  8,\n",
       "  96,\n",
       "  [2498, 4848],\n",
       "  False),\n",
       " (u'../data/esato-com/train/iPhone-4s/201212020931H43XZV.jpg',\n",
       "  8,\n",
       "  96,\n",
       "  [2446, 4848],\n",
       "  False),\n",
       " (u'../data/glebs-train/train/iPhone-4s/24694324078_3435e21cd7_o.jpg',\n",
       "  8,\n",
       "  99,\n",
       "  [1500, 2000],\n",
       "  False),\n",
       " (u'../data/glebs-train/train/iPhone-4s/24694337928_76c70409b6_o.jpg',\n",
       "  8,\n",
       "  99,\n",
       "  [1500, 2000],\n",
       "  False),\n",
       " (u'../data/glebs-train/train/iPhone-4s/24694339268_a86b1ce6cd_o.jpg',\n",
       "  8,\n",
       "  99,\n",
       "  [1500, 2000],\n",
       "  False),\n",
       " (u'../data/glebs-train/train/iPhone-4s/24694350208_4cf3f1ea52_o.jpg',\n",
       "  8,\n",
       "  99,\n",
       "  [1500, 2000],\n",
       "  False),\n",
       " (u'../data/glebs-train/train/iPhone-4s/24694359098_9ae4375750_o.jpg',\n",
       "  8,\n",
       "  99,\n",
       "  [1500, 2000],\n",
       "  False)]"
      ]
     },
     "execution_count": 41,
     "metadata": {},
     "output_type": "execute_result"
    }
   ],
   "source": [
    "incorrect_iphone4s.sort(key=lambda (x,y,q,r,rv): -distance(r,8))\n",
    "incorrect_iphone4s[42:50]"
   ]
  },
  {
   "cell_type": "code",
   "execution_count": 42,
   "metadata": {},
   "outputs": [
    {
     "name": "stdout",
     "output_type": "stream",
     "text": [
      "12743\n"
     ]
    },
    {
     "data": {
      "text/plain": [
       "[1050, 874, 904, 1002, 1989, 1011, 1834, 1385, 1478, 1216]"
      ]
     },
     "execution_count": 42,
     "metadata": {},
     "output_type": "execute_result"
    },
    {
     "data": {
      "image/png": "[encoded data removed]",
      "text/plain": [
       "<matplotlib.figure.Figure at 0x7efc03950690>"
      ]
     },
     "metadata": {},
     "output_type": "display_data"
    }
   ],
   "source": [
    "train = filter(lambda (x,y,q,r,rv): y != 8 or (y == 8 and (rv or (not rv and distance(r, 8) < 1.))), train)\n",
    "print len(train)\n",
    "TRAIN_CLASSES = map(int, plt.hist(zip(*train)[1])[0])\n",
    "TRAIN_CLASSES"
   ]
  },
  {
   "cell_type": "markdown",
   "metadata": {},
   "source": [
    "### incorrect Samsung-Galaxy-S4 resolutions"
   ]
  },
  {
   "cell_type": "code",
   "execution_count": 43,
   "metadata": {},
   "outputs": [
    {
     "data": {
      "image/png": "[encoded data removed]",
      "text/plain": [
       "<matplotlib.figure.Figure at 0x7efc03cf2950>"
      ]
     },
     "metadata": {},
     "output_type": "display_data"
    }
   ],
   "source": [
    "incorrect_S4 = filter(lambda (x,y,q,r,rv): not rv and y == 6, train)\n",
    "dists = map(lambda (x,y,q,r,rv): distance(r, 6), incorrect_S4)\n",
    "dists.sort()\n",
    "plt.hist(dists, bins=24);"
   ]
  },
  {
   "cell_type": "code",
   "execution_count": 44,
   "metadata": {},
   "outputs": [
    {
     "name": "stdout",
     "output_type": "stream",
     "text": [
      "12404\n"
     ]
    },
    {
     "data": {
      "text/plain": [
       "[1050, 874, 904, 1002, 1989, 1011, 1495, 1385, 1478, 1216]"
      ]
     },
     "execution_count": 44,
     "metadata": {},
     "output_type": "execute_result"
    },
    {
     "data": {
      "image/png": "[encoded data removed]",
      "text/plain": [
       "<matplotlib.figure.Figure at 0x7efc03cf2c50>"
      ]
     },
     "metadata": {},
     "output_type": "display_data"
    }
   ],
   "source": [
    "train = filter(lambda (x,y,q,r,rv): y != 6 or (y == 6 and (rv or (not rv and distance(r, 6) < 1.))), train)\n",
    "print len(train)\n",
    "TRAIN_CLASSES = map(int, plt.hist(zip(*train)[1])[0])\n",
    "TRAIN_CLASSES"
   ]
  },
  {
   "cell_type": "markdown",
   "metadata": {},
   "source": [
    "### incorrect Motorola-X resolutions"
   ]
  },
  {
   "cell_type": "code",
   "execution_count": 45,
   "metadata": {},
   "outputs": [
    {
     "name": "stdout",
     "output_type": "stream",
     "text": [
      "1713\n"
     ]
    },
    {
     "data": {
      "image/png": "[encoded data removed]",
      "text/plain": [
       "<matplotlib.figure.Figure at 0x7efc03ce3990>"
      ]
     },
     "metadata": {},
     "output_type": "display_data"
    }
   ],
   "source": [
    "c = 4\n",
    "incorrect = filter(lambda (x,y,q,r,rv): not rv and y == c, train)\n",
    "print len(incorrect)\n",
    "dists = map(lambda (x,y,q,r,rv): distance(r, c), incorrect)\n",
    "dists.sort()\n",
    "plt.hist(dists, bins=24);"
   ]
  },
  {
   "cell_type": "code",
   "execution_count": 46,
   "metadata": {},
   "outputs": [
    {
     "name": "stdout",
     "output_type": "stream",
     "text": [
      "[184.56435192094924, 184.56435192094924, 184.56435192094924, 184.56435192094924, 184.56435192094924, 184.56435192094924, 184.56435192094924, 184.56435192094924, 184.56435192094924, 184.56435192094924]\n"
     ]
    }
   ],
   "source": [
    "c = 4\n",
    "dists = map(lambda (x,y,q,r,rv): distance(r, c), incorrect)\n",
    "dists.sort()\n",
    "print dists[500:510]"
   ]
  },
  {
   "cell_type": "code",
   "execution_count": 47,
   "metadata": {},
   "outputs": [
    {
     "data": {
      "text/plain": [
       "[(u'../data/glebs-train/train/Motorola-X/24800884010_e8a4414391_o.jpg',\n",
       "  4,\n",
       "  95,\n",
       "  [2432, 4320],\n",
       "  False),\n",
       " (u'../data/glebs-train/train/Motorola-X/24801148050_c2e5e2bc3b_o.jpg',\n",
       "  4,\n",
       "  95,\n",
       "  [2432, 4320],\n",
       "  False),\n",
       " (u'../data/glebs-train/train/Motorola-X/24886935300_260bef7313_o.jpg',\n",
       "  4,\n",
       "  95,\n",
       "  [2432, 4320],\n",
       "  False),\n",
       " (u'../data/glebs-train/train/Motorola-X/24908486461_4b67737261_o.jpg',\n",
       "  4,\n",
       "  95,\n",
       "  [2432, 4320],\n",
       "  False),\n",
       " (u'../data/glebs-train/train/Motorola-X/24917793486_a84a24dd28_o.jpg',\n",
       "  4,\n",
       "  95,\n",
       "  [4320, 2432],\n",
       "  False),\n",
       " (u'../data/glebs-train/train/Motorola-X/24978362412_198f73d5df_o.jpg',\n",
       "  4,\n",
       "  95,\n",
       "  [2432, 4320],\n",
       "  False),\n",
       " (u'../data/glebs-train/train/Motorola-X/25003330771_e554aa4e98_o.jpg',\n",
       "  4,\n",
       "  95,\n",
       "  [4320, 2432],\n",
       "  False),\n",
       " (u'../data/glebs-train/train/Motorola-X/25003677326_f67c4fb2fa_o.jpg',\n",
       "  4,\n",
       "  95,\n",
       "  [2432, 4320],\n",
       "  False),\n",
       " (u'../data/glebs-train/train/Motorola-X/25033310134_a18f64e4e0_o.jpg',\n",
       "  4,\n",
       "  95,\n",
       "  [4320, 2432],\n",
       "  False),\n",
       " (u'../data/glebs-train/train/Motorola-X/25033332724_18718bc9cc_o.jpg',\n",
       "  4,\n",
       "  95,\n",
       "  [2432, 4320],\n",
       "  False)]"
      ]
     },
     "execution_count": 47,
     "metadata": {},
     "output_type": "execute_result"
    }
   ],
   "source": [
    "incorrect.sort(key=lambda (x,y,q,r,rv): distance(r,4))\n",
    "incorrect[500:510]"
   ]
  },
  {
   "cell_type": "markdown",
   "metadata": {},
   "source": [
    "### add images with Droid Maxx resolution to its class\n",
    "### UPD: no"
   ]
  },
  {
   "cell_type": "code",
   "execution_count": 48,
   "metadata": {
    "collapsed": true
   },
   "outputs": [],
   "source": [
    "# new_train = []\n",
    "# for x,y,q,r,rv in train:\n",
    "#     if y == 4 and r and distance(r, 2) < 0.01:\n",
    "#         new_train.append((x,2,q,r,rv))\n",
    "#     else:\n",
    "#         new_train.append((x,y,q,r,rv))\n",
    "# train = new_train"
   ]
  },
  {
   "cell_type": "markdown",
   "metadata": {},
   "source": [
    "### filter Moto X"
   ]
  },
  {
   "cell_type": "code",
   "execution_count": 49,
   "metadata": {},
   "outputs": [
    {
     "name": "stdout",
     "output_type": "stream",
     "text": [
      "11013\n"
     ]
    },
    {
     "data": {
      "text/plain": [
       "[1050, 874, 904, 1002, 598, 1011, 1495, 1385, 1478, 1216]"
      ]
     },
     "execution_count": 49,
     "metadata": {},
     "output_type": "execute_result"
    },
    {
     "data": {
      "image/png": "[encoded data removed]",
      "text/plain": [
       "<matplotlib.figure.Figure at 0x7efc035d6d90>"
      ]
     },
     "metadata": {},
     "output_type": "display_data"
    }
   ],
   "source": [
    "c = 4\n",
    "train = filter(lambda (x,y,q,r,rv): y != c or (y == c and (rv or (not rv and distance(r, c) < 1.))), train)\n",
    "print len(train)\n",
    "TRAIN_CLASSES = map(int, plt.hist(zip(*train)[1])[0])\n",
    "TRAIN_CLASSES"
   ]
  },
  {
   "cell_type": "markdown",
   "metadata": {},
   "source": [
    "### class 2"
   ]
  },
  {
   "cell_type": "code",
   "execution_count": 50,
   "metadata": {},
   "outputs": [
    {
     "name": "stdout",
     "output_type": "stream",
     "text": [
      "103\n"
     ]
    },
    {
     "data": {
      "image/png": "[encoded data removed]",
      "text/plain": [
       "<matplotlib.figure.Figure at 0x7efc048790d0>"
      ]
     },
     "metadata": {},
     "output_type": "display_data"
    }
   ],
   "source": [
    "c = 2\n",
    "incorrect = filter(lambda (x,y,q,r,rv): not rv and y == c, train)\n",
    "print len(incorrect)\n",
    "dists = map(lambda (x,y,q,r,rv): distance(r, c), incorrect)\n",
    "dists.sort()\n",
    "plt.hist(dists, bins=24);"
   ]
  },
  {
   "cell_type": "code",
   "execution_count": 51,
   "metadata": {},
   "outputs": [
    {
     "name": "stdout",
     "output_type": "stream",
     "text": [
      "[719.0, 1088.0294113671744, 1088.0294113671744, 1088.0294113671744, 1088.0294113671744, 1088.0294113671744, 1088.0294113671744, 1088.0294113671744, 1088.0294113671744, 1088.0294113671744, 1088.0294113671744, 1088.0294113671744, 1088.0294113671744, 1174.0, 1176.0, 1203.0, 1256.2280843859526, 1283.0763812026157, 1453.0, 1472.0, 1544.0, 1559.0, 1609.0, 1622.0, 1635.4170721867863, 1733.0, 1737.0, 1748.0, 1773.0, 1774.8605579030709]\n"
     ]
    }
   ],
   "source": [
    "c = 2\n",
    "dists = map(lambda (x,y,q,r,rv): distance(r, c), incorrect)\n",
    "dists.sort()\n",
    "print dists[:30]"
   ]
  },
  {
   "cell_type": "code",
   "execution_count": 52,
   "metadata": {},
   "outputs": [
    {
     "name": "stdout",
     "output_type": "stream",
     "text": [
      "10910\n"
     ]
    },
    {
     "data": {
      "text/plain": [
       "[1050, 874, 801, 1002, 598, 1011, 1495, 1385, 1478, 1216]"
      ]
     },
     "execution_count": 52,
     "metadata": {},
     "output_type": "execute_result"
    },
    {
     "data": {
      "image/png": "[encoded data removed]",
      "text/plain": [
       "<matplotlib.figure.Figure at 0x7efc04127850>"
      ]
     },
     "metadata": {},
     "output_type": "display_data"
    }
   ],
   "source": [
    "c = 2\n",
    "train = filter(lambda (x,y,q,r,rv): y != c or (y == c and (rv or (not rv and distance(r, c) < 0.1))), train)\n",
    "print len(train)\n",
    "TRAIN_CLASSES = map(int, plt.hist(zip(*train)[1])[0])\n",
    "TRAIN_CLASSES"
   ]
  },
  {
   "cell_type": "markdown",
   "metadata": {},
   "source": [
    "### class 9"
   ]
  },
  {
   "cell_type": "code",
   "execution_count": 53,
   "metadata": {},
   "outputs": [
    {
     "name": "stdout",
     "output_type": "stream",
     "text": [
      "781\n"
     ]
    },
    {
     "data": {
      "image/png": "[encoded data removed]",
      "text/plain": [
       "<matplotlib.figure.Figure at 0x7efc04b61b90>"
      ]
     },
     "metadata": {},
     "output_type": "display_data"
    }
   ],
   "source": [
    "c = 9\n",
    "incorrect = filter(lambda (x,y,q,r,rv): not rv and y == c, train)\n",
    "print len(incorrect)\n",
    "dists = map(lambda (x,y,q,r,rv): distance(r, c), incorrect)\n",
    "dists.sort()\n",
    "plt.hist(dists, bins=24);"
   ]
  },
  {
   "cell_type": "code",
   "execution_count": 54,
   "metadata": {},
   "outputs": [
    {
     "name": "stdout",
     "output_type": "stream",
     "text": [
      "10788\n"
     ]
    },
    {
     "data": {
      "text/plain": [
       "[1050, 874, 801, 1002, 598, 1011, 1495, 1385, 1478, 1094]"
      ]
     },
     "execution_count": 54,
     "metadata": {},
     "output_type": "execute_result"
    },
    {
     "data": {
      "image/png": "[encoded data removed]",
      "text/plain": [
       "<matplotlib.figure.Figure at 0x7efc03aeaf90>"
      ]
     },
     "metadata": {},
     "output_type": "display_data"
    }
   ],
   "source": [
    "c = 9\n",
    "train = filter(lambda (x,y,q,r,rv): y != c or (y == c and (rv or (not rv and distance(r, c) < 1.))), train)\n",
    "print len(train)\n",
    "TRAIN_CLASSES = map(int, plt.hist(zip(*train)[1])[0])\n",
    "TRAIN_CLASSES"
   ]
  },
  {
   "cell_type": "markdown",
   "metadata": {},
   "source": [
    "### class 7"
   ]
  },
  {
   "cell_type": "code",
   "execution_count": 55,
   "metadata": {},
   "outputs": [
    {
     "name": "stdout",
     "output_type": "stream",
     "text": [
      "1082\n"
     ]
    },
    {
     "data": {
      "image/png": "[encoded data removed]",
      "text/plain": [
       "<matplotlib.figure.Figure at 0x7efc03b0b650>"
      ]
     },
     "metadata": {},
     "output_type": "display_data"
    }
   ],
   "source": [
    "c = 7\n",
    "incorrect = filter(lambda (x,y,q,r,rv): not rv and y == c, train)\n",
    "print len(incorrect)\n",
    "dists = map(lambda (x,y,q,r,rv): distance(r, c), incorrect)\n",
    "dists.sort()\n",
    "plt.hist(dists, bins=24);"
   ]
  },
  {
   "cell_type": "code",
   "execution_count": 56,
   "metadata": {},
   "outputs": [
    {
     "data": {
      "text/plain": [
       "[(u'../data/glebs-train/train/Sony-NEX-7/24513930567_55f14618b1_o.jpg',\n",
       "  7,\n",
       "  100,\n",
       "  [3744, 5617],\n",
       "  False),\n",
       " (u'../data/glebs-train/train/Sony-NEX-7/38142165914_cda10d75f7_o.jpg',\n",
       "  7,\n",
       "  99,\n",
       "  [3540, 6000],\n",
       "  False),\n",
       " (u'../data/glebs-train/train/Sony-NEX-7/38685299801_bef6ff20fb_o.jpg',\n",
       "  7,\n",
       "  96,\n",
       "  [3750, 5625],\n",
       "  False),\n",
       " (u'../data/glebs-train/train/Sony-NEX-7/37541197882_14bca12c58_o.jpg',\n",
       "  7,\n",
       "  99,\n",
       "  [5635, 3737],\n",
       "  False),\n",
       " (u'../data/glebs-train/train/Sony-NEX-7/38653248512_b91ed4e845_o.jpg',\n",
       "  7,\n",
       "  96,\n",
       "  [5630, 3753],\n",
       "  False),\n",
       " (u'../data/glebs-train/train/Sony-NEX-7/37967530344_a1f8336856_o.jpg',\n",
       "  7,\n",
       "  96,\n",
       "  [5646, 3764],\n",
       "  False),\n",
       " (u'../data/glebs-train/train/Sony-NEX-7/37112580226_c98fb4c5c2_o.jpg',\n",
       "  7,\n",
       "  96,\n",
       "  [5600, 4000],\n",
       "  False),\n",
       " (u'../data/glebs-train/train/Sony-NEX-7/38110805492_fa9f7b999a_o.jpg',\n",
       "  7,\n",
       "  93,\n",
       "  [3603, 6000],\n",
       "  False),\n",
       " (u'../data/glebs-train/train/Sony-NEX-7/37967044094_7f21ef19e5_o.jpg',\n",
       "  7,\n",
       "  96,\n",
       "  [5697, 3798],\n",
       "  False),\n",
       " (u'../data/glebs-train/train/Sony-NEX-7/26909773289_d85a255141_o.jpg',\n",
       "  7,\n",
       "  96,\n",
       "  [3809, 5714],\n",
       "  False),\n",
       " (u'../data/glebs-train/train/Sony-NEX-7/38653228162_597508f187_o.jpg',\n",
       "  7,\n",
       "  96,\n",
       "  [3813, 5720],\n",
       "  False),\n",
       " (u'../data/glebs-train/train/Sony-NEX-7/37875538205_8d31186cf8_o.jpg',\n",
       "  7,\n",
       "  99,\n",
       "  [5710, 3832],\n",
       "  False),\n",
       " (u'../data/glebs-train/train/Sony-NEX-7/38653315692_653366e3b9_o.jpg',\n",
       "  7,\n",
       "  96,\n",
       "  [3821, 5731],\n",
       "  False),\n",
       " (u'../data/glebs-train/train/Sony-NEX-7/38814039471_3e9b8b18b1_o.jpg',\n",
       "  7,\n",
       "  99,\n",
       "  [3835, 5752],\n",
       "  False),\n",
       " (u'../data/glebs-train/train/Sony-NEX-7/24813019838_94e5739e02_o.jpg',\n",
       "  7,\n",
       "  96,\n",
       "  [3854, 5781],\n",
       "  False),\n",
       " (u'../data/glebs-train/train/Sony-NEX-7/26908977599_cea849c600_o.jpg',\n",
       "  7,\n",
       "  96,\n",
       "  [3854, 5781],\n",
       "  False),\n",
       " (u'../data/glebs-train/train/Sony-NEX-7/38685792691_ab7e0b4847_o.jpg',\n",
       "  7,\n",
       "  96,\n",
       "  [5789, 3859],\n",
       "  False),\n",
       " (u'../data/glebs-train/train/Sony-NEX-7/37179667870_fa1a221716_o.jpg',\n",
       "  7,\n",
       "  93,\n",
       "  [3757, 5988],\n",
       "  False),\n",
       " (u'../data/glebs-train/train/Sony-NEX-7/37797496805_e318a775bc_o.jpg',\n",
       "  7,\n",
       "  96,\n",
       "  [3865, 5798],\n",
       "  False),\n",
       " (u'../data/glebs-train/train/Sony-NEX-7/37797917115_65e841023e_o.jpg',\n",
       "  7,\n",
       "  96,\n",
       "  [5798, 3865],\n",
       "  False),\n",
       " (u'../data/glebs-train/train/Sony-NEX-7/38685830931_7ba83a9700_o.jpg',\n",
       "  7,\n",
       "  96,\n",
       "  [3865, 5798],\n",
       "  False),\n",
       " (u'../data/glebs-train/train/Sony-NEX-7/37875536925_dfd55732fa_o.jpg',\n",
       "  7,\n",
       "  99,\n",
       "  [3810, 5878],\n",
       "  False),\n",
       " (u'../data/glebs-train/train/Sony-NEX-7/37875545235_fac44a3c7d_o.jpg',\n",
       "  7,\n",
       "  99,\n",
       "  [3812, 5908],\n",
       "  False),\n",
       " (u'../data/glebs-train/train/Sony-NEX-7/26909041769_f03c692a91_o.jpg',\n",
       "  7,\n",
       "  96,\n",
       "  [3888, 5832],\n",
       "  False),\n",
       " (u'../data/glebs-train/train/Sony-NEX-7/24544949827_3b53c0085e_o.jpg',\n",
       "  7,\n",
       "  100,\n",
       "  [3888, 5833],\n",
       "  False),\n",
       " (u'../data/glebs-train/train/Sony-NEX-7/26986545869_c0cb61bef1_o.jpg',\n",
       "  7,\n",
       "  99,\n",
       "  [3833, 5912],\n",
       "  False),\n",
       " (u'../data/glebs-train/train/Sony-NEX-7/38685813721_c9fc810953_o.jpg',\n",
       "  7,\n",
       "  96,\n",
       "  [5848, 3899],\n",
       "  False),\n",
       " (u'../data/glebs-train/train/Sony-NEX-7/26909017229_5c434145b3_o.jpg',\n",
       "  7,\n",
       "  96,\n",
       "  [5848, 3899],\n",
       "  False),\n",
       " (u'../data/glebs-train/train/Sony-NEX-7/26909532029_0cfe6aeeb7_o.jpg',\n",
       "  7,\n",
       "  96,\n",
       "  [5848, 3899],\n",
       "  False),\n",
       " (u'../data/glebs-train/train/Sony-NEX-7/24812938958_b12e9a1c23_o.jpg',\n",
       "  7,\n",
       "  96,\n",
       "  [5849, 3899],\n",
       "  False),\n",
       " (u'../data/glebs-train/train/Sony-NEX-7/24812936948_7574fa719b_o.jpg',\n",
       "  7,\n",
       "  96,\n",
       "  [5856, 3904],\n",
       "  False),\n",
       " (u'../data/glebs-train/train/Sony-NEX-7/26986562239_38e8c7b642_o.jpg',\n",
       "  7,\n",
       "  99,\n",
       "  [5860, 3904],\n",
       "  False),\n",
       " (u'../data/glebs-train/train/Sony-NEX-7/38533117315_53ba74e244_o.jpg',\n",
       "  7,\n",
       "  100,\n",
       "  [3911, 5867],\n",
       "  False),\n",
       " (u'../data/glebs-train/train/Sony-NEX-7/24513794497_ee37c03cd9_o.jpg',\n",
       "  7,\n",
       "  100,\n",
       "  [3922, 5884],\n",
       "  False),\n",
       " (u'../data/glebs-train/train/Sony-NEX-7/26626262579_1b3caef0f6_o.jpg',\n",
       "  7,\n",
       "  99,\n",
       "  [4000, 5887],\n",
       "  False),\n",
       " (u'../data/glebs-train/train/Sony-NEX-7/24813154588_60f1db51d2_o.jpg',\n",
       "  7,\n",
       "  96,\n",
       "  [5916, 3944],\n",
       "  False),\n",
       " (u'../data/glebs-train/train/Sony-NEX-7/38652752822_012f38046e_o.jpg',\n",
       "  7,\n",
       "  96,\n",
       "  [5950, 3967],\n",
       "  False),\n",
       " (u'../data/glebs-train/train/Sony-NEX-7/36601955143_61e746acc8_o.jpg',\n",
       "  7,\n",
       "  99,\n",
       "  [5981, 3987],\n",
       "  False),\n",
       " (u'../data/glebs-train/train/Sony-NEX-7/38685802261_a64f2ff2e9_o.jpg',\n",
       "  7,\n",
       "  96,\n",
       "  [5992, 3995],\n",
       "  False),\n",
       " (u'../data/esato-com/train/Sony-NEX-7/201308281543a07Z13.jpg',\n",
       "  7,\n",
       "  95,\n",
       "  [4000, 6000],\n",
       "  False),\n",
       " (u'../data/esato-com/train/Sony-NEX-7/201308281542u833tY.jpg',\n",
       "  7,\n",
       "  95,\n",
       "  [4000, 6000],\n",
       "  False),\n",
       " (u'../data/glebs-train/train/Sony-NEX-7/37593141095_b2c6bfbf69_o.jpg',\n",
       "  7,\n",
       "  95,\n",
       "  [4000, 6000],\n",
       "  False),\n",
       " (u'../data/glebs-train/train/Sony-NEX-7/37593143425_d0f70773d0_o.jpg',\n",
       "  7,\n",
       "  95,\n",
       "  [4000, 6000],\n",
       "  False),\n",
       " (u'../data/glebs-train/train/Sony-NEX-7/37593144275_659d2cd101_o.jpg',\n",
       "  7,\n",
       "  95,\n",
       "  [4000, 6000],\n",
       "  False),\n",
       " (u'../data/glebs-train/train/Sony-NEX-7/37593154265_f155f028fc_o.jpg',\n",
       "  7,\n",
       "  95,\n",
       "  [4000, 6000],\n",
       "  False),\n",
       " (u'../data/glebs-train/train/Sony-NEX-7/37593155425_0cc03bfe4b_o.jpg',\n",
       "  7,\n",
       "  95,\n",
       "  [4000, 6000],\n",
       "  False),\n",
       " (u'../data/glebs-train/train/Sony-NEX-7/37593156215_e813738885_o.jpg',\n",
       "  7,\n",
       "  95,\n",
       "  [4000, 6000],\n",
       "  False),\n",
       " (u'../data/glebs-train/train/Sony-NEX-7/37593157235_5c58eb5e1a_o.jpg',\n",
       "  7,\n",
       "  95,\n",
       "  [4000, 6000],\n",
       "  False),\n",
       " (u'../data/glebs-train/train/Sony-NEX-7/37593159505_63cc78c811_o.jpg',\n",
       "  7,\n",
       "  95,\n",
       "  [4000, 6000],\n",
       "  False),\n",
       " (u'../data/glebs-train/train/Sony-NEX-7/37593162095_d092743582_o.jpg',\n",
       "  7,\n",
       "  95,\n",
       "  [4000, 6000],\n",
       "  False)]"
      ]
     },
     "execution_count": 56,
     "metadata": {},
     "output_type": "execute_result"
    }
   ],
   "source": [
    "dists[500:600]\n",
    "incorrect.sort(key=lambda (x,y,q,r,rv): -distance(r,c))\n",
    "incorrect[550:600]"
   ]
  },
  {
   "cell_type": "code",
   "execution_count": 57,
   "metadata": {},
   "outputs": [
    {
     "name": "stdout",
     "output_type": "stream",
     "text": [
      "10199\n"
     ]
    },
    {
     "data": {
      "text/plain": [
       "[1050, 874, 801, 1002, 598, 1011, 1495, 796, 1478, 1094]"
      ]
     },
     "execution_count": 57,
     "metadata": {},
     "output_type": "execute_result"
    },
    {
     "data": {
      "image/png": "[encoded data removed]",
      "text/plain": [
       "<matplotlib.figure.Figure at 0x7efc03b9fe10>"
      ]
     },
     "metadata": {},
     "output_type": "display_data"
    }
   ],
   "source": [
    "c = 7\n",
    "train = filter(lambda (x,y,q,r,rv): y != c or (y == c and (rv or (not rv and distance(r, c) < 1.))), train)\n",
    "print len(train)\n",
    "TRAIN_CLASSES = map(int, plt.hist(zip(*train)[1])[0])\n",
    "TRAIN_CLASSES"
   ]
  },
  {
   "cell_type": "markdown",
   "metadata": {},
   "source": [
    "### class 5"
   ]
  },
  {
   "cell_type": "code",
   "execution_count": 58,
   "metadata": {},
   "outputs": [
    {
     "name": "stdout",
     "output_type": "stream",
     "text": [
      "726\n"
     ]
    },
    {
     "data": {
      "image/png": "[encoded data removed]",
      "text/plain": [
       "<matplotlib.figure.Figure at 0x7efc03b27610>"
      ]
     },
     "metadata": {},
     "output_type": "display_data"
    }
   ],
   "source": [
    "c = 5\n",
    "incorrect = filter(lambda (x,y,q,r,rv): not rv and y == c, train)\n",
    "print len(incorrect)\n",
    "dists = map(lambda (x,y,q,r,rv): distance(r, c), incorrect)\n",
    "dists.sort()\n",
    "plt.hist(dists, bins=24);"
   ]
  },
  {
   "cell_type": "code",
   "execution_count": 59,
   "metadata": {},
   "outputs": [
    {
     "data": {
      "text/plain": [
       "[0.0,\n",
       " 0.0,\n",
       " 0.0,\n",
       " 0.0,\n",
       " 0.0,\n",
       " 0.0,\n",
       " 0.0,\n",
       " 0.0,\n",
       " 0.0,\n",
       " 0.0,\n",
       " 0.0,\n",
       " 0.0,\n",
       " 0.0,\n",
       " 0.0,\n",
       " 0.0,\n",
       " 0.0,\n",
       " 0.0,\n",
       " 0.0,\n",
       " 0.0,\n",
       " 0.0,\n",
       " 0.0,\n",
       " 0.0,\n",
       " 0.0,\n",
       " 0.0,\n",
       " 0.0,\n",
       " 0.0,\n",
       " 0.0,\n",
       " 0.0,\n",
       " 0.0,\n",
       " 0.0,\n",
       " 0.0,\n",
       " 0.0,\n",
       " 0.0,\n",
       " 0.0,\n",
       " 0.0,\n",
       " 0.0,\n",
       " 0.0,\n",
       " 0.0,\n",
       " 0.0,\n",
       " 0.0,\n",
       " 0.0,\n",
       " 0.0,\n",
       " 0.0,\n",
       " 0.0,\n",
       " 0.0,\n",
       " 0.0,\n",
       " 0.0,\n",
       " 0.0,\n",
       " 0.0,\n",
       " 0.0,\n",
       " 0.0,\n",
       " 0.0,\n",
       " 0.0,\n",
       " 0.0,\n",
       " 0.0,\n",
       " 0.0,\n",
       " 0.0,\n",
       " 0.0,\n",
       " 0.0,\n",
       " 0.0,\n",
       " 0.0,\n",
       " 0.0,\n",
       " 0.0,\n",
       " 0.0,\n",
       " 0.0,\n",
       " 0.0,\n",
       " 0.0,\n",
       " 0.0,\n",
       " 0.0,\n",
       " 0.0,\n",
       " 0.0,\n",
       " 0.0,\n",
       " 0.0,\n",
       " 0.0,\n",
       " 0.0,\n",
       " 0.0,\n",
       " 0.0,\n",
       " 0.0,\n",
       " 0.0,\n",
       " 0.0,\n",
       " 0.0,\n",
       " 0.0,\n",
       " 0.0,\n",
       " 0.0,\n",
       " 0.0,\n",
       " 0.0,\n",
       " 0.0,\n",
       " 0.0,\n",
       " 0.0,\n",
       " 0.0,\n",
       " 0.0,\n",
       " 0.0,\n",
       " 0.0,\n",
       " 0.0,\n",
       " 0.0,\n",
       " 0.0,\n",
       " 0.0,\n",
       " 0.0,\n",
       " 0.0,\n",
       " 0.0,\n",
       " 0.0,\n",
       " 0.0,\n",
       " 0.0,\n",
       " 0.0,\n",
       " 0.0,\n",
       " 0.0,\n",
       " 0.0,\n",
       " 0.0,\n",
       " 0.0,\n",
       " 0.0,\n",
       " 0.0,\n",
       " 0.0,\n",
       " 0.0,\n",
       " 0.0,\n",
       " 0.0,\n",
       " 0.0,\n",
       " 27.784887978899608,\n",
       " 51.97114584074513,\n",
       " 66.483080554378645,\n",
       " 112.37882362794157,\n",
       " 210.48752932181043,\n",
       " 211.3575170179665,\n",
       " 245.93495074917675,\n",
       " 256.13473017144707,\n",
       " 300.91194725367751,\n",
       " 331.0,\n",
       " 361.81348786356762,\n",
       " 376.72403692889043,\n",
       " 477.89538604175704,\n",
       " 489.00102249381854,\n",
       " 558.73517877434563,\n",
       " 569.3856338194704,\n",
       " 610.0,\n",
       " 636.08804422029505,\n",
       " 649.359684612465,\n",
       " 654.03440276486981,\n",
       " 680.0,\n",
       " 702.65923462230251,\n",
       " 706.85571370683567,\n",
       " 774.0,\n",
       " 774.0,\n",
       " 774.0,\n",
       " 774.0,\n",
       " 774.0,\n",
       " 774.0,\n",
       " 774.0,\n",
       " 774.0,\n",
       " 774.0,\n",
       " 774.0,\n",
       " 774.0,\n",
       " 774.0,\n",
       " 774.0,\n",
       " 774.0,\n",
       " 774.0,\n",
       " 774.0,\n",
       " 774.0,\n",
       " 774.0,\n",
       " 774.0,\n",
       " 774.0,\n",
       " 774.0,\n",
       " 774.0,\n",
       " 774.0,\n",
       " 774.0,\n",
       " 774.0,\n",
       " 774.0,\n",
       " 774.0,\n",
       " 774.0,\n",
       " 774.0,\n",
       " 774.0,\n",
       " 774.0,\n",
       " 774.0,\n",
       " 774.0,\n",
       " 774.0,\n",
       " 774.0,\n",
       " 774.0,\n",
       " 774.0,\n",
       " 774.0,\n",
       " 774.0,\n",
       " 774.0,\n",
       " 774.0,\n",
       " 774.0,\n",
       " 774.0,\n",
       " 774.0,\n",
       " 774.0,\n",
       " 774.0,\n",
       " 774.0,\n",
       " 774.0,\n",
       " 774.0,\n",
       " 774.0,\n",
       " 774.0,\n",
       " 774.0,\n",
       " 774.0,\n",
       " 774.0,\n",
       " 774.0,\n",
       " 774.0,\n",
       " 774.0,\n",
       " 774.0,\n",
       " 774.0,\n",
       " 774.0,\n",
       " 774.0,\n",
       " 774.0,\n",
       " 774.0,\n",
       " 774.0,\n",
       " 774.0,\n",
       " 774.0,\n",
       " 774.0,\n",
       " 774.0,\n",
       " 774.0,\n",
       " 774.0,\n",
       " 774.0,\n",
       " 774.0,\n",
       " 774.0,\n",
       " 774.0,\n",
       " 774.0,\n",
       " 774.0,\n",
       " 774.0,\n",
       " 774.0,\n",
       " 774.0,\n",
       " 774.0,\n",
       " 774.0,\n",
       " 774.0,\n",
       " 774.0,\n",
       " 774.0,\n",
       " 774.0,\n",
       " 774.0,\n",
       " 774.0,\n",
       " 774.0,\n",
       " 774.0,\n",
       " 774.0,\n",
       " 774.0,\n",
       " 774.0,\n",
       " 774.0,\n",
       " 774.0,\n",
       " 774.0,\n",
       " 774.0,\n",
       " 774.0,\n",
       " 774.0,\n",
       " 774.0,\n",
       " 774.0,\n",
       " 774.0,\n",
       " 774.0,\n",
       " 774.0,\n",
       " 774.0,\n",
       " 774.0,\n",
       " 774.0,\n",
       " 774.0,\n",
       " 774.0,\n",
       " 873.13916416571305,\n",
       " 873.13916416571305,\n",
       " 873.13916416571305,\n",
       " 873.13916416571305,\n",
       " 873.13916416571305,\n",
       " 873.13916416571305,\n",
       " 873.13916416571305,\n",
       " 873.13916416571305,\n",
       " 873.13916416571305,\n",
       " 873.13916416571305,\n",
       " 873.13916416571305,\n",
       " 873.13916416571305,\n",
       " 873.13916416571305,\n",
       " 873.13916416571305,\n",
       " 873.13916416571305,\n",
       " 873.13916416571305,\n",
       " 873.13916416571305,\n",
       " 873.13916416571305,\n",
       " 873.13916416571305,\n",
       " 873.13916416571305,\n",
       " 873.13916416571305,\n",
       " 873.13916416571305,\n",
       " 873.13916416571305,\n",
       " 873.13916416571305,\n",
       " 873.13916416571305,\n",
       " 873.13916416571305,\n",
       " 873.13916416571305,\n",
       " 873.13916416571305,\n",
       " 873.13916416571305,\n",
       " 873.13916416571305,\n",
       " 873.13916416571305,\n",
       " 873.13916416571305,\n",
       " 873.13916416571305,\n",
       " 873.13916416571305,\n",
       " 873.13916416571305,\n",
       " 873.13916416571305,\n",
       " 873.13916416571305,\n",
       " 873.13916416571305,\n",
       " 873.13916416571305,\n",
       " 873.13916416571305,\n",
       " 873.13916416571305,\n",
       " 873.13916416571305,\n",
       " 873.13916416571305,\n",
       " 873.13916416571305,\n",
       " 873.13916416571305,\n",
       " 873.13916416571305,\n",
       " 873.13916416571305,\n",
       " 873.13916416571305,\n",
       " 873.13916416571305,\n",
       " 873.13916416571305,\n",
       " 873.13916416571305,\n",
       " 873.13916416571305,\n",
       " 873.13916416571305,\n",
       " 873.13916416571305,\n",
       " 873.13916416571305,\n",
       " 873.13916416571305,\n",
       " 873.13916416571305,\n",
       " 873.13916416571305,\n",
       " 873.13916416571305,\n",
       " 873.13916416571305,\n",
       " 873.13916416571305,\n",
       " 873.13916416571305,\n",
       " 873.13916416571305,\n",
       " 873.13916416571305,\n",
       " 873.13916416571305,\n",
       " 873.13916416571305,\n",
       " 873.13916416571305,\n",
       " 873.13916416571305,\n",
       " 873.13916416571305,\n",
       " 873.13916416571305,\n",
       " 873.13916416571305,\n",
       " 873.13916416571305,\n",
       " 873.13916416571305,\n",
       " 873.13916416571305,\n",
       " 873.13916416571305,\n",
       " 873.13916416571305,\n",
       " 873.13916416571305,\n",
       " 873.13916416571305,\n",
       " 873.13916416571305,\n",
       " 873.13916416571305,\n",
       " 873.13916416571305,\n",
       " 873.13916416571305,\n",
       " 873.13916416571305,\n",
       " 873.13916416571305,\n",
       " 873.13916416571305,\n",
       " 873.13916416571305,\n",
       " 873.13916416571305,\n",
       " 873.13916416571305,\n",
       " 873.13916416571305,\n",
       " 873.13916416571305,\n",
       " 873.13916416571305,\n",
       " 873.13916416571305,\n",
       " 873.13916416571305,\n",
       " 873.13916416571305,\n",
       " 873.13916416571305,\n",
       " 873.13916416571305,\n",
       " 873.13916416571305,\n",
       " 873.13916416571305,\n",
       " 873.13916416571305,\n",
       " 873.13916416571305,\n",
       " 873.13916416571305,\n",
       " 873.13916416571305,\n",
       " 873.13916416571305,\n",
       " 873.13916416571305,\n",
       " 873.13916416571305,\n",
       " 873.13916416571305,\n",
       " 873.13916416571305,\n",
       " 873.13916416571305,\n",
       " 873.13916416571305,\n",
       " 873.13916416571305,\n",
       " 873.13916416571305,\n",
       " 873.13916416571305,\n",
       " 873.13916416571305,\n",
       " 873.13916416571305,\n",
       " 873.13916416571305,\n",
       " 873.13916416571305,\n",
       " 873.13916416571305,\n",
       " 873.13916416571305,\n",
       " 873.13916416571305,\n",
       " 873.13916416571305,\n",
       " 873.13916416571305,\n",
       " 873.13916416571305,\n",
       " 873.13916416571305,\n",
       " 873.13916416571305,\n",
       " 873.13916416571305,\n",
       " 873.13916416571305,\n",
       " 873.13916416571305,\n",
       " 873.13916416571305,\n",
       " 873.13916416571305,\n",
       " 873.13916416571305,\n",
       " 873.13916416571305,\n",
       " 873.13916416571305,\n",
       " 873.13916416571305,\n",
       " 873.13916416571305,\n",
       " 873.13916416571305,\n",
       " 873.13916416571305,\n",
       " 873.13916416571305,\n",
       " 873.13916416571305,\n",
       " 873.13916416571305,\n",
       " 873.13916416571305,\n",
       " 873.13916416571305,\n",
       " 873.13916416571305,\n",
       " 873.13916416571305,\n",
       " 873.13916416571305,\n",
       " 873.13916416571305,\n",
       " 873.13916416571305,\n",
       " 873.13916416571305,\n",
       " 873.13916416571305,\n",
       " 873.13916416571305,\n",
       " 873.13916416571305,\n",
       " 873.13916416571305,\n",
       " 873.13916416571305,\n",
       " 873.13916416571305,\n",
       " 873.13916416571305,\n",
       " 873.13916416571305,\n",
       " 873.13916416571305,\n",
       " 873.13916416571305,\n",
       " 873.13916416571305,\n",
       " 873.13916416571305,\n",
       " 873.13916416571305,\n",
       " 873.13916416571305,\n",
       " 873.13916416571305,\n",
       " 873.13916416571305,\n",
       " 873.13916416571305,\n",
       " 873.13916416571305,\n",
       " 873.13916416571305,\n",
       " 873.13916416571305,\n",
       " 873.13916416571305,\n",
       " 873.13916416571305,\n",
       " 873.13916416571305,\n",
       " 873.13916416571305,\n",
       " 873.13916416571305,\n",
       " 873.13916416571305,\n",
       " 873.13916416571305,\n",
       " 873.13916416571305,\n",
       " 873.13916416571305,\n",
       " 873.13916416571305,\n",
       " 873.13916416571305,\n",
       " 873.13916416571305,\n",
       " 873.13916416571305,\n",
       " 873.13916416571305,\n",
       " 873.13916416571305,\n",
       " 873.13916416571305,\n",
       " 873.13916416571305,\n",
       " 873.13916416571305,\n",
       " 873.13916416571305,\n",
       " 873.13916416571305,\n",
       " 873.13916416571305,\n",
       " 873.13916416571305,\n",
       " 873.13916416571305,\n",
       " 873.13916416571305,\n",
       " 873.13916416571305,\n",
       " 873.13916416571305,\n",
       " 873.13916416571305,\n",
       " 873.13916416571305,\n",
       " 873.13916416571305,\n",
       " 873.13916416571305,\n",
       " 873.13916416571305,\n",
       " 873.13916416571305,\n",
       " 873.13916416571305,\n",
       " 873.13916416571305,\n",
       " 873.13916416571305,\n",
       " 873.13916416571305,\n",
       " 873.13916416571305,\n",
       " 873.13916416571305,\n",
       " 873.13916416571305,\n",
       " 873.13916416571305,\n",
       " 873.13916416571305,\n",
       " 873.13916416571305,\n",
       " 873.13916416571305,\n",
       " 873.13916416571305,\n",
       " 873.13916416571305,\n",
       " 873.13916416571305,\n",
       " 873.13916416571305,\n",
       " 873.13916416571305,\n",
       " 873.13916416571305,\n",
       " 873.13916416571305,\n",
       " 873.13916416571305,\n",
       " 873.13916416571305,\n",
       " 873.13916416571305,\n",
       " 873.13916416571305,\n",
       " 873.13916416571305,\n",
       " 873.13916416571305,\n",
       " 873.13916416571305,\n",
       " 873.13916416571305,\n",
       " 873.13916416571305,\n",
       " 873.13916416571305,\n",
       " 873.13916416571305,\n",
       " 873.13916416571305,\n",
       " 873.13916416571305,\n",
       " 873.13916416571305,\n",
       " 873.13916416571305,\n",
       " 873.13916416571305,\n",
       " 873.13916416571305,\n",
       " 873.13916416571305,\n",
       " 873.13916416571305,\n",
       " 873.13916416571305,\n",
       " 873.13916416571305,\n",
       " 873.13916416571305,\n",
       " 873.13916416571305,\n",
       " 873.13916416571305,\n",
       " 873.13916416571305,\n",
       " 873.13916416571305,\n",
       " 873.13916416571305,\n",
       " 873.13916416571305,\n",
       " 873.13916416571305,\n",
       " 873.13916416571305,\n",
       " 873.13916416571305,\n",
       " 873.13916416571305,\n",
       " 873.13916416571305,\n",
       " 873.13916416571305,\n",
       " 873.13916416571305,\n",
       " 873.13916416571305,\n",
       " 873.13916416571305,\n",
       " 873.13916416571305,\n",
       " 873.13916416571305,\n",
       " 873.13916416571305,\n",
       " 873.13916416571305,\n",
       " 873.13916416571305,\n",
       " 873.13916416571305,\n",
       " 873.13916416571305,\n",
       " 873.13916416571305,\n",
       " 873.13916416571305,\n",
       " 873.13916416571305,\n",
       " 873.13916416571305,\n",
       " 873.13916416571305,\n",
       " 873.13916416571305,\n",
       " 873.13916416571305,\n",
       " 873.13916416571305,\n",
       " 873.13916416571305,\n",
       " 873.13916416571305,\n",
       " 873.13916416571305,\n",
       " 873.13916416571305,\n",
       " 873.13916416571305,\n",
       " 873.13916416571305,\n",
       " 873.13916416571305,\n",
       " 873.13916416571305,\n",
       " 873.13916416571305,\n",
       " 873.13916416571305,\n",
       " 873.13916416571305,\n",
       " 873.13916416571305,\n",
       " 873.13916416571305,\n",
       " 873.13916416571305,\n",
       " 873.13916416571305,\n",
       " 873.13916416571305,\n",
       " 873.13916416571305,\n",
       " 873.13916416571305,\n",
       " 873.13916416571305,\n",
       " 873.13916416571305,\n",
       " 873.13916416571305,\n",
       " 873.13916416571305,\n",
       " 873.13916416571305,\n",
       " 873.13916416571305,\n",
       " 873.13916416571305,\n",
       " 873.13916416571305,\n",
       " 873.13916416571305,\n",
       " 873.13916416571305,\n",
       " 873.13916416571305,\n",
       " 873.13916416571305,\n",
       " 873.13916416571305,\n",
       " 873.13916416571305,\n",
       " 873.13916416571305,\n",
       " 873.13916416571305,\n",
       " 873.13916416571305,\n",
       " 873.13916416571305,\n",
       " 873.13916416571305,\n",
       " 873.13916416571305,\n",
       " 873.13916416571305,\n",
       " 873.13916416571305,\n",
       " 873.13916416571305,\n",
       " 873.13916416571305,\n",
       " 873.13916416571305,\n",
       " 873.13916416571305,\n",
       " 873.13916416571305,\n",
       " 873.13916416571305,\n",
       " 873.13916416571305,\n",
       " 873.13916416571305,\n",
       " 873.13916416571305,\n",
       " 873.13916416571305,\n",
       " 873.13916416571305,\n",
       " 873.13916416571305,\n",
       " 873.13916416571305,\n",
       " 873.13916416571305,\n",
       " 873.13916416571305,\n",
       " 873.13916416571305,\n",
       " 873.13916416571305,\n",
       " 873.13916416571305,\n",
       " 873.13916416571305,\n",
       " 873.13916416571305,\n",
       " 873.13916416571305,\n",
       " 919.47158738049109,\n",
       " 919.47158738049109,\n",
       " 987.07243908438659,\n",
       " 991.30822653703422,\n",
       " 991.30822653703422,\n",
       " 991.30822653703422,\n",
       " 991.30822653703422,\n",
       " 991.30822653703422,\n",
       " 991.30822653703422,\n",
       " 991.30822653703422,\n",
       " 991.30822653703422,\n",
       " 991.30822653703422,\n",
       " 991.30822653703422,\n",
       " 991.30822653703422,\n",
       " 991.30822653703422,\n",
       " 991.30822653703422,\n",
       " 991.30822653703422,\n",
       " 991.30822653703422,\n",
       " 991.30822653703422,\n",
       " 991.30822653703422,\n",
       " 991.30822653703422,\n",
       " 991.30822653703422,\n",
       " 991.30822653703422,\n",
       " 991.30822653703422,\n",
       " 991.30822653703422,\n",
       " 991.30822653703422,\n",
       " 991.30822653703422,\n",
       " 991.30822653703422,\n",
       " 991.30822653703422,\n",
       " 991.30822653703422,\n",
       " 991.30822653703422,\n",
       " 991.30822653703422,\n",
       " 991.30822653703422,\n",
       " 991.30822653703422,\n",
       " 991.30822653703422,\n",
       " 991.30822653703422,\n",
       " 991.30822653703422,\n",
       " 991.30822653703422,\n",
       " 991.30822653703422,\n",
       " 991.30822653703422,\n",
       " 991.30822653703422,\n",
       " 991.30822653703422,\n",
       " 991.30822653703422,\n",
       " 991.30822653703422,\n",
       " 991.30822653703422,\n",
       " 991.30822653703422,\n",
       " 991.30822653703422,\n",
       " 991.30822653703422,\n",
       " 991.30822653703422,\n",
       " 991.30822653703422,\n",
       " 991.30822653703422,\n",
       " 991.30822653703422,\n",
       " 991.30822653703422,\n",
       " 991.30822653703422,\n",
       " 991.30822653703422,\n",
       " 991.30822653703422,\n",
       " 991.30822653703422,\n",
       " 991.30822653703422,\n",
       " 991.30822653703422,\n",
       " 991.30822653703422,\n",
       " 991.30822653703422,\n",
       " 991.30822653703422,\n",
       " 991.30822653703422,\n",
       " 991.30822653703422,\n",
       " 991.30822653703422,\n",
       " 991.30822653703422,\n",
       " 991.30822653703422,\n",
       " 991.30822653703422,\n",
       " 991.30822653703422,\n",
       " 991.30822653703422,\n",
       " 991.30822653703422,\n",
       " 991.30822653703422,\n",
       " 991.30822653703422,\n",
       " 991.30822653703422,\n",
       " 991.30822653703422,\n",
       " 991.30822653703422,\n",
       " 991.30822653703422,\n",
       " 991.30822653703422,\n",
       " 991.30822653703422,\n",
       " 991.30822653703422,\n",
       " 991.30822653703422,\n",
       " 991.30822653703422,\n",
       " 991.30822653703422,\n",
       " 991.30822653703422,\n",
       " 991.30822653703422,\n",
       " 991.30822653703422,\n",
       " 991.30822653703422,\n",
       " 991.30822653703422,\n",
       " 991.30822653703422,\n",
       " 991.30822653703422,\n",
       " 991.30822653703422,\n",
       " 991.30822653703422,\n",
       " 991.30822653703422,\n",
       " 991.30822653703422,\n",
       " 991.30822653703422,\n",
       " 991.30822653703422,\n",
       " 991.30822653703422,\n",
       " 991.30822653703422,\n",
       " 991.30822653703422,\n",
       " 991.30822653703422,\n",
       " 991.30822653703422,\n",
       " 991.30822653703422,\n",
       " 991.30822653703422,\n",
       " 991.30822653703422,\n",
       " 991.30822653703422,\n",
       " 991.30822653703422,\n",
       " 991.30822653703422,\n",
       " 991.30822653703422,\n",
       " 991.30822653703422,\n",
       " 1068.0,\n",
       " 1200.0,\n",
       " 1211.5989435452641,\n",
       " 1248.4826790949085,\n",
       " 1325.5738380037531,\n",
       " 1330.8771543609876,\n",
       " 1331.1397372176973,\n",
       " 1348.2863197407291,\n",
       " 1396.8435846579243,\n",
       " 1425.3059320721288,\n",
       " 1553.5951853684408,\n",
       " 1618.7118335268942,\n",
       " 1783.1850717185807,\n",
       " 2240.1901704989245,\n",
       " 2240.1901704989245,\n",
       " 2240.1901704989245,\n",
       " 2240.1901704989245,\n",
       " 2240.1901704989245,\n",
       " 2240.1901704989245,\n",
       " 2240.1901704989245,\n",
       " 2240.1901704989245,\n",
       " 2240.1901704989245,\n",
       " 2240.1901704989245,\n",
       " 2240.1901704989245,\n",
       " 2240.1901704989245,\n",
       " 2240.1901704989245,\n",
       " 2246.0650035116973,\n",
       " 2377.6433710714482,\n",
       " 2389.5145950590049,\n",
       " 2465.6481906387212,\n",
       " 2533.3432455946431,\n",
       " 2533.3432455946431,\n",
       " 2619.1983506408978,\n",
       " 2643.598305340658,\n",
       " 3210.4834526905756,\n",
       " 3915.9975740544069,\n",
       " 4759.2541432455573,\n",
       " 4791.6948984675555,\n",
       " 4861.0744697031741,\n",
       " 5029.1315353647296]"
      ]
     },
     "execution_count": 59,
     "metadata": {},
     "output_type": "execute_result"
    }
   ],
   "source": [
    "dists"
   ]
  },
  {
   "cell_type": "code",
   "execution_count": 60,
   "metadata": {},
   "outputs": [
    {
     "data": {
      "text/plain": [
       "[991.30822653703422,\n",
       " 991.30822653703422,\n",
       " 991.30822653703422,\n",
       " 991.30822653703422,\n",
       " 991.30822653703422,\n",
       " 991.30822653703422,\n",
       " 991.30822653703422,\n",
       " 991.30822653703422,\n",
       " 991.30822653703422,\n",
       " 991.30822653703422,\n",
       " 991.30822653703422,\n",
       " 991.30822653703422,\n",
       " 991.30822653703422,\n",
       " 991.30822653703422,\n",
       " 991.30822653703422,\n",
       " 991.30822653703422,\n",
       " 991.30822653703422,\n",
       " 991.30822653703422,\n",
       " 991.30822653703422,\n",
       " 991.30822653703422,\n",
       " 991.30822653703422,\n",
       " 991.30822653703422,\n",
       " 991.30822653703422,\n",
       " 991.30822653703422,\n",
       " 991.30822653703422,\n",
       " 991.30822653703422,\n",
       " 991.30822653703422,\n",
       " 991.30822653703422,\n",
       " 991.30822653703422,\n",
       " 991.30822653703422,\n",
       " 991.30822653703422,\n",
       " 991.30822653703422,\n",
       " 991.30822653703422,\n",
       " 991.30822653703422,\n",
       " 991.30822653703422,\n",
       " 991.30822653703422,\n",
       " 991.30822653703422,\n",
       " 991.30822653703422,\n",
       " 991.30822653703422,\n",
       " 991.30822653703422,\n",
       " 991.30822653703422,\n",
       " 991.30822653703422,\n",
       " 991.30822653703422,\n",
       " 991.30822653703422,\n",
       " 991.30822653703422,\n",
       " 991.30822653703422,\n",
       " 991.30822653703422,\n",
       " 991.30822653703422,\n",
       " 991.30822653703422,\n",
       " 991.30822653703422,\n",
       " 991.30822653703422,\n",
       " 991.30822653703422,\n",
       " 991.30822653703422,\n",
       " 991.30822653703422,\n",
       " 991.30822653703422,\n",
       " 991.30822653703422,\n",
       " 991.30822653703422,\n",
       " 991.30822653703422,\n",
       " 991.30822653703422,\n",
       " 991.30822653703422,\n",
       " 1068.0,\n",
       " 1200.0,\n",
       " 1211.5989435452641,\n",
       " 1248.4826790949085,\n",
       " 1325.5738380037531,\n",
       " 1330.8771543609876,\n",
       " 1331.1397372176973,\n",
       " 1348.2863197407291,\n",
       " 1396.8435846579243,\n",
       " 1425.3059320721288,\n",
       " 1553.5951853684408,\n",
       " 1618.7118335268942,\n",
       " 1783.1850717185807,\n",
       " 2240.1901704989245,\n",
       " 2240.1901704989245,\n",
       " 2240.1901704989245,\n",
       " 2240.1901704989245,\n",
       " 2240.1901704989245,\n",
       " 2240.1901704989245,\n",
       " 2240.1901704989245,\n",
       " 2240.1901704989245,\n",
       " 2240.1901704989245,\n",
       " 2240.1901704989245,\n",
       " 2240.1901704989245,\n",
       " 2240.1901704989245,\n",
       " 2240.1901704989245,\n",
       " 2246.0650035116973,\n",
       " 2377.6433710714482,\n",
       " 2389.5145950590049,\n",
       " 2465.6481906387212,\n",
       " 2533.3432455946431,\n",
       " 2533.3432455946431,\n",
       " 2619.1983506408978,\n",
       " 2643.598305340658,\n",
       " 3210.4834526905756,\n",
       " 3915.9975740544069,\n",
       " 4759.2541432455573,\n",
       " 4791.6948984675555,\n",
       " 4861.0744697031741,\n",
       " 5029.1315353647296]"
      ]
     },
     "execution_count": 60,
     "metadata": {},
     "output_type": "execute_result"
    }
   ],
   "source": [
    "dists[-100:]#, dists[230:260]"
   ]
  },
  {
   "cell_type": "code",
   "execution_count": 61,
   "metadata": {},
   "outputs": [
    {
     "data": {
      "text/plain": [
       "[(u'../data/glebs-train/train/Samsung-Galaxy-Note3/35117222025_ef03a23839_o.jpg',\n",
       "  5,\n",
       "  96,\n",
       "  [1836, 3264],\n",
       "  False),\n",
       " (u'../data/glebs-train/train/Samsung-Galaxy-Note3/35117222445_45b64bb3fe_o.jpg',\n",
       "  5,\n",
       "  96,\n",
       "  [1836, 3264],\n",
       "  False),\n",
       " (u'../data/glebs-train/train/Samsung-Galaxy-Note3/35117222905_5aa70485e9_o.jpg',\n",
       "  5,\n",
       "  96,\n",
       "  [1836, 3264],\n",
       "  False),\n",
       " (u'../data/glebs-train/train/Samsung-Galaxy-Note3/35231019683_321c9f0a34_o.jpg',\n",
       "  5,\n",
       "  93,\n",
       "  [3264, 1836],\n",
       "  False),\n",
       " (u'../data/glebs-train/train/Samsung-Galaxy-Note3/35569476706_12ecc6623c_o.jpg',\n",
       "  5,\n",
       "  96,\n",
       "  [1836, 3264],\n",
       "  False),\n",
       " (u'../data/glebs-train/train/Samsung-Galaxy-Note3/35754448775_772a29eaca_o.jpg',\n",
       "  5,\n",
       "  96,\n",
       "  [1836, 3264],\n",
       "  False),\n",
       " (u'../data/glebs-train/train/Samsung-Galaxy-Note3/35999662456_1cbe0bb2b5_o.jpg',\n",
       "  5,\n",
       "  93,\n",
       "  [1836, 3264],\n",
       "  False),\n",
       " (u'../data/glebs-train/train/Samsung-Galaxy-Note3/36041325785_0c7c5e0d6b_o.jpg',\n",
       "  5,\n",
       "  93,\n",
       "  [1836, 3264],\n",
       "  False),\n",
       " (u'../data/glebs-train/train/Samsung-Galaxy-Note3/36536643154_869c0d8f86_o.jpg',\n",
       "  5,\n",
       "  96,\n",
       "  [1836, 3264],\n",
       "  False),\n",
       " (u'../data/glebs-train/train/Samsung-Galaxy-Note3/36539428774_6bb1436645_o.jpg',\n",
       "  5,\n",
       "  96,\n",
       "  [3264, 1836],\n",
       "  False)]"
      ]
     },
     "execution_count": 61,
     "metadata": {},
     "output_type": "execute_result"
    }
   ],
   "source": [
    "incorrect.sort(key=lambda (x,y,q,r,rv): -distance(r,5))\n",
    "incorrect[130:140]"
   ]
  },
  {
   "cell_type": "markdown",
   "metadata": {},
   "source": [
    "### same ratio as in training set, keep"
   ]
  },
  {
   "cell_type": "code",
   "execution_count": 62,
   "metadata": {},
   "outputs": [
    {
     "name": "stdout",
     "output_type": "stream",
     "text": [
      "10136\n"
     ]
    },
    {
     "data": {
      "text/plain": [
       "[1050, 874, 801, 1002, 598, 948, 1495, 796, 1478, 1094]"
      ]
     },
     "execution_count": 62,
     "metadata": {},
     "output_type": "execute_result"
    },
    {
     "data": {
      "image/png": "[encoded data removed]",
      "text/plain": [
       "<matplotlib.figure.Figure at 0x7efc03c1cc10>"
      ]
     },
     "metadata": {},
     "output_type": "display_data"
    }
   ],
   "source": [
    "c = 5\n",
    "train = filter(lambda (x,y,q,r,rv): y != c or (y == c and (rv or (not rv and ((distance(r, c) < 1.) or (773. < distance(r, c) < 992.))))), train)\n",
    "print len(train)\n",
    "TRAIN_CLASSES = map(int, plt.hist(zip(*train)[1])[0])\n",
    "TRAIN_CLASSES"
   ]
  },
  {
   "cell_type": "markdown",
   "metadata": {},
   "source": [
    "### class 0"
   ]
  },
  {
   "cell_type": "code",
   "execution_count": 63,
   "metadata": {},
   "outputs": [
    {
     "name": "stdout",
     "output_type": "stream",
     "text": [
      "33\n"
     ]
    },
    {
     "data": {
      "image/png": "[encoded data removed]",
      "text/plain": [
       "<matplotlib.figure.Figure at 0x7efc03b00ad0>"
      ]
     },
     "metadata": {},
     "output_type": "display_data"
    }
   ],
   "source": [
    "c = 0\n",
    "incorrect = filter(lambda (x,y,q,r,rv): not rv and y == c, train)\n",
    "print len(incorrect)\n",
    "dists = map(lambda (x,y,q,r,rv): distance(r, c), incorrect)\n",
    "dists.sort()\n",
    "plt.hist(dists, bins=24);"
   ]
  },
  {
   "cell_type": "markdown",
   "metadata": {},
   "source": [
    "#### simply remove all incorrect"
   ]
  },
  {
   "cell_type": "code",
   "execution_count": 64,
   "metadata": {},
   "outputs": [
    {
     "name": "stdout",
     "output_type": "stream",
     "text": [
      "10103\n"
     ]
    },
    {
     "data": {
      "text/plain": [
       "[1017, 874, 801, 1002, 598, 948, 1495, 796, 1478, 1094]"
      ]
     },
     "execution_count": 64,
     "metadata": {},
     "output_type": "execute_result"
    },
    {
     "data": {
      "image/png": "[encoded data removed]",
      "text/plain": [
       "<matplotlib.figure.Figure at 0x7efc76c53e50>"
      ]
     },
     "metadata": {},
     "output_type": "display_data"
    }
   ],
   "source": [
    "c = 0\n",
    "train = filter(lambda (x,y,q,r,rv): y != c or (y == c and rv), train)\n",
    "print len(train)\n",
    "TRAIN_CLASSES = map(int, plt.hist(zip(*train)[1])[0])\n",
    "TRAIN_CLASSES"
   ]
  },
  {
   "cell_type": "markdown",
   "metadata": {},
   "source": [
    "### class 1"
   ]
  },
  {
   "cell_type": "code",
   "execution_count": 65,
   "metadata": {},
   "outputs": [
    {
     "name": "stdout",
     "output_type": "stream",
     "text": [
      "206\n"
     ]
    },
    {
     "data": {
      "image/png": "[encoded data removed]",
      "text/plain": [
       "<matplotlib.figure.Figure at 0x7efc03be0490>"
      ]
     },
     "metadata": {},
     "output_type": "display_data"
    }
   ],
   "source": [
    "c = 1\n",
    "incorrect = filter(lambda (x,y,q,r,rv): not rv and y == c, train)\n",
    "print len(incorrect)\n",
    "dists = map(lambda (x,y,q,r,rv): distance(r, c), incorrect)\n",
    "dists.sort()\n",
    "plt.hist(dists, bins=24);"
   ]
  },
  {
   "cell_type": "code",
   "execution_count": 66,
   "metadata": {},
   "outputs": [
    {
     "data": {
      "text/plain": [
       "[40.0,\n",
       " 45.254833995939045,\n",
       " 45.254833995939045,\n",
       " 45.254833995939045,\n",
       " 45.254833995939045,\n",
       " 45.254833995939045,\n",
       " 45.254833995939045,\n",
       " 45.254833995939045,\n",
       " 45.254833995939045,\n",
       " 45.254833995939045,\n",
       " 45.254833995939045,\n",
       " 45.254833995939045,\n",
       " 45.254833995939045,\n",
       " 45.254833995939045,\n",
       " 45.254833995939045,\n",
       " 45.254833995939045,\n",
       " 45.254833995939045,\n",
       " 45.254833995939045,\n",
       " 45.254833995939045,\n",
       " 45.254833995939045,\n",
       " 45.254833995939045,\n",
       " 45.254833995939045,\n",
       " 45.254833995939045,\n",
       " 45.254833995939045,\n",
       " 45.254833995939045,\n",
       " 45.254833995939045,\n",
       " 45.254833995939045,\n",
       " 45.254833995939045,\n",
       " 45.254833995939045,\n",
       " 45.254833995939045,\n",
       " 45.254833995939045,\n",
       " 45.254833995939045,\n",
       " 45.254833995939045,\n",
       " 45.254833995939045,\n",
       " 45.254833995939045,\n",
       " 45.254833995939045,\n",
       " 45.254833995939045,\n",
       " 45.254833995939045,\n",
       " 45.254833995939045,\n",
       " 45.254833995939045,\n",
       " 45.254833995939045,\n",
       " 45.254833995939045,\n",
       " 45.254833995939045,\n",
       " 45.254833995939045,\n",
       " 45.254833995939045,\n",
       " 45.254833995939045,\n",
       " 45.254833995939045,\n",
       " 45.254833995939045,\n",
       " 45.254833995939045,\n",
       " 45.254833995939045,\n",
       " 45.254833995939045,\n",
       " 45.254833995939045,\n",
       " 45.254833995939045,\n",
       " 45.254833995939045,\n",
       " 45.254833995939045,\n",
       " 45.254833995939045,\n",
       " 45.254833995939045,\n",
       " 45.254833995939045,\n",
       " 45.254833995939045,\n",
       " 45.254833995939045,\n",
       " 45.254833995939045,\n",
       " 45.254833995939045,\n",
       " 45.254833995939045,\n",
       " 45.254833995939045,\n",
       " 45.254833995939045,\n",
       " 45.254833995939045,\n",
       " 45.254833995939045,\n",
       " 45.254833995939045,\n",
       " 45.254833995939045,\n",
       " 45.254833995939045,\n",
       " 45.254833995939045,\n",
       " 45.254833995939045,\n",
       " 45.254833995939045,\n",
       " 45.254833995939045,\n",
       " 45.254833995939045,\n",
       " 45.254833995939045,\n",
       " 45.254833995939045,\n",
       " 45.254833995939045,\n",
       " 45.254833995939045,\n",
       " 45.254833995939045,\n",
       " 45.254833995939045,\n",
       " 45.254833995939045,\n",
       " 45.254833995939045,\n",
       " 45.254833995939045,\n",
       " 45.254833995939045,\n",
       " 45.254833995939045,\n",
       " 45.254833995939045,\n",
       " 45.254833995939045,\n",
       " 45.254833995939045,\n",
       " 65.115282384398824,\n",
       " 80.0,\n",
       " 91.400218818118816,\n",
       " 160.0,\n",
       " 162.80049139974977,\n",
       " 221.40009033421825,\n",
       " 234.20076857260739,\n",
       " 252.0,\n",
       " 252.0,\n",
       " 252.0,\n",
       " 252.0,\n",
       " 252.0,\n",
       " 252.0,\n",
       " 270.0,\n",
       " 293.74819148379453,\n",
       " 307.20026041655626,\n",
       " 371.79698761555346,\n",
       " 390.0,\n",
       " 456.6015768698133,\n",
       " 510.0,\n",
       " 561.426753904728,\n",
       " 561.426753904728,\n",
       " 657.71194302673268,\n",
       " 711.79350938316372,\n",
       " 720.0,\n",
       " 754.67873959718781,\n",
       " 756.67694559831807,\n",
       " 756.67694559831807,\n",
       " 756.67694559831807,\n",
       " 756.67694559831807,\n",
       " 756.67694559831807,\n",
       " 756.67694559831807,\n",
       " 756.67694559831807,\n",
       " 756.67694559831807,\n",
       " 756.67694559831807,\n",
       " 756.67694559831807,\n",
       " 756.67694559831807,\n",
       " 756.67694559831807,\n",
       " 756.67694559831807,\n",
       " 756.67694559831807,\n",
       " 756.67694559831807,\n",
       " 756.67694559831807,\n",
       " 756.67694559831807,\n",
       " 758.0,\n",
       " 786.23406184163764,\n",
       " 838.04832796205733,\n",
       " 872.58695841732583,\n",
       " 880.90862182180967,\n",
       " 880.90862182180967,\n",
       " 880.90862182180967,\n",
       " 885.07626790011716,\n",
       " 885.07626790011716,\n",
       " 885.07626790011716,\n",
       " 885.07626790011716,\n",
       " 885.07626790011716,\n",
       " 885.07626790011716,\n",
       " 885.07626790011716,\n",
       " 885.07626790011716,\n",
       " 885.07626790011716,\n",
       " 885.07626790011716,\n",
       " 968.82609378567008,\n",
       " 1005.0004975123147,\n",
       " 1005.0004975123147,\n",
       " 1005.0004975123147,\n",
       " 1008.0,\n",
       " 1008.0,\n",
       " 1008.0,\n",
       " 1008.0,\n",
       " 1008.0,\n",
       " 1008.0,\n",
       " 1008.0,\n",
       " 1008.0,\n",
       " 1008.0,\n",
       " 1008.0,\n",
       " 1008.0,\n",
       " 1008.0,\n",
       " 1008.0,\n",
       " 1008.0,\n",
       " 1008.0,\n",
       " 1008.0,\n",
       " 1008.0,\n",
       " 1008.0,\n",
       " 1008.0,\n",
       " 1008.0,\n",
       " 1008.0,\n",
       " 1032.2790320451152,\n",
       " 1032.2790320451152,\n",
       " 1084.400295094021,\n",
       " 1093.9492675622578,\n",
       " 1114.6766347241696,\n",
       " 1182.8884140103833,\n",
       " 1333.5853928414183,\n",
       " 1347.4037999055813,\n",
       " 1393.6158007140994,\n",
       " 1424.821743236676,\n",
       " 1434.1659597131707,\n",
       " 1440.3062174412773,\n",
       " 1473.0054310829951,\n",
       " 1548.4185480676729,\n",
       " 1797.2289781772383,\n",
       " 1902.8000420433041,\n",
       " 1910.9788067898608,\n",
       " 2240.0,\n",
       " 2428.4002964914989,\n",
       " 2560.5040519397739,\n",
       " 3030.8101227229658,\n",
       " 3269.7131372644908,\n",
       " 3290.0,\n",
       " 3290.0,\n",
       " 3290.0,\n",
       " 3290.0]"
      ]
     },
     "execution_count": 66,
     "metadata": {},
     "output_type": "execute_result"
    }
   ],
   "source": [
    "dists[:200]"
   ]
  },
  {
   "cell_type": "code",
   "execution_count": 67,
   "metadata": {},
   "outputs": [
    {
     "name": "stdout",
     "output_type": "stream",
     "text": [
      "9986\n"
     ]
    },
    {
     "data": {
      "text/plain": [
       "[1017, 757, 801, 1002, 598, 948, 1495, 796, 1478, 1094]"
      ]
     },
     "execution_count": 67,
     "metadata": {},
     "output_type": "execute_result"
    },
    {
     "data": {
      "image/png": "[encoded data removed]",
      "text/plain": [
       "<matplotlib.figure.Figure at 0x7efc040ecb10>"
      ]
     },
     "metadata": {},
     "output_type": "display_data"
    }
   ],
   "source": [
    "c = 1\n",
    "train = filter(lambda (x,y,q,r,rv): y != c or (y == c and (rv or (not rv and (distance(r, c) < 46.)))), train)\n",
    "print len(train)\n",
    "TRAIN_CLASSES = map(int, plt.hist(zip(*train)[1])[0])\n",
    "TRAIN_CLASSES"
   ]
  },
  {
   "cell_type": "markdown",
   "metadata": {},
   "source": [
    "### class 3"
   ]
  },
  {
   "cell_type": "code",
   "execution_count": 68,
   "metadata": {},
   "outputs": [
    {
     "name": "stdout",
     "output_type": "stream",
     "text": [
      "175\n"
     ]
    },
    {
     "data": {
      "image/png": "[encoded data removed]",
      "text/plain": [
       "<matplotlib.figure.Figure at 0x7efc0491fe50>"
      ]
     },
     "metadata": {},
     "output_type": "display_data"
    }
   ],
   "source": [
    "c = 3\n",
    "incorrect = filter(lambda (x,y,q,r,rv): not rv and y == c, train)\n",
    "print len(incorrect)\n",
    "dists = map(lambda (x,y,q,r,rv): distance(r, c), incorrect)\n",
    "dists.sort()\n",
    "plt.hist(dists, bins=24);"
   ]
  },
  {
   "cell_type": "code",
   "execution_count": 69,
   "metadata": {},
   "outputs": [
    {
     "data": {
      "text/plain": [
       "[30.0,\n",
       " 30.0,\n",
       " 30.0,\n",
       " 30.0,\n",
       " 30.0,\n",
       " 30.0,\n",
       " 30.0,\n",
       " 30.0,\n",
       " 30.0,\n",
       " 30.0,\n",
       " 30.0,\n",
       " 30.0,\n",
       " 30.0,\n",
       " 30.0,\n",
       " 30.0,\n",
       " 30.0,\n",
       " 30.0,\n",
       " 30.0,\n",
       " 30.0,\n",
       " 35.777087639996637,\n",
       " 185.77674773770801,\n",
       " 282.85155117128136,\n",
       " 316.42534664593478,\n",
       " 329.13371143047624,\n",
       " 338.00147928670373,\n",
       " 364.9438312946254,\n",
       " 403.27162062312294,\n",
       " 416.20307543313515,\n",
       " 430.83639586274512,\n",
       " 449.44410108488466]"
      ]
     },
     "execution_count": 69,
     "metadata": {},
     "output_type": "execute_result"
    }
   ],
   "source": [
    "dists[100:130]"
   ]
  },
  {
   "cell_type": "code",
   "execution_count": 70,
   "metadata": {},
   "outputs": [
    {
     "name": "stdout",
     "output_type": "stream",
     "text": [
      "9811\n"
     ]
    },
    {
     "data": {
      "text/plain": [
       "[1017, 757, 801, 827, 598, 948, 1495, 796, 1478, 1094]"
      ]
     },
     "execution_count": 70,
     "metadata": {},
     "output_type": "execute_result"
    },
    {
     "data": {
      "image/png": "[encoded data removed]",
      "text/plain": [
       "<matplotlib.figure.Figure at 0x7efc046fbc50>"
      ]
     },
     "metadata": {},
     "output_type": "display_data"
    }
   ],
   "source": [
    "c = 3\n",
    "train = filter(lambda (x,y,q,r,rv): y != c or (y == c and (rv or (not rv and (distance(r, c) < 1.)))), train)\n",
    "print len(train)\n",
    "TRAIN_CLASSES = map(int, plt.hist(zip(*train)[1])[0])\n",
    "TRAIN_CLASSES"
   ]
  },
  {
   "cell_type": "code",
   "execution_count": 71,
   "metadata": {},
   "outputs": [
    {
     "data": {
      "text/plain": [
       "0.6"
      ]
     },
     "execution_count": 71,
     "metadata": {},
     "output_type": "execute_result"
    }
   ],
   "source": [
    "M = max(TRAIN_CLASSES)\n",
    "m = min(TRAIN_CLASSES)\n",
    "(M - m) / float(M)"
   ]
  },
  {
   "cell_type": "code",
   "execution_count": 72,
   "metadata": {},
   "outputs": [
    {
     "data": {
      "text/plain": [
       "9811"
      ]
     },
     "execution_count": 72,
     "metadata": {},
     "output_type": "execute_result"
    }
   ],
   "source": [
    "len(train)"
   ]
  },
  {
   "cell_type": "markdown",
   "metadata": {},
   "source": [
    "### TODO: finally fill validation set up from filtered train (q $\\geq$ 95)"
   ]
  },
  {
   "cell_type": "code",
   "execution_count": 73,
   "metadata": {},
   "outputs": [
    {
     "data": {
      "text/plain": [
       "[48, 48, 48, 48, 48, 48, 48, 48, 48, 48]"
      ]
     },
     "execution_count": 73,
     "metadata": {},
     "output_type": "execute_result"
    },
    {
     "data": {
      "image/png": "[encoded data removed]",
      "text/plain": [
       "<matplotlib.figure.Figure at 0x7efc08ccc950>"
      ]
     },
     "metadata": {},
     "output_type": "display_data"
    }
   ],
   "source": [
    "RNG(seed=777).shuffle(train)\n",
    "new_train = []\n",
    "for x,y,q,r,rv in train:\n",
    "    VAL_CLASSES = np.bincount(zip(*val)[1])\n",
    "    if q >= 95 and VAL_CLASSES[y] < N_VAL_PER_CLASS:\n",
    "        val.append((x, y))\n",
    "    else:\n",
    "        new_train.append((x,y,q,r,rv))\n",
    "\n",
    "train = new_train\n",
    "        \n",
    "VAL_CLASSES = map(int, plt.hist(zip(*val)[1])[0])\n",
    "VAL_CLASSES"
   ]
  },
  {
   "cell_type": "code",
   "execution_count": 74,
   "metadata": {},
   "outputs": [
    {
     "name": "stdout",
     "output_type": "stream",
     "text": [
      "0.6\n",
      "9691\n"
     ]
    },
    {
     "data": {
      "text/plain": [
       "[1014, 746, 767, 807, 598, 918, 1492, 790, 1478, 1081]"
      ]
     },
     "execution_count": 74,
     "metadata": {},
     "output_type": "execute_result"
    },
    {
     "data": {
      "image/png": "[encoded data removed]",
      "text/plain": [
       "<matplotlib.figure.Figure at 0x7efc04124fd0>"
      ]
     },
     "metadata": {},
     "output_type": "display_data"
    }
   ],
   "source": [
    "M = max(TRAIN_CLASSES)\n",
    "m = min(TRAIN_CLASSES)\n",
    "print (M - m) / float(M)\n",
    "print len(train)\n",
    "\n",
    "TRAIN_CLASSES = map(int, plt.hist(zip(*train)[1])[0])\n",
    "TRAIN_CLASSES"
   ]
  },
  {
   "cell_type": "code",
   "execution_count": 75,
   "metadata": {
    "collapsed": true
   },
   "outputs": [],
   "source": [
    "train_links = {}\n",
    "for i in xrange(10):\n",
    "    train_links[i] = map(lambda (x,y,q,r,rv): x, filter(lambda (x,y,q,r,rv): y == i, train))\n",
    "    RNG(seed=7331 + i).shuffle(train_links[i])"
   ]
  },
  {
   "cell_type": "code",
   "execution_count": 76,
   "metadata": {
    "collapsed": true
   },
   "outputs": [],
   "source": [
    "with open('../data/train_links.json', 'w') as f:\n",
    "    json.dump(train_links, f, indent=4, sort_keys=True)"
   ]
  },
  {
   "cell_type": "code",
   "execution_count": 77,
   "metadata": {
    "collapsed": true
   },
   "outputs": [],
   "source": [
    "import os\n",
    "with open(os.path.join('../data/', 'train_links.json'), 'r') as f:\n",
    "    train_links = json.load(f)"
   ]
  },
  {
   "cell_type": "code",
   "execution_count": 78,
   "metadata": {},
   "outputs": [
    {
     "data": {
      "text/plain": [
       "[u'../data/glebs-train/train/HTC-1-M7/37169644210_9210307256_o.jpg',\n",
       " u'../data/train/HTC-1-M7/(HTC-1-M7)70.jpg',\n",
       " u'../data/train/HTC-1-M7/(HTC-1-M7)101.jpg']"
      ]
     },
     "execution_count": 78,
     "metadata": {},
     "output_type": "execute_result"
    }
   ],
   "source": [
    "train_links['0'][:3]"
   ]
  },
  {
   "cell_type": "code",
   "execution_count": 79,
   "metadata": {
    "collapsed": true
   },
   "outputs": [],
   "source": [
    "for i in xrange(10):\n",
    "    train_links[i] = map(lambda s: os.path.join('data/', s.replace('../data/', '')), train_links[str(i)])\n",
    "    del train_links[str(i)]"
   ]
  },
  {
   "cell_type": "code",
   "execution_count": 80,
   "metadata": {},
   "outputs": [
    {
     "data": {
      "text/plain": [
       "[u'data/glebs-train/train/HTC-1-M7/37169644210_9210307256_o.jpg',\n",
       " u'data/train/HTC-1-M7/(HTC-1-M7)70.jpg',\n",
       " u'data/train/HTC-1-M7/(HTC-1-M7)101.jpg']"
      ]
     },
     "execution_count": 80,
     "metadata": {},
     "output_type": "execute_result"
    }
   ],
   "source": [
    "train_links[0][:3]"
   ]
  },
  {
   "cell_type": "markdown",
   "metadata": {},
   "source": [
    "## now need to crop and to save images to disk, but now cleverer:\n",
    "### $\\approx$ undersampling, save separate blocks (of $\\approx$ same size) for each class"
   ]
  },
  {
   "cell_type": "code",
   "execution_count": 80,
   "metadata": {},
   "outputs": [
    {
     "data": {
      "text/plain": [
       "[21, 16, 16, 17, 12, 19, 31, 16, 31, 23]"
      ]
     },
     "execution_count": 80,
     "metadata": {},
     "output_type": "execute_result"
    }
   ],
   "source": [
    "BLOCK_SIZE = 48\n",
    "N_BLOCKS = [int(np.round(t/float(BLOCK_SIZE))) for t in TRAIN_CLASSES]\n",
    "N_BLOCKS"
   ]
  },
  {
   "cell_type": "code",
   "execution_count": null,
   "metadata": {
    "collapsed": true
   },
   "outputs": [],
   "source": [
    "crop_size = 1024\n",
    "for c in xrange(10):\n",
    "    if c != 3:\n",
    "        continue\n",
    "    class_train = filter(lambda (x,y,q,r,rv): y == c, train)\n",
    "    RNG(seed=7331 + c).shuffle(class_train)\n",
    "    class_blocks = []\n",
    "    for _ in xrange(N_BLOCKS[c]):\n",
    "        class_blocks.append([])\n",
    "    pos = 0\n",
    "    for x,_,_,_,_ in progress_iter(class_train, True):\n",
    "        x = Image.open(x)\n",
    "        w = x.size[0]\n",
    "        h = x.size[1]\n",
    "        x = x.crop((w/2-crop_size/2, h/2-crop_size/2,\n",
    "                    w/2+crop_size/2, h/2+crop_size/2))\n",
    "        class_blocks[pos % N_BLOCKS[c]].append(np.asarray(x, dtype=np.uint8))\n",
    "        pos += 1\n",
    "    for b in xrange(N_BLOCKS[c]):\n",
    "        np.save('../data/X_{0}_{1}.npy'.format(c, b), np.asarray(class_blocks[b], dtype=np.uint8))"
   ]
  },
  {
   "cell_type": "markdown",
   "metadata": {},
   "source": [
    "### save validation set"
   ]
  },
  {
   "cell_type": "code",
   "execution_count": 81,
   "metadata": {},
   "outputs": [
    {
     "data": {
      "text/plain": [
       "480"
      ]
     },
     "execution_count": 81,
     "metadata": {},
     "output_type": "execute_result"
    }
   ],
   "source": [
    "len(val)"
   ]
  },
  {
   "cell_type": "code",
   "execution_count": 82,
   "metadata": {
    "collapsed": true
   },
   "outputs": [],
   "source": [
    "RNG(seed=9999).shuffle(val)"
   ]
  },
  {
   "cell_type": "code",
   "execution_count": 83,
   "metadata": {},
   "outputs": [
    {
     "data": {
      "application/vnd.jupyter.widget-view+json": {
       "model_id": "7df42be07b9e45a896686c40bb310d69",
       "version_major": 2,
       "version_minor": 0
      },
      "text/plain": [
       "A Jupyter Widget"
      ]
     },
     "metadata": {},
     "output_type": "display_data"
    },
    {
     "name": "stdout",
     "output_type": "stream",
     "text": [
      "\n"
     ]
    }
   ],
   "source": [
    "y_val = np.asarray(zip(*val)[1])\n",
    "crop_size = c = 1024\n",
    "X_val = np.zeros((len(y_val), crop_size, crop_size, 3), dtype=np.uint8)\n",
    "pos = 0\n",
    "for x, _ in progress_iter(val, True):\n",
    "    x = Image.open(x)\n",
    "    w = x.size[0]\n",
    "    h = x.size[1]\n",
    "    x = x.crop((w/2-c/2, h/2-c/2,\n",
    "                w/2+c/2, h/2+c/2))\n",
    "    X_val[pos] = np.asarray(x, dtype=np.uint8)\n",
    "    pos += 1\n",
    "np.save('../data/X_val.npy', X_val)\n",
    "np.save('../data/y_val.npy', y_val)"
   ]
  },
  {
   "cell_type": "markdown",
   "metadata": {},
   "source": [
    "### split validation for training, validation"
   ]
  },
  {
   "cell_type": "code",
   "execution_count": 95,
   "metadata": {
    "collapsed": true
   },
   "outputs": [],
   "source": [
    "N_VAL_TRAIN_PER_CLASS = 24\n",
    "N_VAL_TRAIN = N_VAL_TRAIN_PER_CLASS * 10\n",
    "D = 1024\n",
    "d = 512\n",
    "X_val_train = np.zeros((N_VAL_TRAIN, D, D, 3), dtype=np.uint8)\n",
    "X_val_val = np.zeros((len(y_val) - N_VAL_TRAIN, d, d, 3), dtype=np.uint8)\n",
    "y_val_train = []\n",
    "y_val_val = []\n",
    "pos_val_train = 0\n",
    "pos_val_val = 0\n",
    "for i in xrange(len(y_val)):\n",
    "    c = y_val[i]\n",
    "    if y_val_train.count(c) < N_VAL_TRAIN_PER_CLASS:\n",
    "        X_val_train[pos_val_train] = X_val[i]\n",
    "        pos_val_train += 1\n",
    "        y_val_train.append(c)\n",
    "    else:\n",
    "        X_val_val[pos_val_val] = X_val[i][D/2-d/2:D/2+d/2, D/2-d/2:D/2+d/2, :]\n",
    "        pos_val_val += 1\n",
    "        y_val_val.append(c)"
   ]
  },
  {
   "cell_type": "code",
   "execution_count": 106,
   "metadata": {
    "collapsed": true
   },
   "outputs": [],
   "source": [
    "np.save('../data/X_val_train.npy', X_val_train)\n",
    "np.save('../data/y_val_train.npy', np.asarray(y_val_train))\n",
    "np.save('../data/X_val_val.npy', X_val_val)\n",
    "np.save('../data/y_val_val.npy', np.asarray(y_val_val))"
   ]
  },
  {
   "cell_type": "markdown",
   "metadata": {},
   "source": [
    "### [!!!] cyclicly add `X_val_train` to all blocks"
   ]
  },
  {
   "cell_type": "code",
   "execution_count": 107,
   "metadata": {},
   "outputs": [
    {
     "name": "stdout",
     "output_type": "stream",
     "text": [
      "(240, 1024, 1024, 3)\n"
     ]
    }
   ],
   "source": [
    "X_val_train = np.load('../data/X_val_train.npy')\n",
    "y_val_train = np.load('../data/y_val_train.npy')\n",
    "print X_val_train.shape"
   ]
  },
  {
   "cell_type": "code",
   "execution_count": 3,
   "metadata": {
    "collapsed": true
   },
   "outputs": [],
   "source": [
    "N_BLOCKS = [21, 16, 16, 17, 12, 19, 31, 16, 31, 23]"
   ]
  },
  {
   "cell_type": "code",
   "execution_count": 127,
   "metadata": {
    "collapsed": true
   },
   "outputs": [],
   "source": [
    "for c in xrange(10):\n",
    "    print c\n",
    "    c_ind = np.arange(len(y_val_train))[y_val_train == 0]\n",
    "    for block_num, i in enumerate(c_ind):\n",
    "        block_num = block_num % N_BLOCKS[c]\n",
    "        X_block = np.load('X_{0}_{1}.npy'.format(c, block_num))\n",
    "        X_block = np.concatenate((X_block, X_val_train[i].reshape((1, 1024, 1024, 3))))\n",
    "        N_IMAGES_PER_CLASS[c] -= len(X_block)\n",
    "        np.save('X_{0}_{1}.npy'.format(c, block_num), X_block)\n",
    "        \n",
    "print N_IMAGES_PER_CLASS"
   ]
  },
  {
   "cell_type": "markdown",
   "metadata": {},
   "source": [
    "### check count"
   ]
  },
  {
   "cell_type": "code",
   "execution_count": 4,
   "metadata": {
    "collapsed": true
   },
   "outputs": [],
   "source": [
    "N_IMAGES_PER_CLASS = [1014, 746, 767, 807, 598, 918, 1492, 790, 1478, 1081]\n",
    "for i in xrange(10):\n",
    "    N_IMAGES_PER_CLASS[i] += 24"
   ]
  },
  {
   "cell_type": "code",
   "execution_count": null,
   "metadata": {},
   "outputs": [],
   "source": [
    "for c in xrange(10):\n",
    "    for b in xrange(N_BLOCKS[c]):\n",
    "        N_IMAGES_PER_CLASS[c] -= len(np.load('../data/X_{0}_{1}.npy'.format(c, b)))\n",
    "    print c, N_IMAGES_PER_CLASS[c]\n",
    "print N_IMAGES_PER_CLASS"
   ]
  }
 ],
 "metadata": {
  "kernelspec": {
   "display_name": "Python 2",
   "language": "python",
   "name": "python2"
  },
  "language_info": {
   "codemirror_mode": {
    "name": "ipython",
    "version": 2
   },
   "file_extension": ".py",
   "mimetype": "text/x-python",
   "name": "python",
   "nbconvert_exporter": "python",
   "pygments_lexer": "ipython2",
   "version": "2.7.12"
  },
  "latex_envs": {
   "LaTeX_envs_menu_present": true,
   "autocomplete": true,
   "bibliofile": "biblio.bib",
   "cite_by": "apalike",
   "current_citInitial": 1,
   "eqLabelWithNumbers": true,
   "eqNumInitial": 1,
   "hotkeys": {
    "equation": "Ctrl-E",
    "itemize": "Ctrl-I"
   },
   "labels_anchors": false,
   "latex_user_defs": false,
   "report_style_numbering": false,
   "user_envs_cfg": false
  }
 },
 "nbformat": 4,
 "nbformat_minor": 2
}
